{
 "cells": [
  {
   "cell_type": "markdown",
   "metadata": {},
   "source": [
    "鸭子类型（duck typing）：只需要按照预定行为实现对象所需的方法即可\n",
    "\n",
    "Python 提供了两种获取对象的字符串表示形式的方式\n",
    "- repr()\n",
    "    - 便于开发者理解的方式\n",
    "- str()\n",
    "    - 便于用户理解的方式\n",
    "\n",
    "给对象提供其他的表示形式的特殊方法\n",
    "- \\_\\_bytes__\n",
    "    - bytes() 函数调用它获取对象的字节序列表示形式\n",
    "- \\_\\_format__\n",
    "    - format() 函数和 str.format() 方法调用，使用特殊的格式代码显示对象的字符串表示形式\n"
   ]
  },
  {
   "cell_type": "code",
   "execution_count": 1,
   "metadata": {},
   "outputs": [],
   "source": [
    "from array import array\n",
    "import math\n",
    "\n",
    "\n",
    "class Vector2d:\n",
    "    # 类属性，Vector2d 实例和字节序列之间转换时使用\n",
    "    typecode = 'd'\n",
    "    \n",
    "    # 转换成浮点数\n",
    "    def __init__(self, x, y):\n",
    "        self.x = float(x)\n",
    "        self.y = float(y)\n",
    "    \n",
    "    # 可迭代，拆包\n",
    "    def __iter__(self):\n",
    "        return (i for i in (self.x, self.y))\n",
    "    \n",
    "    # 使用 {!r} 获取各个分量的表示形式，然后插值构成字符串\n",
    "    def __repr__(self):\n",
    "        class_name = type(self).__name__\n",
    "        return '{}({!r}, {!r})'.format(class_name, *self)\n",
    "    \n",
    "    # 得到元组\n",
    "    def __str__(self):\n",
    "        return str(tuple(self))\n",
    "\n",
    "    # 字节序列\n",
    "    def __bytes__(self):\n",
    "        return (bytes([ord(self.typecode)]) +  # 转换成字节序列\n",
    "                bytes(array(self.typecode, self)))  # 数组转换成字节序列\n",
    "    \n",
    "    # 比较\n",
    "    # [x] 两个实例都是 Vector2d\n",
    "    # Vector(3, 4) == [3, 4]\n",
    "    def __eq__(self, other):\n",
    "        return tuple(self) == tuple(other)\n",
    "    \n",
    "    # 直角三角形的斜边长\n",
    "    def __abs__(self):\n",
    "        return math.hypot(self.x, self.y)\n",
    "    \n",
    "    # 模\n",
    "    def __bool__(self):\n",
    "        return bool(abs(self))\n",
    "    \n",
    "    # 类方法\n",
    "    @classmethod\n",
    "    def frombytes(cls, octets):  # 通过 cls 传入类本身\n",
    "        typecode = chr(octets[0])  # 从第一个字节中读取 typecode\n",
    "        memv = memoryview(octets[1:]).cast(typecode)  # 从字节序列创建 memoryview ，然后使用 typecode 转换\n",
    "        return cls(*memv)  # 拆包转换后的 memoryview ，得到构造方法所需的一对参数"
   ]
  },
  {
   "cell_type": "code",
   "execution_count": 2,
   "metadata": {},
   "outputs": [],
   "source": [
    "v1 = Vector2d(3, 4)\n",
    "v1"
   ]
  },
  {
   "cell_type": "code",
   "execution_count": 3,
   "metadata": {},
   "outputs": [],
   "source": [
    "# 通过属性访问\n",
    "v1.x, v1.y"
   ]
  },
  {
   "cell_type": "code",
   "execution_count": 4,
   "metadata": {},
   "outputs": [],
   "source": [
    "# 拆包\n",
    "x, y = v1\n",
    "x, y"
   ]
  },
  {
   "cell_type": "code",
   "execution_count": 5,
   "metadata": {},
   "outputs": [],
   "source": [
    "# repr 函数调用 Vector2d 实例得到的是对构造方法的准确描述\n",
    "v1_clone = eval(repr(v1))"
   ]
  },
  {
   "cell_type": "code",
   "execution_count": 6,
   "metadata": {},
   "outputs": [],
   "source": [
    "# 支持 == 比较\n",
    "v1 == v1_clone"
   ]
  },
  {
   "cell_type": "code",
   "execution_count": 7,
   "metadata": {},
   "outputs": [],
   "source": [
    "# 调用 __bytes__ 方法\n",
    "octets = bytes(v1)\n",
    "octets"
   ]
  },
  {
   "cell_type": "code",
   "execution_count": 8,
   "metadata": {},
   "outputs": [
    {
     "data": {
      "text/plain": [
       "5.0"
      ]
     },
     "execution_count": 8,
     "metadata": {},
     "output_type": "execute_result"
    }
   ],
   "source": [
    "# 调用 __abs__ 方法\n",
    "abs(v1)"
   ]
  },
  {
   "cell_type": "code",
   "execution_count": 9,
   "metadata": {},
   "outputs": [
    {
     "data": {
      "text/plain": [
       "(True, False)"
      ]
     },
     "execution_count": 9,
     "metadata": {},
     "output_type": "execute_result"
    }
   ],
   "source": [
    "# 调用 __bool__ 方法\n",
    "bool(v1), bool(Vector2d(0, 0))"
   ]
  },
  {
   "cell_type": "markdown",
   "metadata": {},
   "source": [
    "classmethod\n",
    "- 定义操作类的方法，改变了调用方法的方式，因此类方法的第一个参数是类本身\n",
    "- 最常见的用途时定义备选构造方法\n",
    "- 按照约定，类方法的第一个参数名为 cls\n",
    "\n",
    "staticmethod\n",
    "- 改变方法的调用方式\n",
    "- 静态方法就是普通的函数，只是在类的定义体中，而不是在模块层定义"
   ]
  },
  {
   "cell_type": "code",
   "execution_count": 10,
   "metadata": {},
   "outputs": [],
   "source": [
    "class Demo:\n",
    "    @classmethod\n",
    "    def classmeth(*args):\n",
    "        return args  # 返回全部位置参数\n",
    "    \n",
    "    @staticmethod\n",
    "    def staticmeth(*args):\n",
    "        return args  # 返回全部位置参数"
   ]
  },
  {
   "cell_type": "code",
   "execution_count": 11,
   "metadata": {},
   "outputs": [
    {
     "data": {
      "text/plain": [
       "(__main__.Demo,)"
      ]
     },
     "execution_count": 11,
     "metadata": {},
     "output_type": "execute_result"
    }
   ],
   "source": [
    "# 第一个参数始终是 Demo 类\n",
    "Demo.classmeth()"
   ]
  },
  {
   "cell_type": "code",
   "execution_count": 12,
   "metadata": {},
   "outputs": [
    {
     "data": {
      "text/plain": [
       "(__main__.Demo, 'spam')"
      ]
     },
     "execution_count": 12,
     "metadata": {},
     "output_type": "execute_result"
    }
   ],
   "source": [
    "Demo.classmeth('spam')"
   ]
  },
  {
   "cell_type": "code",
   "execution_count": 13,
   "metadata": {},
   "outputs": [
    {
     "data": {
      "text/plain": [
       "()"
      ]
     },
     "execution_count": 13,
     "metadata": {},
     "output_type": "execute_result"
    }
   ],
   "source": [
    "# 和普通函数的行为相似\n",
    "Demo.staticmeth()"
   ]
  },
  {
   "cell_type": "code",
   "execution_count": 14,
   "metadata": {},
   "outputs": [
    {
     "data": {
      "text/plain": [
       "('spam',)"
      ]
     },
     "execution_count": 14,
     "metadata": {},
     "output_type": "execute_result"
    }
   ],
   "source": [
    "Demo.staticmeth('spam')"
   ]
  },
  {
   "cell_type": "markdown",
   "metadata": {},
   "source": [
    "内置的 forma() 函数和 str.format() 方法把各个类型的格式化方式委托给相应的 .\\_\\_format__(format_spec) 方法。\n",
    "\n",
    "format_spec 是格式说明符\n",
    "- format(my_obj, format_spec) 的第二个参数\n",
    "- str.format() 方法的格式字符串，{} 里代换字段中冒号后面的部分"
   ]
  },
  {
   "cell_type": "code",
   "execution_count": 15,
   "metadata": {},
   "outputs": [
    {
     "data": {
      "text/plain": [
       "0.4115226337448559"
      ]
     },
     "execution_count": 15,
     "metadata": {},
     "output_type": "execute_result"
    }
   ],
   "source": [
    "brl = 1/2.43\n",
    "brl"
   ]
  },
  {
   "cell_type": "code",
   "execution_count": 16,
   "metadata": {},
   "outputs": [
    {
     "data": {
      "text/plain": [
       "'0.4115'"
      ]
     },
     "execution_count": 16,
     "metadata": {},
     "output_type": "execute_result"
    }
   ],
   "source": [
    "# 保留小数点后两位\n",
    "format(brl, '0.4f')"
   ]
  },
  {
   "cell_type": "code",
   "execution_count": 17,
   "metadata": {},
   "outputs": [
    {
     "data": {
      "text/plain": [
       "'1 BRL = 0.41 USD'"
      ]
     },
     "execution_count": 17,
     "metadata": {},
     "output_type": "execute_result"
    }
   ],
   "source": [
    "# rate 子串是字段名称\n",
    "'1 BRL = {rate:0.2f} USD'.format(rate=brl)"
   ]
  },
  {
   "cell_type": "markdown",
   "metadata": {},
   "source": [
    "`{0.mass:5.3e}`\n",
    "- 0.mass 是字段名\n",
    "- 5.3e 是格式说明符\n",
    "    - 格式说明符使用的表示法叫做格式规范微语言（Format Specification Mini-Language）\n",
    "\n",
    "格式规范微语言\n",
    "- 为一些内置类型提供了专用的表示代码\n",
    "- 是可扩展的，因为各个类可以自行确定如何解释 format_spec 参数"
   ]
  },
  {
   "cell_type": "code",
   "execution_count": 18,
   "metadata": {},
   "outputs": [
    {
     "data": {
      "text/plain": [
       "'110100'"
      ]
     },
     "execution_count": 18,
     "metadata": {},
     "output_type": "execute_result"
    }
   ],
   "source": [
    "# b 二进制\n",
    "# x 十六进制\n",
    "format(52, 'b')"
   ]
  },
  {
   "cell_type": "code",
   "execution_count": 19,
   "metadata": {},
   "outputs": [
    {
     "data": {
      "text/plain": [
       "'66.7%'"
      ]
     },
     "execution_count": 19,
     "metadata": {},
     "output_type": "execute_result"
    }
   ],
   "source": [
    "# f 小数形式\n",
    "# % 百分数形式\n",
    "format(2/3, '.1%')"
   ]
  },
  {
   "cell_type": "code",
   "execution_count": 20,
   "metadata": {},
   "outputs": [
    {
     "data": {
      "text/plain": [
       "'19:49:54'"
      ]
     },
     "execution_count": 20,
     "metadata": {},
     "output_type": "execute_result"
    }
   ],
   "source": [
    "# datetime 模块中给的类，其 __format__ 方法使用的格式代码与 strftime() 函数一样\n",
    "from datetime import datetime\n",
    "\n",
    "now = datetime.now()\n",
    "format(now, '%H:%M:%S')"
   ]
  },
  {
   "cell_type": "code",
   "execution_count": 21,
   "metadata": {},
   "outputs": [
    {
     "data": {
      "text/plain": [
       "\"It's now 07:49 PM\""
      ]
     },
     "execution_count": 21,
     "metadata": {},
     "output_type": "execute_result"
    }
   ],
   "source": [
    "\"It's now {:%I:%M %p}\".format(now)"
   ]
  },
  {
   "cell_type": "markdown",
   "metadata": {},
   "source": [
    "如果没有定义 \\_\\_format__ 方法，从 object 继承的方法会返回 str(my_object)；如果传入格式说明符，object.\\_\\_format__ 会抛出 TypeError"
   ]
  },
  {
   "cell_type": "code",
   "execution_count": 22,
   "metadata": {},
   "outputs": [
    {
     "data": {
      "text/plain": [
       "'(3.0, 4.0)'"
      ]
     },
     "execution_count": 22,
     "metadata": {},
     "output_type": "execute_result"
    }
   ],
   "source": [
    "# 定义了 __str__ 方法\n",
    "v1 = Vector2d(3, 4)\n",
    "format(v1)"
   ]
  },
  {
   "cell_type": "code",
   "execution_count": 23,
   "metadata": {},
   "outputs": [
    {
     "ename": "TypeError",
     "evalue": "unsupported format string passed to Vector2d.__format__",
     "output_type": "error",
     "traceback": [
      "\u001b[1;31m---------------------------------------------------------------------------\u001b[0m",
      "\u001b[1;31mTypeError\u001b[0m                                 Traceback (most recent call last)",
      "\u001b[1;32m<ipython-input-23-6ea63c77aa3c>\u001b[0m in \u001b[0;36m<module>\u001b[1;34m\u001b[0m\n\u001b[0;32m      1\u001b[0m \u001b[1;31m# 没有定义 __format__ 方法\u001b[0m\u001b[1;33m\u001b[0m\u001b[1;33m\u001b[0m\u001b[1;33m\u001b[0m\u001b[0m\n\u001b[1;32m----> 2\u001b[1;33m \u001b[0mformat\u001b[0m\u001b[1;33m(\u001b[0m\u001b[0mv1\u001b[0m\u001b[1;33m,\u001b[0m \u001b[1;34m'.3f'\u001b[0m\u001b[1;33m)\u001b[0m\u001b[1;33m\u001b[0m\u001b[1;33m\u001b[0m\u001b[0m\n\u001b[0m",
      "\u001b[1;31mTypeError\u001b[0m: unsupported format string passed to Vector2d.__format__"
     ]
    }
   ],
   "source": [
    "# 没有定义 __format__ 方法\n",
    "format(v1, '.3f')"
   ]
  },
  {
   "cell_type": "code",
   "execution_count": 24,
   "metadata": {},
   "outputs": [],
   "source": [
    "from array import array\n",
    "import math\n",
    "\n",
    "\n",
    "class Vector2d:\n",
    "    # 类属性，Vector2d 实例和字节序列之间转换时使用\n",
    "    typecode = 'd'\n",
    "    \n",
    "    # 转换成浮点数\n",
    "    def __init__(self, x, y):\n",
    "        self.x = float(x)\n",
    "        self.y = float(y)\n",
    "    \n",
    "    # 可迭代，拆包\n",
    "    def __iter__(self):\n",
    "        return (i for i in (self.x, self.y))\n",
    "    \n",
    "    # 使用 {!r} 获取各个分量的表示形式，然后插值构成字符串\n",
    "    def __repr__(self):\n",
    "        class_name = type(self).__name__\n",
    "        return '{}({!r}, {!r})'.format(class_name, *self)\n",
    "    \n",
    "    # 得到元组\n",
    "    def __str__(self):\n",
    "        return str(tuple(self))\n",
    "\n",
    "    # 字节序列\n",
    "    def __bytes__(self):\n",
    "        return (bytes([ord(self.typecode)]) +  # 转换成字节序列\n",
    "                bytes(array(self.typecode, self)))  # 数组转换成字节序列\n",
    "    \n",
    "    # 比较\n",
    "    # [x] 两个实例都是 Vector2d\n",
    "    # Vector(3, 4) == [3, 4]\n",
    "    def __eq__(self, other):\n",
    "        return tuple(self) == tuple(other)\n",
    "    \n",
    "    # 直角三角形的斜边长\n",
    "    def __abs__(self):\n",
    "        return math.hypot(self.x, self.y)\n",
    "    \n",
    "    # 模\n",
    "    def __bool__(self):\n",
    "        return bool(abs(self))\n",
    "    \n",
    "    # 类方法\n",
    "    @classmethod\n",
    "    def frombytes(cls, octets):  # 通过 cls 传入类本身\n",
    "        typecode = chr(octets[0])  # 从第一个字节中读取 typecode\n",
    "        memv = memoryview(octets[1:]).cast(typecode)  # 从字节序列创建 memoryview ，然后使用 typecode 转换\n",
    "        return cls(*memv)  # 拆包转换后的 memoryview ，得到构造方法所需的一对参数\n",
    "    \n",
    "    # 格式化字符串\n",
    "    def __format__(self, fmt_spec=''):\n",
    "        components = (format(c, fmt_spec) for c in self)\n",
    "        return '({}, {})'.format(*components)"
   ]
  },
  {
   "cell_type": "code",
   "execution_count": 25,
   "metadata": {},
   "outputs": [
    {
     "data": {
      "text/plain": [
       "'(3.0, 4.0)'"
      ]
     },
     "execution_count": 25,
     "metadata": {},
     "output_type": "execute_result"
    }
   ],
   "source": [
    "v1 = Vector2d(3, 4)\n",
    "format(v1)"
   ]
  },
  {
   "cell_type": "code",
   "execution_count": 26,
   "metadata": {},
   "outputs": [
    {
     "data": {
      "text/plain": [
       "'(3.00, 4.00)'"
      ]
     },
     "execution_count": 26,
     "metadata": {},
     "output_type": "execute_result"
    }
   ],
   "source": [
    "format(v1, '.2f')"
   ]
  },
  {
   "cell_type": "code",
   "execution_count": 27,
   "metadata": {},
   "outputs": [],
   "source": [
    "from array import array\n",
    "import math\n",
    "\n",
    "\n",
    "class Vector2d:\n",
    "    # 类属性，Vector2d 实例和字节序列之间转换时使用\n",
    "    typecode = 'd'\n",
    "    \n",
    "    # 转换成浮点数\n",
    "    def __init__(self, x, y):\n",
    "        self.x = float(x)\n",
    "        self.y = float(y)\n",
    "    \n",
    "    # 可迭代，拆包\n",
    "    def __iter__(self):\n",
    "        return (i for i in (self.x, self.y))\n",
    "    \n",
    "    # 使用 {!r} 获取各个分量的表示形式，然后插值构成字符串\n",
    "    def __repr__(self):\n",
    "        class_name = type(self).__name__\n",
    "        return '{}({!r}, {!r})'.format(class_name, *self)\n",
    "    \n",
    "    # 得到元组\n",
    "    def __str__(self):\n",
    "        return str(tuple(self))\n",
    "\n",
    "    # 字节序列\n",
    "    def __bytes__(self):\n",
    "        return (bytes([ord(self.typecode)]) +  # 转换成字节序列\n",
    "                bytes(array(self.typecode, self)))  # 数组转换成字节序列\n",
    "    \n",
    "    # 比较\n",
    "    # [x] 两个实例都是 Vector2d\n",
    "    # Vector(3, 4) == [3, 4]\n",
    "    def __eq__(self, other):\n",
    "        return tuple(self) == tuple(other)\n",
    "    \n",
    "    # 直角三角形的斜边长\n",
    "    def __abs__(self):\n",
    "        return math.hypot(self.x, self.y)\n",
    "    \n",
    "    # 模\n",
    "    def __bool__(self):\n",
    "        return bool(abs(self))\n",
    "    \n",
    "    # 类方法\n",
    "    @classmethod\n",
    "    def frombytes(cls, octets):  # 通过 cls 传入类本身\n",
    "        typecode = chr(octets[0])  # 从第一个字节中读取 typecode\n",
    "        memv = memoryview(octets[1:]).cast(typecode)  # 从字节序列创建 memoryview ，然后使用 typecode 转换\n",
    "        return cls(*memv)  # 拆包转换后的 memoryview ，得到构造方法所需的一对参数\n",
    "    \n",
    "    \n",
    "    # 计算角度\n",
    "    def angle(self):\n",
    "        return math.atan2(self.x, self.y)\n",
    "    \n",
    "    # 格式化字符串\n",
    "    def __format__(self, fmt_spec=''):\n",
    "        if fmt_spec.endswith('p'):  # 自定义格式代码，显示极坐标\n",
    "            fmt_spec = fmt_spec[:-1]\n",
    "            coords = (abs(self), self.angle())\n",
    "            outer_fmt = '<{}, {}>'\n",
    "        else:\n",
    "            coords = self\n",
    "            outer_fmt = '({}, {})'\n",
    "        components = (format(c, fmt_spec) for c in coords)\n",
    "        return outer_fmt.format(*components)"
   ]
  },
  {
   "cell_type": "code",
   "execution_count": 28,
   "metadata": {},
   "outputs": [
    {
     "data": {
      "text/plain": [
       "'<1.4142135623730951, 0.7853981633974483>'"
      ]
     },
     "execution_count": 28,
     "metadata": {},
     "output_type": "execute_result"
    }
   ],
   "source": [
    "format(Vector2d(1, 1), 'p')"
   ]
  },
  {
   "cell_type": "code",
   "execution_count": 29,
   "metadata": {},
   "outputs": [
    {
     "data": {
      "text/plain": [
       "'<1.414e+00, 7.854e-01>'"
      ]
     },
     "execution_count": 29,
     "metadata": {},
     "output_type": "execute_result"
    }
   ],
   "source": [
    "format(Vector2d(1, 1), '.3ep')"
   ]
  },
  {
   "cell_type": "code",
   "execution_count": 30,
   "metadata": {},
   "outputs": [
    {
     "data": {
      "text/plain": [
       "'<1.41421, 0.78540>'"
      ]
     },
     "execution_count": 30,
     "metadata": {},
     "output_type": "execute_result"
    }
   ],
   "source": [
    "format(Vector2d(1, 1), '0.5fp')"
   ]
  },
  {
   "cell_type": "code",
   "execution_count": 31,
   "metadata": {},
   "outputs": [],
   "source": [
    "from array import array\n",
    "import math\n",
    "\n",
    "\n",
    "class Vector2d:\n",
    "    # 类属性，Vector2d 实例和字节序列之间转换时使用\n",
    "    typecode = 'd'\n",
    "    \n",
    "    # 私有\n",
    "    def __init__(self, x, y):\n",
    "        self.__x = float(x)\n",
    "        self.__y = float(y)\n",
    "    \n",
    "    # 只读属性\n",
    "    @property\n",
    "    def x(self):\n",
    "        return self.__x\n",
    "    \n",
    "    # 只读属性\n",
    "    @property\n",
    "    def y(self):\n",
    "        return self.__y\n",
    "    \n",
    "    # 可散列\n",
    "    def __hash__(self):\n",
    "        return hash(self.x) ^ hash(self.y)\n",
    "    \n",
    "    # 可迭代，拆包\n",
    "    def __iter__(self):\n",
    "        return (i for i in (self.x, self.y))  # 读取公开属性\n",
    "    \n",
    "    # 使用 {!r} 获取各个分量的表示形式，然后插值构成字符串\n",
    "    def __repr__(self):\n",
    "        class_name = type(self).__name__\n",
    "        return '{}({!r}, {!r})'.format(class_name, *self)\n",
    "    \n",
    "    # 得到元组\n",
    "    def __str__(self):\n",
    "        return str(tuple(self))\n",
    "\n",
    "    # 字节序列\n",
    "    def __bytes__(self):\n",
    "        return (bytes([ord(self.typecode)]) +  # 转换成字节序列\n",
    "                bytes(array(self.typecode, self)))  # 数组转换成字节序列\n",
    "    \n",
    "    # 比较\n",
    "    # [x] 两个实例都是 Vector2d\n",
    "    # Vector(3, 4) == [3, 4]\n",
    "    def __eq__(self, other):\n",
    "        return tuple(self) == tuple(other)\n",
    "    \n",
    "    # 直角三角形的斜边长\n",
    "    def __abs__(self):\n",
    "        return math.hypot(self.x, self.y)\n",
    "    \n",
    "    # 模\n",
    "    def __bool__(self):\n",
    "        return bool(abs(self))\n",
    "    \n",
    "    # 类方法\n",
    "    @classmethod\n",
    "    def frombytes(cls, octets):  # 通过 cls 传入类本身\n",
    "        typecode = chr(octets[0])  # 从第一个字节中读取 typecode\n",
    "        memv = memoryview(octets[1:]).cast(typecode)  # 从字节序列创建 memoryview ，然后使用 typecode 转换\n",
    "        return cls(*memv)  # 拆包转换后的 memoryview ，得到构造方法所需的一对参数\n",
    "    \n",
    "    \n",
    "    # 计算角度\n",
    "    def angle(self):\n",
    "        return math.atan2(self.x, self.y)\n",
    "    \n",
    "    # 格式化字符串\n",
    "    def __format__(self, fmt_spec=''):\n",
    "        if fmt_spec.endswith('p'):  # 自定义格式代码，显示极坐标\n",
    "            fmt_spec = fmt_spec[:-1]\n",
    "            coords = (abs(self), self.angle())\n",
    "            outer_fmt = '<{}, {}>'\n",
    "        else:\n",
    "            coords = self\n",
    "            outer_fmt = '({}, {})'\n",
    "        components = (format(c, fmt_spec) for c in coords)\n",
    "        return outer_fmt.format(*components)\n",
    "    \n",
    "    "
   ]
  },
  {
   "cell_type": "code",
   "execution_count": 32,
   "metadata": {},
   "outputs": [
    {
     "data": {
      "text/plain": [
       "(7, 384307168202284039)"
      ]
     },
     "execution_count": 32,
     "metadata": {},
     "output_type": "execute_result"
    }
   ],
   "source": [
    "v1 = Vector2d(3, 4)\n",
    "v2 = Vector2d(3.1, 4.2)\n",
    "\n",
    "hash(v1), hash(v2)"
   ]
  },
  {
   "cell_type": "code",
   "execution_count": 33,
   "metadata": {},
   "outputs": [
    {
     "data": {
      "text/plain": [
       "{Vector2d(3.0, 4.0), Vector2d(3.1, 4.2)}"
      ]
     },
     "execution_count": 33,
     "metadata": {},
     "output_type": "execute_result"
    }
   ],
   "source": [
    "set([v1, v2])"
   ]
  },
  {
   "cell_type": "markdown",
   "metadata": {},
   "source": [
    "名称改写（name mangling）：以 \\_\\_mood （两个前导下划线，尾部没有或最多有一个下划线）的形式命名实例属性，Python 会把属性名存入实例的 \\_\\_dict__ 属性中，而且会在前面加上一个下划线和类名\n",
    "\n",
    "名称改写是一种安全措施，目的是避免意外访问\n",
    "\n",
    "Python 解释器不会对单个下划线的属性名做特殊处理，不过这是很多 Python 程序员严格遵守的约定，它们不会再类外部访问这种属性\n",
    "- 不过在模块中，顶层名称使用一个前导下划线的话，的确会有影响\n",
    "    - 对 from mymod import * 来说，mymod 中前缀为下划线的名称不会被导入\n",
    "    - 不过仍然可以使用 from mymod import \\_privatefunc 导入\n",
    "    \n",
    "Python 文档有时将单个下划线前缀标记的属性称为“受保护”的属性，也有人称之为“私有”属性"
   ]
  },
  {
   "cell_type": "code",
   "execution_count": 34,
   "metadata": {},
   "outputs": [
    {
     "data": {
      "text/plain": [
       "{'_Vector2d__x': 3.0, '_Vector2d__y': 4.0}"
      ]
     },
     "execution_count": 34,
     "metadata": {},
     "output_type": "execute_result"
    }
   ],
   "source": [
    "v1 = Vector2d(3, 4)\n",
    "v1.__dict__"
   ]
  },
  {
   "cell_type": "code",
   "execution_count": 35,
   "metadata": {},
   "outputs": [
    {
     "data": {
      "text/plain": [
       "3.0"
      ]
     },
     "execution_count": 35,
     "metadata": {},
     "output_type": "execute_result"
    }
   ],
   "source": [
    "v1._Vector2d__x"
   ]
  },
  {
   "cell_type": "markdown",
   "metadata": {},
   "source": [
    "默认情况下，Python 在各个实例中名为 \\_\\_dict__ 的字典里存储实例属性。通过 \\_\\_slots__ 类属性，让解释器在元组中存储实例属性，而不是用 \\_\\_dict__ 字典。\n",
    "\n",
    "继承自超类的 \\_\\_slots__ 属性没有效果，Python 只会使用个各类中定义的 \\_\\_slots__ 属性。\n",
    "\n",
    "定义 \\_\\_slots__ 的方式是，创建一个类属性，使用 \\_\\_slots__ 这个名字，并把它的值设置为一个字符串构成的可迭代对象，其中各个元素表示各个实例属性。\n",
    "\n",
    "在类中定义 \\_\\_slots__ 属性之后，实例不能再有 \\_\\_slots__ 中所列名称之外的其他属性。\n",
    "\n",
    "\\_\\_slots__ 是用于优化的。"
   ]
  },
  {
   "cell_type": "code",
   "execution_count": 36,
   "metadata": {},
   "outputs": [],
   "source": [
    "class Vector2d:\n",
    "    __slots__ = ('__x', '__y')\n",
    "\n",
    "    typecode = 'd'\n",
    "    \n",
    "    ..."
   ]
  },
  {
   "cell_type": "markdown",
   "metadata": {},
   "source": [
    "\\_\\_weakref__ 属性，为了让对象支持弱引用，必须有这个属性。用户定义的类中默认就有 \\_\\_weakref__ 属性。\n",
    "\n",
    "如果类中定义了 \\_\\_slots__ 属性，而且想把实例作为弱引用的目标，那么就要把 \\_\\_weakref__ 添加到 \\_\\_slots__ 中。\n",
    "\n",
    "\n",
    "使用 \\_\\_slots__ 的注意事项\n",
    "- 每个子类都要定义 \\_\\_slots__ 属性\n",
    "- 实例只能拥有 \\_\\_slots__ 中列出的属性\n",
    "- 如果不把 \\_\\_weakref__ 加入 \\_\\_slots__ ，实例就不能作为弱引用的目标"
   ]
  },
  {
   "cell_type": "code",
   "execution_count": 37,
   "metadata": {},
   "outputs": [],
   "source": [
    "class Vector2d:\n",
    "    typecode = 'd'\n",
    "\n",
    "    def __init__(self, x, y):\n",
    "        self.__x = float(x)\n",
    "        self.__y = float(y)\n",
    "\n",
    "    @property\n",
    "    def x(self):\n",
    "        return self.__x\n",
    "\n",
    "    @property\n",
    "    def y(self):\n",
    "        return self.__y\n",
    "\n",
    "    def __iter__(self):\n",
    "        return (i for i in (self.x, self.y))\n",
    "    \n",
    "    # 没有硬编码 class_name 便于继承\n",
    "    def __repr__(self):\n",
    "        class_name = type(self).__name__\n",
    "        return '{}({!r}, {!r})'.format(class_name, *self)\n",
    "\n",
    "    def __str__(self):\n",
    "        return str(tuple(self))\n",
    "\n",
    "    def __bytes__(self):\n",
    "        return (bytes([ord(self.typecode)]) +\n",
    "                bytes(array(self.typecode, self)))\n",
    "\n",
    "    def __eq__(self, other):\n",
    "        return tuple(self) == tuple(other)\n",
    "\n",
    "    def __hash__(self):\n",
    "        return hash(self.x) ^ hash(self.y)\n",
    "\n",
    "    def __abs__(self):\n",
    "        return math.hypot(self.x, self.y)\n",
    "\n",
    "    def __bool__(self):\n",
    "        return bool(abs(self))\n",
    "\n",
    "    def angle(self):\n",
    "        return math.atan2(self.y, self.x)\n",
    "\n",
    "    def __format__(self, fmt_spec=''):\n",
    "        if fmt_spec.endswith('p'):\n",
    "            fmt_spec = fmt_spec[:-1]\n",
    "            coords = (abs(self), self.angle())\n",
    "            outer_fmt = '<{}, {}>'\n",
    "        else:\n",
    "            coords = self\n",
    "            outer_fmt = '({}, {})'\n",
    "        components = (format(c, fmt_spec) for c in coords)\n",
    "        return outer_fmt.format(*components)\n",
    "\n",
    "    @classmethod\n",
    "    def frombytes(cls, octets):\n",
    "        typecode = chr(octets[0])\n",
    "        memv = memoryview(octets[1:]).cast(typecode)\n",
    "        return cls(*memv)"
   ]
  },
  {
   "cell_type": "markdown",
   "metadata": {},
   "source": [
    "Python 中的类属性可用于为实例提供默认值，如果为不存在的实例属性赋值，会新建实例属性"
   ]
  },
  {
   "cell_type": "code",
   "execution_count": 38,
   "metadata": {},
   "outputs": [
    {
     "data": {
      "text/plain": [
       "b'd\\x9a\\x99\\x99\\x99\\x99\\x99\\xf1?\\x9a\\x99\\x99\\x99\\x99\\x99\\x01@'"
      ]
     },
     "execution_count": 38,
     "metadata": {},
     "output_type": "execute_result"
    }
   ],
   "source": [
    "v1 = Vector2d(1.1, 2.2)\n",
    "\n",
    "dumpd = bytes(v1)\n",
    "dumpd"
   ]
  },
  {
   "cell_type": "code",
   "execution_count": 39,
   "metadata": {},
   "outputs": [
    {
     "data": {
      "text/plain": [
       "17"
      ]
     },
     "execution_count": 39,
     "metadata": {},
     "output_type": "execute_result"
    }
   ],
   "source": [
    "len(dumpd)"
   ]
  },
  {
   "cell_type": "code",
   "execution_count": 40,
   "metadata": {},
   "outputs": [
    {
     "data": {
      "text/plain": [
       "b'f\\xcd\\xcc\\x8c?\\xcd\\xcc\\x0c@'"
      ]
     },
     "execution_count": 40,
     "metadata": {},
     "output_type": "execute_result"
    }
   ],
   "source": [
    "# 修改实例属性\n",
    "v1.typecode = 'f'\n",
    "\n",
    "dumpf = bytes(v1)\n",
    "dumpf"
   ]
  },
  {
   "cell_type": "code",
   "execution_count": 41,
   "metadata": {},
   "outputs": [
    {
     "data": {
      "text/plain": [
       "9"
      ]
     },
     "execution_count": 41,
     "metadata": {},
     "output_type": "execute_result"
    }
   ],
   "source": [
    "len(dumpf)"
   ]
  },
  {
   "cell_type": "code",
   "execution_count": 42,
   "metadata": {},
   "outputs": [
    {
     "data": {
      "text/plain": [
       "'d'"
      ]
     },
     "execution_count": 42,
     "metadata": {},
     "output_type": "execute_result"
    }
   ],
   "source": [
    "Vector2d.typecode"
   ]
  },
  {
   "cell_type": "code",
   "execution_count": 43,
   "metadata": {},
   "outputs": [],
   "source": [
    "# 修改类属性\n",
    "Vector2d.typecode = 'f'"
   ]
  },
  {
   "cell_type": "code",
   "execution_count": 44,
   "metadata": {},
   "outputs": [
    {
     "data": {
      "text/plain": [
       "ShortVector2d(0.09090909090909091, 0.037037037037037035)"
      ]
     },
     "execution_count": 44,
     "metadata": {},
     "output_type": "execute_result"
    }
   ],
   "source": [
    "# 覆盖 typecode 类属性\n",
    "class ShortVector2d(Vector2d):\n",
    "    typecode = 'f'\n",
    "\n",
    "sv = ShortVector2d(1/11, 1/27)\n",
    "sv"
   ]
  },
  {
   "cell_type": "code",
   "execution_count": 45,
   "metadata": {},
   "outputs": [
    {
     "data": {
      "text/plain": [
       "9"
      ]
     },
     "execution_count": 45,
     "metadata": {},
     "output_type": "execute_result"
    }
   ],
   "source": [
    "len(bytes(sv))"
   ]
  },
  {
   "cell_type": "markdown",
   "metadata": {},
   "source": [
    "Python 之禅：简洁胜于复杂。\n",
    "\n",
    "符合 Python 风格的对象应该正好符合所需，而不是堆砌语言特性。\n",
    "\n",
    "要构建符合 Python 风格的对象，就要观察真正的 Python 对象的行为。\n",
    "\n",
    "\\_\\_index__ 方法的作用是强制把对象转换成整数索引，在特定的切片场景中使用，以及满足 NumPy 的一个需求。"
   ]
  },
  {
   "cell_type": "code",
   "execution_count": null,
   "metadata": {},
   "outputs": [],
   "source": []
  }
 ],
 "metadata": {
  "kernelspec": {
   "display_name": "Learn-Python",
   "language": "python",
   "name": "learn-python"
  },
  "language_info": {
   "codemirror_mode": {
    "name": "ipython",
    "version": 3
   },
   "file_extension": ".py",
   "mimetype": "text/x-python",
   "name": "python",
   "nbconvert_exporter": "python",
   "pygments_lexer": "ipython3",
   "version": "3.8.5"
  }
 },
 "nbformat": 4,
 "nbformat_minor": 4
}

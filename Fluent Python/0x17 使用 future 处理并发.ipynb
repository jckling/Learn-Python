{
 "cells": [
  {
   "cell_type": "markdown",
   "metadata": {},
   "source": [
    "future 指一种对象，表示异步执行的操作。\n",
    "\n",
    "并发下载，每次下载的顺序都不同。\n",
    "\n",
    "在 I/O 密集型应用中，如果代码写得正确，那么不管使用哪种并发策略（线程或 asyncio 包），吞吐量都比顺序执行的代码高很多。"
   ]
  },
  {
   "cell_type": "code",
   "execution_count": 1,
   "metadata": {},
   "outputs": [
    {
     "name": "stdout",
     "output_type": "stream",
     "text": [
      "BD BR CD CN DE EG ET FR ID IN IR JP MX NG PH PK RU TR US VN \n",
      "20 flags downloaded in 21.24s\n"
     ]
    }
   ],
   "source": [
    "# flags.py\n",
    "import os\n",
    "import time\n",
    "import sys\n",
    "\n",
    "import requests  # 非标准库\n",
    "\n",
    "POP20_CC = ('CN IN US ID BR PK NG BD RU JP '\n",
    "            'MX PH VN ET EG DE IR TR CD FR').split()  # 列出人口最多的 20 个国家的 ISO 3166 国家代码\n",
    "\n",
    "BASE_URL = 'http://flupy.org/data/flags'  # 获取国旗图像的网站\n",
    "\n",
    "DEST_DIR = 'downloads/'  # 保存的目录\n",
    "\n",
    "\n",
    "# 保存图像\n",
    "def save_flag(img, filename):\n",
    "    path = os.path.join(DEST_DIR, filename)\n",
    "    with open(path, 'wb') as fp:\n",
    "        fp.write(img)\n",
    "\n",
    "\n",
    "# 下载图像\n",
    "def get_flag(cc):\n",
    "    url = '{}/{cc}/{cc}.gif'.format(BASE_URL, cc=cc.lower())\n",
    "    resp = requests.get(url)\n",
    "    return resp.content  # 二进制内容\n",
    "\n",
    "\n",
    "# 显示字符串，空格分隔\n",
    "def show(text):\n",
    "    print(text, end=' ')\n",
    "    sys.stdout.flush()\n",
    "\n",
    "\n",
    "# 顺序下载\n",
    "def download_many(cc_list):\n",
    "    for cc in sorted(cc_list):\n",
    "        image = get_flag(cc)\n",
    "        show(cc)\n",
    "        save_flag(image, cc.lower() + '.gif')\n",
    "\n",
    "    return len(cc_list)\n",
    "\n",
    "\n",
    "# 下载并计时\n",
    "def main():\n",
    "    t0 = time.time()\n",
    "    count = download_many(POP20_CC)\n",
    "    elapsed = time.time() - t0\n",
    "    msg = '\\n{} flags downloaded in {:.2f}s'\n",
    "    print(msg.format(count, elapsed))\n",
    "\n",
    "\n",
    "if __name__ == '__main__':\n",
    "    main()"
   ]
  },
  {
   "cell_type": "markdown",
   "metadata": {},
   "source": [
    "concurrent.futures 模块的主要特色是 ThreadPoolExecutor 和 ProcessPoolExecutor 类，这两个类实现的接口能分别在不同的线程或进程中执行可调用的对象。这两个类在内部维护着一个工作线程或进程池，以及要执行的任务队列。\n",
    "\n",
    "编写并发代码时经常这样重构：把依序执行的 for 循环体改成函数，以便并发调用。"
   ]
  },
  {
   "cell_type": "code",
   "execution_count": 2,
   "metadata": {},
   "outputs": [
    {
     "name": "stdout",
     "output_type": "stream",
     "text": [
      "BD BR CN DE EG FR ID JP IN RU TR VN CD ET MX PK IR NG PH US \n",
      "20 flags downloaded in 2.11s\n"
     ]
    }
   ],
   "source": [
    "# flags_threadpool.py\n",
    "import os\n",
    "import time\n",
    "import sys\n",
    "from concurrent import futures  # <1>\n",
    "\n",
    "import requests\n",
    "\n",
    "POP20_CC = ('CN IN US ID BR PK NG BD RU JP '\n",
    "            'MX PH VN ET EG DE IR TR CD FR').split()\n",
    "\n",
    "BASE_URL = 'http://flupy.org/data/flags'\n",
    "\n",
    "DEST_DIR = 'downloads/'\n",
    "\n",
    "MAX_WORKERS = 20  # 最多使用 20 个线程\n",
    "\n",
    "\n",
    "def save_flag(img, filename):\n",
    "    path = os.path.join(DEST_DIR, filename)\n",
    "    with open(path, 'wb') as fp:\n",
    "        fp.write(img)\n",
    "\n",
    "\n",
    "def get_flag(cc):\n",
    "    url = '{}/{cc}/{cc}.gif'.format(BASE_URL, cc=cc.lower())\n",
    "    resp = requests.get(url)\n",
    "    return resp.content\n",
    "\n",
    "\n",
    "def show(text):\n",
    "    print(text, end=' ')\n",
    "    sys.stdout.flush()\n",
    "\n",
    "\n",
    "def download_one(cc):  # <3>\n",
    "    image = get_flag(cc)\n",
    "    show(cc)\n",
    "    save_flag(image, cc.lower() + '.gif')\n",
    "    return cc\n",
    "\n",
    "\n",
    "def download_many(cc_list):\n",
    "    workers = min(MAX_WORKERS, len(cc_list))  # 设定工作的线程数量\n",
    "    with futures.ThreadPoolExecutor(workers) as executor:  # 在所有线程完执行完毕前阻塞线程\n",
    "        res = executor.map(download_one, sorted(cc_list))  # 在多个线程中并发调用\n",
    "\n",
    "    return len(list(res))  # 如果有线程抛出异常，则在此抛出\n",
    "\n",
    "\n",
    "def main():\n",
    "    t0 = time.time()\n",
    "    count = download_many(POP20_CC)\n",
    "    elapsed = time.time() - t0\n",
    "    msg = '\\n{} flags downloaded in {:.2f}s'\n",
    "    print(msg.format(count, elapsed))\n",
    "\n",
    "\n",
    "if __name__ == '__main__':\n",
    "    main()"
   ]
  },
  {
   "cell_type": "markdown",
   "metadata": {},
   "source": [
    "标准库中有两个名为 Future 的类：concurrent.futures.Future 和 asyncio.Future 。这两个 Future 类的实例都表示可能已经完成或尚未完成的延迟计算。\n",
    "\n",
    "future 封装待完成的操作，可以放入队列，完成的状态可以查询，得到结果（或抛出异常）后可以获取结果（或异常）。\n",
    "\n",
    "通常情况下不应爱创建 future ，而只能由并发框架（concurrent.futures 或 asyncio）实例化，future 表示终将发生的事情，而确定某件事会发生的唯一方式是执行的时间已经排定。\n",
    "- 只有排定把某件事交给 concurrent.futures.Executor 子类处理时，才会创建 concurrent.futures。Future 实例\n",
    "\n",
    "这两种 future 都有 .done() 方法，这个方法不阻塞，返回值是布尔值，指明 future 链接的可调用对象是否已经执行。\n",
    "\n",
    "两个 Future 类都有 .add_done_callback() 方法：这个方法只有一个参数，类型是可调用对象，future 运行结束后会调用指定的可调用对象\n",
    "\n",
    "两个 Future 类都有 .result 方法\n",
    "- 在 future 运行结束后调用：返回可调用对象的结果，或者重新跑出执行可调用对象时抛出的异常\n",
    "- future 没有运行结束：\n",
    "    - concurrent.futures.Future 实例调用 f.result() 方法会阻塞调用方所在的线程，直到有结果返回。此时，result 方法可以接收可选的 timeout 参数，如果在指定的时间内 future 没有运行完毕，会抛出 TimeoutError 异常。\n",
    "    - asyncio.Future.result 方法不支持设定超时时间，在那个库汇中获取 future 的结果最好使用 yield form 结构。\n",
    "    \n",
    "    \n",
    "两个库中有几个函数会返回 future，其他函数则使用 future 。Executor.map 方法属于后者：返回值是一个迭代器，迭代器的 \\_\\_next__ 方法调用各个 future 的 result 方法，因此得到的是各个 future 的结果，而非 future 本身。\n",
    "\n",
    "concurrent.futures.as_completed 函数的参数是一个 future 列表，返回值是一个迭代器，在 future 运行结束后产出 future 。"
   ]
  },
  {
   "cell_type": "markdown",
   "metadata": {},
   "source": [
    "修改 flags_threadpool.py ，把 download_many 函数中的 executor.map 方法换成 executor.submit 方法和 futures.as_completed 函数。\n",
    "\n",
    "future 的 repr() 方法会显示 future 的状态\n",
    "- running：正在工作\n",
    "- pending：等待可用线程\n",
    "\n",
    "使用 concurrent.futures 库实现的示例受全局解释器锁（Global Interpreter Lock, GIL）的限制。"
   ]
  },
  {
   "cell_type": "code",
   "execution_count": 3,
   "metadata": {},
   "outputs": [
    {
     "name": "stdout",
     "output_type": "stream",
     "text": [
      "Scheduled for BR: <Future at 0x2a3ad25eac0 state=running>\n",
      "Scheduled for CN: <Future at 0x2a3ad272be0 state=running>\n",
      "Scheduled for ID: <Future at 0x2a3ad284310 state=running>\n",
      "Scheduled for IN: <Future at 0x2a3ad284190 state=pending>\n",
      "Scheduled for US: <Future at 0x2a3ad27b130 state=pending>\n",
      "ID CN BR <Future at 0x2a3ad284310 state=finished returned str> result: 'ID'\n",
      "<Future at 0x2a3ad272be0 state=finished returned str> result: 'CN'\n",
      "<Future at 0x2a3ad25eac0 state=finished returned str> result: 'BR'\n",
      "US <Future at 0x2a3ad27b130 state=finished returned str> result: 'US'\n",
      "IN <Future at 0x2a3ad284190 state=finished returned str> result: 'IN'\n",
      "\n",
      "5 flags downloaded in 2.16s\n"
     ]
    }
   ],
   "source": [
    "# flags_threadpool_ac.py\n",
    "from concurrent import futures\n",
    "\n",
    "MAX_WORKERS = 20\n",
    "\n",
    "def save_flag(img, filename):\n",
    "    path = os.path.join(DEST_DIR, filename)\n",
    "    with open(path, 'wb') as fp:\n",
    "        fp.write(img)\n",
    "\n",
    "\n",
    "def get_flag(cc):\n",
    "    url = '{}/{cc}/{cc}.gif'.format(BASE_URL, cc=cc.lower())\n",
    "    resp = requests.get(url)\n",
    "    return resp.content\n",
    "\n",
    "\n",
    "def show(text):\n",
    "    print(text, end=' ')\n",
    "    sys.stdout.flush()\n",
    "\n",
    "    \n",
    "def download_one(cc):\n",
    "    image = get_flag(cc)\n",
    "    show(cc)\n",
    "    save_flag(image, cc.lower() + '.gif')\n",
    "    return cc\n",
    "\n",
    "\n",
    "def download_many(cc_list):\n",
    "    cc_list = cc_list[:5]  # 人口最多的 5 个国家\n",
    "    with futures.ThreadPoolExecutor(max_workers=3) as executor:  # 3 个线程\n",
    "        to_do = []\n",
    "        for cc in sorted(cc_list):  # 按字母顺序迭代\n",
    "            future = executor.submit(download_one, cc)  # 排定并返回 future\n",
    "            to_do.append(future)  # 存储 future\n",
    "            msg = 'Scheduled for {}: {}'\n",
    "            print(msg.format(cc, future))  # 国家，对应的 future\n",
    "\n",
    "        results = []\n",
    "        for future in futures.as_completed(to_do):  # 不阻塞，返回 future\n",
    "            res = future.result()  # future 运行结果\n",
    "            msg = '{} result: {!r}'\n",
    "            print(msg.format(future, res)) # future 及其结果\n",
    "            results.append(res)\n",
    "\n",
    "    return len(results)\n",
    "\n",
    "\n",
    "def main():  # <10>\n",
    "    t0 = time.time()\n",
    "    count = download_many(POP20_CC)\n",
    "    elapsed = time.time() - t0\n",
    "    msg = '\\n{} flags downloaded in {:.2f}s'\n",
    "    print(msg.format(count, elapsed))\n",
    "    \n",
    "\n",
    "if __name__ == '__main__':\n",
    "    main()"
   ]
  },
  {
   "cell_type": "code",
   "execution_count": 4,
   "metadata": {},
   "outputs": [
    {
     "name": "stdout",
     "output_type": "stream",
     "text": [
      "VN CN IN FR NG JP TR DE BR ID BD EG PH US ET MX PK CD IR RU \n",
      "20 flags downloaded in 1.67s\n"
     ]
    }
   ],
   "source": [
    "# flags_asyncio.py\n",
    "import os\n",
    "import time\n",
    "import sys\n",
    "import asyncio  # <1>\n",
    "\n",
    "import aiohttp  # <2>\n",
    "\n",
    "\n",
    "POP20_CC = ('CN IN US ID BR PK NG BD RU JP '\n",
    "            'MX PH VN ET EG DE IR TR CD FR').split()\n",
    "\n",
    "BASE_URL = 'http://flupy.org/data/flags'\n",
    "\n",
    "DEST_DIR = 'downloads/'\n",
    "\n",
    "\n",
    "def save_flag(img, filename):\n",
    "    path = os.path.join(DEST_DIR, filename)\n",
    "    with open(path, 'wb') as fp:\n",
    "        fp.write(img)\n",
    "\n",
    "\n",
    "async def get_flag(session, cc):  # <3>\n",
    "    url = '{}/{cc}/{cc}.gif'.format(BASE_URL, cc=cc.lower())\n",
    "    async with session.get(url) as resp:        # <4>\n",
    "        return await resp.read()  # <5>\n",
    "\n",
    "\n",
    "def show(text):\n",
    "    print(text, end=' ')\n",
    "    sys.stdout.flush()\n",
    "\n",
    "\n",
    "async def download_one(session, cc):  # <6>\n",
    "    image = await get_flag(session, cc)  # <7>\n",
    "    show(cc)\n",
    "    save_flag(image, cc.lower() + '.gif')\n",
    "    return cc\n",
    "\n",
    "\n",
    "async def download_many(cc_list):\n",
    "    async with aiohttp.ClientSession() as session:  # <8>\n",
    "        res = await asyncio.gather(                 # <9>\n",
    "            *[asyncio.create_task(download_one(session, cc))\n",
    "                for cc in sorted(cc_list)])\n",
    "\n",
    "    return len(res)\n",
    "\n",
    "# def main():  # <10>\n",
    "#     t0 = time.time()\n",
    "#     count = asyncio.run(download_many(POP20_CC))\n",
    "#     elapsed = time.time() - t0\n",
    "#     msg = '\\n{} flags downloaded in {:.2f}s'\n",
    "#     print(msg.format(count, elapsed))\n",
    "\n",
    "async def main():  # <10>\n",
    "    t0 = time.time()\n",
    "    count = await download_many(POP20_CC)\n",
    "    elapsed = time.time() - t0\n",
    "    msg = '\\n{} flags downloaded in {:.2f}s'\n",
    "    print(msg.format(count, elapsed))\n",
    "    \n",
    "\n",
    "if __name__ == '__main__':\n",
    "    await main()"
   ]
  },
  {
   "cell_type": "markdown",
   "metadata": {},
   "source": [
    "Cpython 解释器本身就不是线程安全的，因此有全局解释器锁（GIL），一次只允许使用一个线程执行 Python 字节码。\n",
    "\n",
    "标准库中所有执行阻塞型 I/O 操作的函数，在等待操作系统返回结果时都会释放 GIL 。I/O 密集型 Python 程序能够从中受益：一个 Python 线程等待网络响应时，阻塞性 I/O 函数会释放 GIL ，再运行一个线程"
   ]
  },
  {
   "cell_type": "markdown",
   "metadata": {},
   "source": [
    "concurrent.futures 模块实现的是真正的并行计算，它使用 ProcessPoolExecutor 类把工作分配给多个 Python 进程处理。\n",
    "\n",
    "ProcessPoolExecutor 和 ThreadPoolExecutor 类都实现了通用的 Executor 接口，因此使用 concurrent.futures 模块能轻松地把基于线程的方案改为基于进程的方案。\n",
    "\n",
    "这两个实现 Executor 接口的类唯一值得注意的区别是：ThreadPoolExecutor.\\_\\_init__ 方法需要 max_workers 参数，指定线程池中线程的数量；ProcessPoolExecutor 默认值是 os.cpu_count() 函数返回的 CPU 数量。\n",
    "\n",
    "ProcessPoolExecutor 的价值体现在 CPU 密集型作业上。\n",
    "\n",
    "如果使用 Python 处理 CPU 密集型工作，应该试试 PyPy"
   ]
  },
  {
   "cell_type": "code",
   "execution_count": 5,
   "metadata": {},
   "outputs": [
    {
     "name": "stdout",
     "output_type": "stream",
     "text": [
      "149.3 KB\n",
      "170.7 KB\n",
      "192.0 KB\n",
      "213.3 KB\n",
      "234.7 KB\n",
      "256.0 KB\n",
      "277.3 KB\n",
      "298.7 KB\n",
      "320.0 KB\n",
      "341.3 KB\n",
      "362.7 KB\n",
      "384.0 KB\n",
      "12 workers, elapsed time: 1.41s\n"
     ]
    }
   ],
   "source": [
    "# arcfour_futures.py\n",
    "import sys\n",
    "import time\n",
    "from concurrent import futures\n",
    "from random import randrange\n",
    "from arcfour import arcfour_test\n",
    "\n",
    "JOBS = 12\n",
    "SIZE = 2**18\n",
    "\n",
    "KEY = b\"'Twas brillig, and the slithy toves\\nDid gyre\"\n",
    "STATUS = '{} workers, elapsed time: {:.2f}s'\n",
    "\n",
    "\n",
    "def main(workers=None):\n",
    "    if workers:\n",
    "        workers = int(workers)\n",
    "    t0 = time.time()\n",
    "\n",
    "    with futures.ProcessPoolExecutor(workers) as executor:\n",
    "        actual_workers = executor._max_workers\n",
    "        to_do = []\n",
    "        for i in range(JOBS, 0, -1):\n",
    "            size = SIZE + int(SIZE / JOBS * (i - JOBS/2))\n",
    "            job = executor.submit(arcfour_test, size, KEY)\n",
    "            to_do.append(job)\n",
    "\n",
    "        for future in futures.as_completed(to_do):\n",
    "            res = future.result()\n",
    "            print('{:.1f} KB'.format(res/2**10))\n",
    "\n",
    "    print(STATUS.format(actual_workers, time.time() - t0))\n",
    "\n",
    "\n",
    "if __name__ == '__main__':\n",
    "    if len(sys.argv) == 2:\n",
    "        workers = int(sys.argv[1])\n",
    "    else:\n",
    "        workers = None\n",
    "    main(workers)"
   ]
  },
  {
   "cell_type": "code",
   "execution_count": 6,
   "metadata": {},
   "outputs": [
    {
     "name": "stdout",
     "output_type": "stream",
     "text": [
      "d383d59bf59532702669aa9519b01670456f87ff64acb8bf854019e6be6ba432\n",
      "925103567ea09e84a2ffe09fef8e7be4e8ae1e66d51e15f0aedd74abe805ecc7\n",
      "c958b095c686a578d3a1410f9d6749aa9bb8c0c4af978f1b1f5fd0a643df737e\n",
      "d2c9c0be744370852c4a7377c7e709bb0d580901851ad2b57615addb10047d46\n",
      "49b00d71b76bf8032d4f6248e5b7a3f53893b09c8f29807501c49475edb88b03\n",
      "ea60116b3385eff45819b8aa690fe32111cddd06565f18ede4bad6ae15891e88\n",
      "ca5eac96f853bfb28d5c77a83b73bfc651e29f97d183a8af847ba23df5fe8e7a\n",
      "8151a51f34d05d9ddf4e0f5898def85f38a04447f030046b336fda13bc796c85\n",
      "b2e6b671d0fb60a58690dd929dfe01129dc53580c4007f8b2af3794fb733dd18\n",
      "1f529e6ef92b4c5b251e6e4be361ddcb2ac6c3a4f9bb0611f3b5e6d3b8e65e82\n",
      "515963004c4961459da026981a31e877603ff7971fcfa3c07be0883942cff54f\n",
      "be9594e126fefb2cfe021baadeec34a1a99146d58299843b50f8272f5eb64d59\n",
      "12 workers, elapsed time: 1.84s\n"
     ]
    }
   ],
   "source": [
    "# sha_futures.py\n",
    "# 使用 hashlib 实现 SHA-256 算法\n",
    "import sys\n",
    "import time\n",
    "from concurrent import futures\n",
    "from sha import sha\n",
    "\n",
    "JOBS = 12\n",
    "SIZE = 2**20\n",
    "STATUS = '{} workers, elapsed time: {:.2f}s'\n",
    "\n",
    "\n",
    "def main(workers=None):\n",
    "    if workers:\n",
    "        workers = int(workers)\n",
    "    t0 = time.time()\n",
    "\n",
    "    with futures.ProcessPoolExecutor(workers) as executor:\n",
    "        actual_workers = executor._max_workers\n",
    "        to_do = (executor.submit(sha, SIZE) for i in range(JOBS))\n",
    "        for future in futures.as_completed(to_do):\n",
    "            res = future.result()\n",
    "            print(res)\n",
    "\n",
    "    print(STATUS.format(actual_workers, time.time() - t0))\n",
    "\n",
    "if __name__ == '__main__':\n",
    "    if len(sys.argv) == 2:\n",
    "        workers = int(sys.argv[1])\n",
    "    else:\n",
    "        workers = None\n",
    "    main(workers)"
   ]
  },
  {
   "cell_type": "markdown",
   "metadata": {},
   "source": [
    "Executor.map 函数返回结果的顺序与调用开始的顺序一致；\n",
    "\n",
    "executor.sumbit 和 futures.as_completed 组合比 executor.map 更灵活\n",
    "- submit 方法能处理不同的可调用对象和参数\n",
    "- map 方法只能处理参数不同的同一个可调用对象\n",
    "- 传给 futures.as_completed 函数的 future 集合可以来自多个 Executor 实例"
   ]
  },
  {
   "cell_type": "code",
   "execution_count": 7,
   "metadata": {},
   "outputs": [
    {
     "name": "stdout",
     "output_type": "stream",
     "text": [
      "[14:25:07] Script starting.\n",
      "[14:25:07] loiter(0): doing nothing for 0s...\n",
      "[14:25:07] [14:25:07] \tloiter(1): doing nothing for 1s...\n",
      "loiter(0): done.\n",
      "[14:25:07] [14:25:07]\t\tloiter(2): doing nothing for 2s...\n",
      "[14:25:07] \t\t\tloiter(3): doing nothing for 3s...\n",
      " results: <generator object Executor.map.<locals>.result_iterator at 0x000002A3AD5F7190>\n",
      "[14:25:07] Waiting for individual results:\n",
      "[14:25:07] result 0: 0\n",
      "[14:25:08] \tloiter(1): done.\n",
      "[14:25:08][14:25:08]  \t\t\t\tloiter(4): doing nothing for 4s...result 1: 10\n",
      "\n",
      "[14:25:09] \t\tloiter(2): done.\n",
      "[14:25:09] result 2: 20\n",
      "[14:25:10] \t\t\tloiter(3): done.\n",
      "[14:25:10] result 3: 30\n",
      "[14:25:12] \t\t\t\tloiter(4): done.\n",
      "[14:25:12] result 4: 40\n"
     ]
    }
   ],
   "source": [
    "from time import sleep, strftime\n",
    "from concurrent import futures\n",
    "\n",
    "\n",
    "def display(*args):  # 打印传入的参数\n",
    "    print(strftime('[%H:%M:%S]'), end=' ')\n",
    "    print(*args)\n",
    "\n",
    "\n",
    "def loiter(n):  # 打印消息，休眠 n 秒，再打印消息\n",
    "    msg = '{}loiter({}): doing nothing for {}s...'\n",
    "    display(msg.format('\\t'*n, n, n))\n",
    "    sleep(n)\n",
    "    msg = '{}loiter({}): done.'\n",
    "    display(msg.format('\\t'*n, n))\n",
    "    return n * 10\n",
    "\n",
    "\n",
    "def main():\n",
    "    display('Script starting.')\n",
    "    executor = futures.ThreadPoolExecutor(max_workers=3)  # 3 个线程\n",
    "    results = executor.map(loiter, range(5))  # 提交任务\n",
    "    display('results:', results)  # 返回生成器\n",
    "    display('Waiting for individual results:')\n",
    "    for i, result in enumerate(results):  # 隐式调用 next(result)，result 方法会阻塞，直到 future 运行结束\n",
    "        display('result {}: {}'.format(i, result))\n",
    "\n",
    "\n",
    "main()"
   ]
  },
  {
   "cell_type": "markdown",
   "metadata": {},
   "source": [
    "处理错误：\n",
    "- flags2_common.py：通用函数和设置\n",
    "- flags2_sequential.py：HTTP 顺序下载客户端\n",
    "- flags2_threadpool.py：HTTP 并发客户端\n",
    "- flags2_asyncio.py：HTTP 并发客户端"
   ]
  },
  {
   "cell_type": "markdown",
   "metadata": {},
   "source": [
    "tqdm 函数能处理任何可迭代对象，生成一个迭代器；使用这个迭代器时，显示进度条和完成全部迭代预计的剩余时间。"
   ]
  },
  {
   "cell_type": "code",
   "execution_count": 8,
   "metadata": {},
   "outputs": [
    {
     "name": "stderr",
     "output_type": "stream",
     "text": [
      "100%|█████████████████████████████████████████████████████████████████████████████████████████████| 1000/1000 [00:10<00:00, 94.54it/s]\n"
     ]
    }
   ],
   "source": [
    "import time\n",
    "from tqdm import tqdm\n",
    "\n",
    "for i in tqdm(range(1000)):\n",
    "    time.sleep(.01)"
   ]
  },
  {
   "cell_type": "code",
   "execution_count": 9,
   "metadata": {},
   "outputs": [
    {
     "name": "stderr",
     "output_type": "stream",
     "text": [
      "\r",
      "  0%|                                                                                                          | 0/20 [00:00<?, ?it/s]"
     ]
    },
    {
     "name": "stdout",
     "output_type": "stream",
     "text": [
      "LOCAL site: http://localhost:8001/flags\n",
      "Searching for 20 flags: from BD to VN\n",
      "1 concurrent connection will be used.\n"
     ]
    },
    {
     "name": "stderr",
     "output_type": "stream",
     "text": [
      "100%|█████████████████████████████████████████████████████████████████████████████████████████████████| 20/20 [01:20<00:00,  4.01s/it]"
     ]
    },
    {
     "name": "stdout",
     "output_type": "stream",
     "text": [
      "--------------------\n",
      "0 flags downloaded.\n",
      "20 errors.\n",
      "Elapsed time: 80.23s\n"
     ]
    },
    {
     "name": "stderr",
     "output_type": "stream",
     "text": [
      "\n"
     ]
    }
   ],
   "source": [
    "# LOCAL 服务器，人口最多的 20 国国旗，1 个并发连接\n",
    "%run -i flags2_sequential.py"
   ]
  },
  {
   "cell_type": "code",
   "execution_count": 10,
   "metadata": {},
   "outputs": [
    {
     "name": "stderr",
     "output_type": "stream",
     "text": [
      "\r",
      "  0%|                                                                                                          | 0/78 [00:00<?, ?it/s]"
     ]
    },
    {
     "name": "stdout",
     "output_type": "stream",
     "text": [
      "DELAY site: http://localhost:8002/flags\n",
      "Searching for 78 flags: from AA to CZ\n",
      "30 concurrent connections will be used.\n"
     ]
    },
    {
     "name": "stderr",
     "output_type": "stream",
     "text": [
      "100%|█████████████████████████████████████████████████████████████████████████████████████████████████| 78/78 [00:12<00:00,  6.49it/s]"
     ]
    },
    {
     "name": "stdout",
     "output_type": "stream",
     "text": [
      "--------------------\n",
      "0 flags downloaded.\n",
      "78 errors.\n",
      "Elapsed time: 12.08s\n"
     ]
    },
    {
     "name": "stderr",
     "output_type": "stream",
     "text": [
      "\n"
     ]
    }
   ],
   "source": [
    "# DELAY 服务器，以 A/B/C 开头的所有国旗\n",
    "%run -i flags2_threadpool.py -s DELAY a b c"
   ]
  },
  {
   "cell_type": "code",
   "execution_count": 11,
   "metadata": {},
   "outputs": [],
   "source": [
    "# ERROR 服务器，100 面国旗，100 个并发连接\n",
    "# %run -i flags2_asyncio.py -s ERROR -al 100 -m 100"
   ]
  },
  {
   "cell_type": "markdown",
   "metadata": {},
   "source": [
    "![](flags2.png)"
   ]
  },
  {
   "cell_type": "markdown",
   "metadata": {},
   "source": [
    "对 futures.as_completed 函数特别有用的惯用法：构建一个字典，把各个 future 映射到其他数据（future 运行结束后可能有用）上。"
   ]
  },
  {
   "cell_type": "markdown",
   "metadata": {},
   "source": [
    "对 CPU 密集型工作来说，要启动多个进程，规避 GIL\n",
    "\n",
    "threading 模块、multiprocessing 模块\n",
    "\n",
    "Python 3 把 thread 模块重命名为 \\_thread ，以此强调这是底层实现，不应该在应用代码中使用。\n",
    "\n",
    "Celery 是一个任务队列，用于把工作分配给多个线程和进程，甚至是不同的设备。\n",
    "\n",
    "对于 CPU 密集型和数据密集型并行处理，可以用分布式计算引擎 Apache Spark"
   ]
  },
  {
   "cell_type": "code",
   "execution_count": null,
   "metadata": {},
   "outputs": [],
   "source": []
  }
 ],
 "metadata": {
  "kernelspec": {
   "display_name": "Learn-Python",
   "language": "python",
   "name": "learn-python"
  },
  "language_info": {
   "codemirror_mode": {
    "name": "ipython",
    "version": 3
   },
   "file_extension": ".py",
   "mimetype": "text/x-python",
   "name": "python",
   "nbconvert_exporter": "python",
   "pygments_lexer": "ipython3",
   "version": "3.8.5"
  }
 },
 "nbformat": 4,
 "nbformat_minor": 4
}

{
 "cells": [
  {
   "cell_type": "markdown",
   "metadata": {},
   "source": [
    "with 语句会设置一个临时的上下文，交给上下文管理器对象控制，并且负责清理上下文。"
   ]
  },
  {
   "cell_type": "markdown",
   "metadata": {},
   "source": [
    "else 子句的行为：\n",
    "- for\n",
    "    - 仅当 for 循环运行完毕时（即 for 循环没有被 break 语句中止）才运行 else 块\n",
    "- while\n",
    "    - 仅当 while 循环因为条件为假值而退出时（即 while 循环没有被 break 语句中止）才运行 else 块\n",
    "- try\n",
    "    - 仅当 try 块中没有异常抛出时才运行 else 块。else 子句抛出的异常不会由前面的 except 子句处理\n",
    "\n",
    "在所有情况下，如果异常或者 return、break、continue 语句导致控制权跳到了复合语句的主块之外，else 子句也会被跳过。"
   ]
  },
  {
   "cell_type": "markdown",
   "metadata": {},
   "source": [
    "为了清晰和准确，try 块中应该只抛出预期异常的语句。\n",
    "\n",
    "在 Python 中，try/except 不仅用于处理错误，还常用于控制流程。\n",
    "\n",
    "EAFP\n",
    "- 取得原谅比获得许可容易（easier to ask for forgiveness than permission）\n",
    "- 先假定存在有效的键或属性，如果假定不成立，那么捕获异常\n",
    "\n",
    "LBYL\n",
    "- 三思而后行（look before you leap）\n",
    "- 在调用函数或查找属性或键之前显示测试前提条件"
   ]
  },
  {
   "cell_type": "markdown",
   "metadata": {},
   "source": [
    "上下文管理器对象存在的目的是管理 with 语句；迭代器的存在是为了管理 for 语句。\n",
    "\n",
    "with 语句的目的是简化 try/finally 模式\n",
    "- 这种模式用于保证一段代码运行完毕后执行某项操作，即便那段代码由于异常、return 语句或 sys.exit() 调用而中止，也会执行指定的操作。\n",
    "- finally 子句中的代码通常用于释放重要的资源，或者还原临时变更的状态\n",
    "\n",
    "上下文管理器协议包含 \\_\\_enter__ 和 \\_\\_exit__ 两个方法。\n",
    "\n",
    "执行 with 后面的表达式得到的结果是上下文管理器对象，把值绑定到目标变量上（as 子句）是在上下文管理器对象上调用 \\_\\_enter__ 方法的结果。\n",
    "\n",
    "with 语句的 as 子句是可选的。对 open 函数来说，必须加上 as 子句，以便获取文件的引用；有些上下文管理器会返回 None 。\n",
    "\n",
    "与函数和模块不同，with 块没有定义新的作用域。"
   ]
  },
  {
   "cell_type": "code",
   "execution_count": 1,
   "metadata": {},
   "outputs": [],
   "source": [
    "# fp 绑定到打开的文件上，__enter__ 方法返回 self\n",
    "with open('Romeo and Juliet.txt') as fp:\n",
    "    src = fp.read(60)\n",
    "\n",
    "len(src)"
   ]
  },
  {
   "cell_type": "code",
   "execution_count": 2,
   "metadata": {},
   "outputs": [],
   "source": [
    "# 仍然可用\n",
    "fp"
   ]
  },
  {
   "cell_type": "code",
   "execution_count": 3,
   "metadata": {},
   "outputs": [],
   "source": [
    "# 可以读取 fp 对象的属性\n",
    "fp.closed, fp.encoding"
   ]
  },
  {
   "cell_type": "code",
   "execution_count": 4,
   "metadata": {},
   "outputs": [],
   "source": [
    "# 文件已经关闭，__exit__ 方法\n",
    "fp.read(60)"
   ]
  },
  {
   "cell_type": "markdown",
   "metadata": {},
   "source": [
    "\\_\\_enter__\n",
    "- 隐式的 self\n",
    "\n",
    "\\_\\_exit__\n",
    "- 隐式的 self\n",
    "- exc_type\n",
    "    - 异常类\n",
    "- exc_value\n",
    "    - 异常实例\n",
    "- traceback\n",
    "    - traceback 对象\n",
    "\n",
    "在 try/finally 语句的 finally 块中调用 sys.exc_info() 得到的就是 \\_\\_exit__ 接收的这三个参数。"
   ]
  },
  {
   "cell_type": "code",
   "execution_count": 5,
   "metadata": {},
   "outputs": [],
   "source": [
    "class LookingGlass:\n",
    "    \n",
    "    # 仅 self 参数\n",
    "    def __enter__(self):\n",
    "        import sys\n",
    "        self.original_write = sys.stdout.write  # 保存原来的方法\n",
    "        sys.stdout.write = self.reverse_write  # 猴子补丁，替换成自己的方法\n",
    "        return 'JABBERWOCKY'  # 返回对象\n",
    "\n",
    "    def reverse_write(self, text):  # 替换方法\n",
    "        self.original_write(text[::-1])\n",
    "\n",
    "    def __exit__(self, exc_type, exc_value, traceback):  # 异常参数x3\n",
    "        import sys\n",
    "        sys.stdout.write = self.original_write  # 还原原来的方法\n",
    "        if exc_type is ZeroDivisionError:  # 捕获异常\n",
    "            print('Please DO NOT divide by zero!')\n",
    "            return True\n",
    "        # 如果 __exit__ 方法返回 None，或者 True 之外的值，with 块中的任何异常都会向上冒泡"
   ]
  },
  {
   "cell_type": "code",
   "execution_count": 6,
   "metadata": {},
   "outputs": [
    {
     "name": "stdout",
     "output_type": "stream",
     "text": [
      "pordwonS dna yttiK ,ecilA\n",
      "YKCOWREBBAJ\n"
     ]
    }
   ],
   "source": [
    "# 上下文管理器是 LookingGlass 类的实例\n",
    "with LookingGlass() as what:\n",
    "    print('Alice, Kitty and Snowdrop')  # 打印的内容反向\n",
    "    print(what)"
   ]
  },
  {
   "cell_type": "code",
   "execution_count": 7,
   "metadata": {},
   "outputs": [
    {
     "data": {
      "text/plain": [
       "'JABBERWOCKY'"
      ]
     },
     "execution_count": 7,
     "metadata": {},
     "output_type": "execute_result"
    }
   ],
   "source": [
    "what"
   ]
  },
  {
   "cell_type": "code",
   "execution_count": 8,
   "metadata": {},
   "outputs": [
    {
     "name": "stdout",
     "output_type": "stream",
     "text": [
      "Back to normal.\n"
     ]
    }
   ],
   "source": [
    "# 恢复原有函数\n",
    "print('Back to normal.')"
   ]
  },
  {
   "cell_type": "code",
   "execution_count": 9,
   "metadata": {},
   "outputs": [
    {
     "data": {
      "text/plain": [
       "<__main__.LookingGlass at 0x1db57650310>"
      ]
     },
     "execution_count": 9,
     "metadata": {},
     "output_type": "execute_result"
    }
   ],
   "source": [
    "# 在 with 块之外使用 LookingGlass 类\n",
    "\n",
    "# 实例化\n",
    "manager = LookingGlass()\n",
    "manager"
   ]
  },
  {
   "cell_type": "code",
   "execution_count": 10,
   "metadata": {},
   "outputs": [
    {
     "data": {
      "text/plain": [
       "True"
      ]
     },
     "execution_count": 10,
     "metadata": {},
     "output_type": "execute_result"
    }
   ],
   "source": [
    "# 调用 __enter__() 方法\n",
    "monster = manager.__enter__()\n",
    "monster == 'JABBERWOCKY'"
   ]
  },
  {
   "cell_type": "code",
   "execution_count": 11,
   "metadata": {},
   "outputs": [
    {
     "data": {
      "text/plain": [
       "'JABBERWOCKY'"
      ]
     },
     "execution_count": 11,
     "metadata": {},
     "output_type": "execute_result"
    }
   ],
   "source": [
    "monster"
   ]
  },
  {
   "cell_type": "code",
   "execution_count": 12,
   "metadata": {},
   "outputs": [
    {
     "data": {
      "text/plain": [
       "<__main__.LookingGlass at 0x1db57650310>"
      ]
     },
     "execution_count": 12,
     "metadata": {},
     "output_type": "execute_result"
    }
   ],
   "source": [
    "manager"
   ]
  },
  {
   "cell_type": "code",
   "execution_count": 13,
   "metadata": {},
   "outputs": [
    {
     "data": {
      "text/plain": [
       "'JABBERWOCKY'"
      ]
     },
     "execution_count": 13,
     "metadata": {},
     "output_type": "execute_result"
    }
   ],
   "source": [
    "# 调用 __exit__() 方法，还原\n",
    "manager.__exit__(None, None, None)\n",
    "monster"
   ]
  },
  {
   "cell_type": "markdown",
   "metadata": {},
   "source": [
    "Jupyter Notebook 里运行的结果不符合预期，直接在终端执行没问题。\n",
    "\n",
    "![](LookingGlass.png)"
   ]
  },
  {
   "cell_type": "markdown",
   "metadata": {},
   "source": [
    "上下文管理器示例\n",
    "- 在 sqlite3 模块中用于管理事物\n",
    "- 在 threading 模块中用于维护锁、条件和信号\n",
    "- 为 Decimal 对象的算术运算设置环境\n",
    "- 为了测试临时给对象打补丁"
   ]
  },
  {
   "cell_type": "markdown",
   "metadata": {},
   "source": [
    "contextlib 模块提供一些类和其他函数\n",
    "- closing\n",
    "    - 构建上下文管理器\n",
    "- suppress\n",
    "    - 构建临时忽略指定异常的上下文管理器\n",
    "- @contextmanager\n",
    "    - 把简单的生成器函数变成上下文管理器\n",
    "- ContextDecorator\n",
    "    - 用于定义基于类的上下文管理器\n",
    "- ExitStack\n",
    "    - 能进入多个上下文管理器"
   ]
  },
  {
   "cell_type": "markdown",
   "metadata": {},
   "source": [
    "在使用 @contextmanager 装饰器的生成器中，yield 语句的作用是把函数的定义体分成两部分\n",
    "- yield 语句前面的代码在 with 块开始时执行（\\_\\_enter__）\n",
    "- yield 语句后面的代码在 with 块结束时执行（\\_\\_exit__）"
   ]
  },
  {
   "cell_type": "code",
   "execution_count": 14,
   "metadata": {},
   "outputs": [],
   "source": [
    "import contextlib\n",
    "\n",
    "# 应用装饰器\n",
    "@contextlib.contextmanager\n",
    "def looking_glass():\n",
    "    import sys\n",
    "    original_write = sys.stdout.write  # 存储原来的方法\n",
    "\n",
    "    def reverse_write(text):  # 替换方法\n",
    "        original_write(text[::-1])\n",
    "\n",
    "    sys.stdout.write = reverse_write  # 替换\n",
    "    yield 'JABBERWOCKY'  # 产出一个值，这个值会绑定到 with 语句中 as 子句的目标变量上\n",
    "    sys.stdout.write = original_write  # 跳出 with 块，继续执行 yield 语句之后的代码，复原"
   ]
  },
  {
   "cell_type": "code",
   "execution_count": 15,
   "metadata": {},
   "outputs": [
    {
     "name": "stdout",
     "output_type": "stream",
     "text": [
      "pordwonS dna yttiK ,ecilA\n",
      "YKCOWREBBAJ\n"
     ]
    }
   ],
   "source": [
    "with looking_glass() as what:\n",
    "    print('Alice, Kitty and Snowdrop')\n",
    "    print(what)"
   ]
  },
  {
   "cell_type": "code",
   "execution_count": 16,
   "metadata": {},
   "outputs": [
    {
     "data": {
      "text/plain": [
       "'JABBERWOCKY'"
      ]
     },
     "execution_count": 16,
     "metadata": {},
     "output_type": "execute_result"
    }
   ],
   "source": [
    "what"
   ]
  },
  {
   "cell_type": "markdown",
   "metadata": {},
   "source": [
    "contextlib.contextmanager 装饰器会把函数包装成实现 \\_\\_enter__ 和 \\_\\_exit__ 方法的类（\\_GeneratorContextManager）\n",
    "- \\_\\_enter__\n",
    "    1. 调用生成器函数，保存生成器对象（这里把它称为 gen）\n",
    "    2. 调用 next(gen)，执行到 yield 关键字所在的位置\n",
    "    3. 返回 next(gen) 产出的值，以便把产出的值绑定到 with/as 语句中的目标变量上\n",
    "- \\_\\_exit__\n",
    "    1. 检查有没有把异常传给 exc_type；如果有，调用 gen.throw(exception)，在生成器函数定义体中包含 yield 关键字的那一行抛出异常\n",
    "    2. 否则，调用 next(gen)，继续执行生成器函数定义体中 yield 语句之后的代码\n",
    "    \n",
    "\n",
    "使用 @contextmanager 装饰器时，要把 yield 语句放在 try/finally 语句中（或者放在 with 语句中）。\n",
    "\n",
    "@contextmanager 装饰器优雅且实用，把三个不同的 Python 特性结合到了一起：函数装饰器、生成器、with 语句。"
   ]
  },
  {
   "cell_type": "code",
   "execution_count": 17,
   "metadata": {},
   "outputs": [],
   "source": [
    "@contextlib.contextmanager\n",
    "def looking_glass():\n",
    "    import sys\n",
    "    original_write = sys.stdout.write  # 替换\n",
    "\n",
    "    def reverse_write(text):\n",
    "        original_write(text[::-1])\n",
    "\n",
    "    sys.stdout.write = reverse_write\n",
    "    msg = ''  # 保存错误消息\n",
    "    try:\n",
    "        yield 'JABBERWOCKY'\n",
    "    except ZeroDivisionError:  # 捕获异常\n",
    "        msg = 'Please DO NOT divide by zero!'\n",
    "    finally:\n",
    "        sys.stdout.write = original_write  # 复原\n",
    "        if msg:\n",
    "            print(msg)  # 打印错误消息"
   ]
  },
  {
   "cell_type": "code",
   "execution_count": null,
   "metadata": {},
   "outputs": [],
   "source": []
  }
 ],
 "metadata": {
  "kernelspec": {
   "display_name": "Learn-Python",
   "language": "python",
   "name": "learn-python"
  },
  "language_info": {
   "codemirror_mode": {
    "name": "ipython",
    "version": 3
   },
   "file_extension": ".py",
   "mimetype": "text/x-python",
   "name": "python",
   "nbconvert_exporter": "python",
   "pygments_lexer": "ipython3",
   "version": "3.8.5"
  }
 },
 "nbformat": 4,
 "nbformat_minor": 4
}

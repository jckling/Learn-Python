{
 "cells": [
  {
   "cell_type": "markdown",
   "metadata": {},
   "source": [
    "从鸭子类型的代表特征动态协议，到使接口更明确、能验证实现是否符合规定的抽象基类（Abstract Base Class, ABC）。\n",
    "\n",
    "抽象基类的常见用途：实现接口时作为超类使用。\n",
    "\n",
    "抽象基类与描述符和元类一样，是用于构建框架的工具。\n",
    "\n",
    "除了抽象基类，每个类都有接口：类实现或继承的公开属性（方法或数据属性），包括特殊方法，如 \\_\\_getitem__ 或 \\_\\_add__\n",
    "\n",
    "按照定义，受保护的属性和私有属性不在接口中。\n",
    "\n",
    "接口是实现特定角色的方法集合。协议与继承没有关系。一个类可能会实现多个接口，从而让实例扮演多个角色。\n",
    "\n",
    "协议是接口，但不是正式的（只由文档和约定定义），因此协议不能像正式接口那样施加限制。一个类可能只实现部分接口。\n",
    "\n",
    "对 Python 程序员来说，X 类对象、X 协议、X 接口都是一个意思。"
   ]
  },
  {
   "cell_type": "markdown",
   "metadata": {},
   "source": [
    "如果没有 \\_\\_iter__ 和 \\_\\_contains__ 方法，Python 会调用 \\_\\_getitem__ 方法，设法让迭代和 in 运算符可用。\n",
    "\n",
    "Python 中的迭代是鸭子类型的一种极端形式：为了迭代对象，解释器会尝试调用两个不同的方法。"
   ]
  },
  {
   "cell_type": "code",
   "execution_count": 1,
   "metadata": {},
   "outputs": [],
   "source": [
    "class Foo:\n",
    "    def __getitem__(self, pos):\n",
    "        return range(0, 30, 10)[pos]\n",
    "\n",
    "f = Foo()\n",
    "f[1]"
   ]
  },
  {
   "cell_type": "code",
   "execution_count": 2,
   "metadata": {},
   "outputs": [
    {
     "name": "stdout",
     "output_type": "stream",
     "text": [
      "0\n",
      "10\n",
      "20\n"
     ]
    }
   ],
   "source": [
    "for i in f:\n",
    "    print(i)"
   ]
  },
  {
   "cell_type": "code",
   "execution_count": 3,
   "metadata": {},
   "outputs": [
    {
     "data": {
      "text/plain": [
       "True"
      ]
     },
     "execution_count": 3,
     "metadata": {},
     "output_type": "execute_result"
    }
   ],
   "source": [
    "20 in f"
   ]
  },
  {
   "cell_type": "code",
   "execution_count": 4,
   "metadata": {},
   "outputs": [
    {
     "data": {
      "text/plain": [
       "False"
      ]
     },
     "execution_count": 4,
     "metadata": {},
     "output_type": "execute_result"
    }
   ],
   "source": [
    "15 in f"
   ]
  },
  {
   "cell_type": "markdown",
   "metadata": {},
   "source": [
    "如果遵守既定协议，很有可能增加利用现有的标准库和第三方代码的可能性，这得益于鸭子类型。"
   ]
  },
  {
   "cell_type": "code",
   "execution_count": 5,
   "metadata": {},
   "outputs": [
    {
     "data": {
      "text/plain": [
       "[1, 6, 3, 0, 2, 9, 7, 8, 4, 5]"
      ]
     },
     "execution_count": 5,
     "metadata": {},
     "output_type": "execute_result"
    }
   ],
   "source": [
    "from random import shuffle\n",
    "\n",
    "l = list(range(10))\n",
    "shuffle(l)\n",
    "l"
   ]
  },
  {
   "cell_type": "code",
   "execution_count": 6,
   "metadata": {},
   "outputs": [],
   "source": [
    "import collections\n",
    "\n",
    "Card = collections.namedtuple('Card', ['rank', 'suit'])\n",
    "\n",
    "class FrenchDeck:\n",
    "    ranks = [str(n) for n in range(2, 11)] + list('JQKA')\n",
    "    suits = 'spades diamonds clubs hearts'.split()\n",
    "\n",
    "    def __init__(self):\n",
    "        self._cards = [Card(rank, suit) for suit in self.suits\n",
    "                                        for rank in self.ranks]\n",
    "\n",
    "    def __len__(self):\n",
    "        return len(self._cards)\n",
    "\n",
    "    def __getitem__(self, position):\n",
    "        return self._cards[position]"
   ]
  },
  {
   "cell_type": "markdown",
   "metadata": {},
   "source": [
    "FrenchDeck 只实现了不可变的序列协议，可变的序列还必须提供 \\_\\_setitem__ 方法。"
   ]
  },
  {
   "cell_type": "code",
   "execution_count": 7,
   "metadata": {},
   "outputs": [
    {
     "ename": "TypeError",
     "evalue": "'FrenchDeck' object does not support item assignment",
     "output_type": "error",
     "traceback": [
      "\u001b[1;31m---------------------------------------------------------------------------\u001b[0m",
      "\u001b[1;31mTypeError\u001b[0m                                 Traceback (most recent call last)",
      "\u001b[1;32m<ipython-input-7-b0f6848dc353>\u001b[0m in \u001b[0;36m<module>\u001b[1;34m\u001b[0m\n\u001b[0;32m      1\u001b[0m \u001b[0mdeck\u001b[0m \u001b[1;33m=\u001b[0m \u001b[0mFrenchDeck\u001b[0m\u001b[1;33m(\u001b[0m\u001b[1;33m)\u001b[0m\u001b[1;33m\u001b[0m\u001b[1;33m\u001b[0m\u001b[0m\n\u001b[1;32m----> 2\u001b[1;33m \u001b[0mshuffle\u001b[0m\u001b[1;33m(\u001b[0m\u001b[0mdeck\u001b[0m\u001b[1;33m)\u001b[0m\u001b[1;33m\u001b[0m\u001b[1;33m\u001b[0m\u001b[0m\n\u001b[0m",
      "\u001b[1;32mc:\\python38\\lib\\random.py\u001b[0m in \u001b[0;36mshuffle\u001b[1;34m(self, x, random)\u001b[0m\n\u001b[0;32m    305\u001b[0m                 \u001b[1;31m# pick an element in x[:i+1] with which to exchange x[i]\u001b[0m\u001b[1;33m\u001b[0m\u001b[1;33m\u001b[0m\u001b[1;33m\u001b[0m\u001b[0m\n\u001b[0;32m    306\u001b[0m                 \u001b[0mj\u001b[0m \u001b[1;33m=\u001b[0m \u001b[0mrandbelow\u001b[0m\u001b[1;33m(\u001b[0m\u001b[0mi\u001b[0m\u001b[1;33m+\u001b[0m\u001b[1;36m1\u001b[0m\u001b[1;33m)\u001b[0m\u001b[1;33m\u001b[0m\u001b[1;33m\u001b[0m\u001b[0m\n\u001b[1;32m--> 307\u001b[1;33m                 \u001b[0mx\u001b[0m\u001b[1;33m[\u001b[0m\u001b[0mi\u001b[0m\u001b[1;33m]\u001b[0m\u001b[1;33m,\u001b[0m \u001b[0mx\u001b[0m\u001b[1;33m[\u001b[0m\u001b[0mj\u001b[0m\u001b[1;33m]\u001b[0m \u001b[1;33m=\u001b[0m \u001b[0mx\u001b[0m\u001b[1;33m[\u001b[0m\u001b[0mj\u001b[0m\u001b[1;33m]\u001b[0m\u001b[1;33m,\u001b[0m \u001b[0mx\u001b[0m\u001b[1;33m[\u001b[0m\u001b[0mi\u001b[0m\u001b[1;33m]\u001b[0m\u001b[1;33m\u001b[0m\u001b[1;33m\u001b[0m\u001b[0m\n\u001b[0m\u001b[0;32m    308\u001b[0m         \u001b[1;32melse\u001b[0m\u001b[1;33m:\u001b[0m\u001b[1;33m\u001b[0m\u001b[1;33m\u001b[0m\u001b[0m\n\u001b[0;32m    309\u001b[0m             \u001b[0m_int\u001b[0m \u001b[1;33m=\u001b[0m \u001b[0mint\u001b[0m\u001b[1;33m\u001b[0m\u001b[1;33m\u001b[0m\u001b[0m\n",
      "\u001b[1;31mTypeError\u001b[0m: 'FrenchDeck' object does not support item assignment"
     ]
    }
   ],
   "source": [
    "deck = FrenchDeck()\n",
    "shuffle(deck)"
   ]
  },
  {
   "cell_type": "markdown",
   "metadata": {},
   "source": [
    "猴子补丁（monkey patch）：在运行时修改类或模块，而不改动源码。"
   ]
  },
  {
   "cell_type": "code",
   "execution_count": 8,
   "metadata": {},
   "outputs": [
    {
     "data": {
      "text/plain": [
       "[Card(rank='3', suit='diamonds'),\n",
       " Card(rank='3', suit='hearts'),\n",
       " Card(rank='8', suit='clubs'),\n",
       " Card(rank='4', suit='spades'),\n",
       " Card(rank='6', suit='spades')]"
      ]
     },
     "execution_count": 8,
     "metadata": {},
     "output_type": "execute_result"
    }
   ],
   "source": [
    "def set_card(deck, position, card):\n",
    "    deck._cards[position] = card\n",
    "\n",
    "FrenchDeck.__setitem__ = set_card\n",
    "\n",
    "shuffle(deck)\n",
    "deck[:5]"
   ]
  },
  {
   "cell_type": "markdown",
   "metadata": {},
   "source": [
    "鸭子类型：对象的类型无关紧要，只要实现了特定的协议即可。\n",
    "- 忽略对象的真正类型，转而关注对象有没有实现所需的方法、签名和语义\n",
    "\n",
    "白鹅类型：只要 cls 是抽象基类，即 cls 的元类是 abc.ABCMeta ，就可以使用 isinstance(obj, cls)\n",
    "\n",
    "collections.abc 中有很多有用的抽象类（Python 标准库的 numbers 模块中还有一些）。\n",
    "\n",
    "Python 的抽象基类还有一个重要的实用优势：可以使用 register 类方法在终端用户的代码中把某个类“声明”为一个抽象基类的“虚拟子类”\n",
    "- 为此，被注册的类必须满足抽象基类对方法名和签名的要求，最重要的是满足底层的语义契约\n",
    "- 但是，开发那个类时不用了解抽象基类，更不用继承抽象基类\n",
    "\n",
    "有时，为了让抽象基类识别子类，甚至不用注册。抽象基类的本质就是几个特殊方法，此外，不要在生产代码中定义抽象基类（或元类）\n",
    "\n",
    "不要滥用 isinstance 检查，用多了可能导致代码异味，即表明面向对象设计得不好；此时应该使用多态，即采用一定的方式定义类，让解释器把调用分派给正确的方法，而不是用 if/elif/else 块硬编码分派逻辑。"
   ]
  },
  {
   "cell_type": "code",
   "execution_count": 9,
   "metadata": {},
   "outputs": [
    {
     "data": {
      "text/plain": [
       "True"
      ]
     },
     "execution_count": 9,
     "metadata": {},
     "output_type": "execute_result"
    }
   ],
   "source": [
    "class Struggle:\n",
    "    def __len__(self):\n",
    "        return 23\n",
    "\n",
    "from collections import abc\n",
    "\n",
    "isinstance(Struggle(), abc.Sized)"
   ]
  },
  {
   "cell_type": "markdown",
   "metadata": {},
   "source": [
    "使用鸭子类型处理单个字串或由字符串组成的可迭代对象\n",
    "\n",
    "EAFP 风格，即“取得原谅比获得许可容易”\n",
    "\n",
    "```python\n",
    "try:  # 假设是单个字符串\n",
    "    # 逗号替换为空格。拆分为列表\n",
    "    field_names = field_names.replace(',', ' ').split()\n",
    "except AttributeError:  # 假设是由字符串组成的可迭代对象\n",
    "    pass\n",
    "\n",
    "# 保存副本\n",
    "field_names = tuple(field_names)\n",
    "```"
   ]
  },
  {
   "cell_type": "markdown",
   "metadata": {},
   "source": [
    "导入（加载并编译模块时），Python 不会检查抽象方法的实现，在运行时实例化类时才会真正检查。\n",
    "\n",
    "在 collections.abc 中，每个抽象基类的具体方法都是作为类的公开接口实现的，因此不用知道实例的内部结构。\n",
    "\n",
    "collections.abc 的一些基类：\n",
    "- Iterable、Container、Sized\n",
    "- Sequence、Mapping、Set\n",
    "- MappingView\n",
    "- Callable、Hashable\n",
    "    - 主要作用是为内置函数 isinstance 提供支持，以一种安全的方式判断对象能不能调用或散列\n",
    "    - 若想检查是否能调用，可以使用内置的 callable() 函数"
   ]
  },
  {
   "cell_type": "code",
   "execution_count": 10,
   "metadata": {},
   "outputs": [
    {
     "name": "stderr",
     "output_type": "stream",
     "text": [
      "<ipython-input-10-f221085aea67>:5: DeprecationWarning: Using or importing the ABCs from 'collections' instead of from 'collections.abc' is deprecated since Python 3.3, and in 3.9 it will stop working\n",
      "  class FrenchDeck2(collections.MutableSequence):\n"
     ]
    }
   ],
   "source": [
    "import collections\n",
    "\n",
    "Card = collections.namedtuple('Card', ['rank', 'suit'])\n",
    "\n",
    "class FrenchDeck2(collections.MutableSequence):\n",
    "    ranks = [str(n) for n in range(2, 11)] + list('JQKA')\n",
    "    suits = 'spades diamonds clubs hearts'.split()\n",
    "\n",
    "    def __init__(self):\n",
    "        self._cards = [Card(rank, suit) for suit in self.suits\n",
    "                                        for rank in self.ranks]\n",
    "\n",
    "    def __len__(self):\n",
    "        return len(self._cards)\n",
    "\n",
    "    def __getitem__(self, position):\n",
    "        return self._cards[position]\n",
    "    \n",
    "    # 支持洗牌\n",
    "    def __setitem__(self, position, value):\n",
    "        self._cards[position] = value\n",
    "    \n",
    "    # 继承 MutableSequence 类必须实现\n",
    "    def __delitem__(self, position):\n",
    "        del self._cards[position]\n",
    "\n",
    "    # 继承 MutableSequence 类必须实现\n",
    "    def insert(self, position, value):\n",
    "        self._cards.insert(position, value)"
   ]
  },
  {
   "cell_type": "markdown",
   "metadata": {},
   "source": [
    "numbers 包定义了抽象基类的数字塔，Number 是位于最顶端的超类\n",
    "- Number\n",
    "- Complex\n",
    "- Real\n",
    "- Rational\n",
    "- Integral\n",
    "\n",
    "为了满足检查的需要，你或者你的 API 用户始终可以把兼容的类型注册为 numbers.Integer 的虚拟子类。\n",
    "\n",
    "如果程序需要 Decimal 的精度，要防止与其他低精度数字类型混淆，尤其是浮点数"
   ]
  },
  {
   "cell_type": "markdown",
   "metadata": {},
   "source": [
    "抽象方法可以有实现代码。即使实现了，子类也必须覆盖抽象方法，但是在子类中可以使用 super() 函数调用抽象方法，为它添加功能，而不是从头开始实现。\n",
    "\n",
    "抽象基类可以提供具体方法，只要依赖接口中的其他方法就行。"
   ]
  },
  {
   "cell_type": "code",
   "execution_count": 11,
   "metadata": {},
   "outputs": [],
   "source": [
    "# 抽象基类\n",
    "\n",
    "import abc\n",
    "\n",
    "# 自定义的抽象基类要继承 abc.ABC\n",
    "class Tombola(abc.ABC):\n",
    "\n",
    "    # 抽象方法装饰器\n",
    "    # 定义体通常只有文档字符串\n",
    "    @abc.abstractmethod\n",
    "    def load(self, iterable):\n",
    "        \"\"\"从可迭代对象中添加元素\"\"\"\n",
    "\n",
    "    # 抽象方法\n",
    "    @abc.abstractmethod\n",
    "    def pick(self):  # <3>\n",
    "        \"\"\"随机删除元素，然后将其返回\n",
    "\n",
    "        如果实例为空，这个方法应该抛出 `LookupError`\n",
    "        \"\"\"\n",
    "    \n",
    "    # 可以包含具体方法\n",
    "    # 只能依赖抽象基类定义的接口\n",
    "    # 即只能使用抽象基类中的其他具体方法、抽象方法或特性\n",
    "    def loaded(self):\n",
    "        \"\"\"如果至少有一个元素，返回 `True` ，否则返回 `False` \"\"\"\n",
    "        return bool(self.inspect())\n",
    "\n",
    "    # 具体方法\n",
    "    def inspect(self):\n",
    "        \"\"\"返回一个有序元组，由当前元素构成\"\"\"\n",
    "        items = []\n",
    "        while True:  # <6>\n",
    "            try:\n",
    "                items.append(self.pick())\n",
    "            except LookupError:\n",
    "                break\n",
    "        self.load(items)  # <7>\n",
    "        return tuple(sorted(items))"
   ]
  },
  {
   "cell_type": "code",
   "execution_count": 12,
   "metadata": {},
   "outputs": [
    {
     "data": {
      "text/plain": [
       "__main__.Fake"
      ]
     },
     "execution_count": 12,
     "metadata": {},
     "output_type": "execute_result"
    }
   ],
   "source": [
    "# 不符合要求的子类\n",
    "class Fake(Tombola):\n",
    "    def pick(self):\n",
    "        return 13\n",
    "\n",
    "Fake"
   ]
  },
  {
   "cell_type": "code",
   "execution_count": 13,
   "metadata": {},
   "outputs": [
    {
     "ename": "TypeError",
     "evalue": "Can't instantiate abstract class Fake with abstract methods load",
     "output_type": "error",
     "traceback": [
      "\u001b[1;31m---------------------------------------------------------------------------\u001b[0m",
      "\u001b[1;31mTypeError\u001b[0m                                 Traceback (most recent call last)",
      "\u001b[1;32m<ipython-input-13-a646eb69a2f6>\u001b[0m in \u001b[0;36m<module>\u001b[1;34m\u001b[0m\n\u001b[1;32m----> 1\u001b[1;33m \u001b[0mf\u001b[0m \u001b[1;33m=\u001b[0m \u001b[0mFake\u001b[0m\u001b[1;33m(\u001b[0m\u001b[1;33m)\u001b[0m\u001b[1;33m\u001b[0m\u001b[1;33m\u001b[0m\u001b[0m\n\u001b[0m",
      "\u001b[1;31mTypeError\u001b[0m: Can't instantiate abstract class Fake with abstract methods load"
     ]
    }
   ],
   "source": [
    "f = Fake()"
   ]
  },
  {
   "cell_type": "markdown",
   "metadata": {},
   "source": [
    "声明抽象基类最简单的方式是继承 abc.ABC 或其他抽象基类。\n",
    "\n",
    "声明抽象类方法的推荐方式是：\n",
    "```python\n",
    "class MyABC(abc,ABC):\n",
    "    @classmethod\n",
    "    @abc.abstractmethod\n",
    "    def an_abstract_classmethod(cls, ...):\n",
    "        pass\n",
    "```\n",
    "\n",
    "在函数上堆叠装饰器的顺序通常很重要\n",
    "- 与其他方法描述符一起使用时，abstractmethod() 应该放在最里层"
   ]
  },
  {
   "cell_type": "code",
   "execution_count": 14,
   "metadata": {},
   "outputs": [],
   "source": [
    "import random\n",
    "\n",
    "# 扩展 Tombola 类\n",
    "class BingoCage(Tombola):\n",
    "\n",
    "    def __init__(self, items):\n",
    "        self._randomizer = random.SystemRandom()  # 生成随机字节序列\n",
    "        self._items = []\n",
    "        self.load(items)  # 委托 .load(...) 方法实现初始加载\n",
    "\n",
    "    def load(self, items):\n",
    "        self._items.extend(items)\n",
    "        self._randomizer.shuffle(self._items)  # 使用 SystemRandom 实例的 .shuffle() 方法\n",
    "\n",
    "    def pick(self):\n",
    "        try:\n",
    "            return self._items.pop()\n",
    "        except IndexError:\n",
    "            raise LookupError('pick from empty BingoCage')\n",
    "\n",
    "    def __call__(self):\n",
    "        self.pick()"
   ]
  },
  {
   "cell_type": "code",
   "execution_count": 15,
   "metadata": {},
   "outputs": [],
   "source": [
    "# 扩展 Tombola 类，实现抽象方法\n",
    "class TumblingDrum(Tombola):\n",
    "\n",
    "    def __init__(self, iterable):\n",
    "        self._balls = []\n",
    "        self.load(iterable)\n",
    "\n",
    "    def load(self, iterable):\n",
    "        self._balls.extend(iterable)\n",
    "        shuffle(self._balls)\n",
    "\n",
    "    def pick(self):\n",
    "        return self._balls.pop()"
   ]
  },
  {
   "cell_type": "code",
   "execution_count": 16,
   "metadata": {},
   "outputs": [],
   "source": [
    "# 覆盖了继承的 inspect 和 loaded 方法\n",
    "class LotteryBlower(Tombola):\n",
    "\n",
    "    def __init__(self, iterable):\n",
    "        self._balls = list(iterable)  # 接受任何可迭代对象\n",
    "\n",
    "    def load(self, iterable):\n",
    "        self._balls.extend(iterable)\n",
    "\n",
    "    def pick(self):\n",
    "        try:\n",
    "            position = random.randrange(len(self._balls))  # 如果范围为空，抛出 ValueError\n",
    "        except ValueError:\n",
    "            raise LookupError('pick from empty BingoCage')\n",
    "        return self._balls.pop(position)  # 兼容 Tombola ，抛出 LookupError\n",
    "    \n",
    "    # 覆盖方法\n",
    "    def loaded(self):\n",
    "        return bool(self._balls)\n",
    "\n",
    "    # 覆盖方法\n",
    "    def inspect(self):\n",
    "        return tuple(sorted(self._balls))"
   ]
  },
  {
   "cell_type": "markdown",
   "metadata": {},
   "source": [
    "白鹅类型的一个基本特性：即使不继承，也有办法把一个类注册为抽象基类的虚拟子类。\n",
    "\n",
    "注册虚拟子类的方式是在抽象基类上调用 register 方法。之后，注册的类会变成抽象基类的虚拟子类，而且 issubclass 和 isinstance 等函数都能识别，但是注册的类不会从抽象基类中继承任何方法或属性。\n",
    "\n",
    "为了避免运行时错误，虚拟子类要实现所需的全部方法。\n",
    "\n",
    "register 方法通常作为普通的函数调用，不过也可以作为装饰器使用。"
   ]
  },
  {
   "cell_type": "code",
   "execution_count": 17,
   "metadata": {},
   "outputs": [],
   "source": [
    "# 注册为 Tombola 的虚拟子类\n",
    "@Tombola.register\n",
    "class TomboList(list):  # 扩展 list\n",
    "\n",
    "    def pick(self):\n",
    "        if self:  # 从 list 中继承 __bool__ 方法，列表不为空时返回 True\n",
    "            position = random.randrange(len(self))\n",
    "            return self.pop(position)  # 调用继承自 list 的 self.pop 方法\n",
    "        else:\n",
    "            raise LookupError('pop from empty TomboList')\n",
    "\n",
    "    load = list.extend\n",
    "\n",
    "    def loaded(self):\n",
    "        return bool(self)  # 委托 bool 函数\n",
    "\n",
    "    def inspect(self):\n",
    "        return tuple(sorted(self))"
   ]
  },
  {
   "cell_type": "code",
   "execution_count": 18,
   "metadata": {},
   "outputs": [
    {
     "data": {
      "text/plain": [
       "True"
      ]
     },
     "execution_count": 18,
     "metadata": {},
     "output_type": "execute_result"
    }
   ],
   "source": [
    "issubclass(TomboList, Tombola)"
   ]
  },
  {
   "cell_type": "code",
   "execution_count": 19,
   "metadata": {},
   "outputs": [
    {
     "data": {
      "text/plain": [
       "True"
      ]
     },
     "execution_count": 19,
     "metadata": {},
     "output_type": "execute_result"
    }
   ],
   "source": [
    "t = TomboList(range(100))\n",
    "isinstance(t, Tombola)"
   ]
  },
  {
   "cell_type": "markdown",
   "metadata": {},
   "source": [
    "类的继承关系在特殊的类属性 \\_\\_mro__ 中指定，即方法解析顺序（Method Resolution Order），该属性按顺序列出类及其超类，Python 会按照这个顺序搜索方法"
   ]
  },
  {
   "cell_type": "code",
   "execution_count": 20,
   "metadata": {},
   "outputs": [
    {
     "data": {
      "text/plain": [
       "(__main__.TomboList, list, object)"
      ]
     },
     "execution_count": 20,
     "metadata": {},
     "output_type": "execute_result"
    }
   ],
   "source": [
    "TomboList.__mro__"
   ]
  },
  {
   "cell_type": "markdown",
   "metadata": {},
   "source": [
    "使用到两个类属性，用它们内省类的继承关系\n",
    "- \\_\\_subclass__()\n",
    "    - 返回类的直接子类列表，不含虚拟子类\n",
    "- \\_abc_registry\n",
    "    - 只有抽象基类有这个属性，值是一个 WeakSet 对象，即抽象类注册的虚拟子类的弱引用"
   ]
  },
  {
   "cell_type": "code",
   "execution_count": 21,
   "metadata": {},
   "outputs": [
    {
     "ename": "AttributeError",
     "evalue": "type object 'Tombola' has no attribute '_abc_registry'",
     "output_type": "error",
     "traceback": [
      "\u001b[1;31m---------------------------------------------------------------------------\u001b[0m",
      "\u001b[1;31mAttributeError\u001b[0m                            Traceback (most recent call last)",
      "\u001b[1;32m<ipython-input-21-6e7f02991438>\u001b[0m in \u001b[0;36m<module>\u001b[1;34m\u001b[0m\n\u001b[0;32m     15\u001b[0m \u001b[0mverbose\u001b[0m \u001b[1;33m=\u001b[0m \u001b[1;32mTrue\u001b[0m\u001b[1;33m\u001b[0m\u001b[1;33m\u001b[0m\u001b[0m\n\u001b[0;32m     16\u001b[0m \u001b[0mreal_subclasses\u001b[0m \u001b[1;33m=\u001b[0m \u001b[0mTombola\u001b[0m\u001b[1;33m.\u001b[0m\u001b[0m__subclasses__\u001b[0m\u001b[1;33m(\u001b[0m\u001b[1;33m)\u001b[0m  \u001b[1;31m# 内存中存在的直接子代\u001b[0m\u001b[1;33m\u001b[0m\u001b[1;33m\u001b[0m\u001b[0m\n\u001b[1;32m---> 17\u001b[1;33m \u001b[0mvirtual_subclasses\u001b[0m \u001b[1;33m=\u001b[0m \u001b[0mlist\u001b[0m\u001b[1;33m(\u001b[0m\u001b[0mTombola\u001b[0m\u001b[1;33m.\u001b[0m\u001b[0m_abc_registry\u001b[0m\u001b[1;33m)\u001b[0m  \u001b[1;31m# Python 3.8 不支持\u001b[0m\u001b[1;33m\u001b[0m\u001b[1;33m\u001b[0m\u001b[0m\n\u001b[0m\u001b[0;32m     18\u001b[0m \u001b[1;33m\u001b[0m\u001b[0m\n\u001b[0;32m     19\u001b[0m \u001b[1;32mfor\u001b[0m \u001b[0mcls\u001b[0m \u001b[1;32min\u001b[0m \u001b[0mreal_subclasses\u001b[0m \u001b[1;33m+\u001b[0m \u001b[0mvirtual_subclasses\u001b[0m\u001b[1;33m:\u001b[0m  \u001b[1;31m# 找到各个子类，分别传给 test 函数\u001b[0m\u001b[1;33m\u001b[0m\u001b[1;33m\u001b[0m\u001b[0m\n",
      "\u001b[1;31mAttributeError\u001b[0m: type object 'Tombola' has no attribute '_abc_registry'"
     ]
    }
   ],
   "source": [
    "TEST_FILE = 'tombola_tests.rst'\n",
    "TEST_MSG = '{0:16} {1.attempted:2} tests, {1.failed:2} failed - {2}'\n",
    "\n",
    "\n",
    "def test(cls, verbose=False):\n",
    "\n",
    "    res = doctest.testfile(\n",
    "            TEST_FILE,\n",
    "            globs={'ConcreteTombola': cls},  # 要测试的类绑定到全局命名空间里的 ConcreteTombola 名称上\n",
    "            verbose=verbose,\n",
    "            optionflags=doctest.REPORT_ONLY_FIRST_FAILURE)\n",
    "    tag = 'FAIL' if res.failed else 'OK'\n",
    "    print(TEST_MSG.format(cls.__name__, res, tag))  # 输出测试结果\n",
    "\n",
    "verbose = True\n",
    "real_subclasses = Tombola.__subclasses__()  # 内存中存在的直接子代\n",
    "virtual_subclasses = list(Tombola._abc_registry)  # Python 3.8 不支持\n",
    "\n",
    "for cls in real_subclasses + virtual_subclasses:  # 找到各个子类，分别传给 test 函数\n",
    "    test(cls, verbose)"
   ]
  },
  {
   "cell_type": "markdown",
   "metadata": {},
   "source": [
    "Struggle 是 abc.Sized 的子类，因为 abc.Sized 实现了一个特殊的类方法 \\_\\_subclasshook__\n",
    "- 让抽象基类识别没有注册为子类的类\n",
    "- 检查虚拟子类，返回 `True`\n",
    "\n",
    "\\_\\_subclasshook__ 在白鹅类型中添加了一些鸭子类型的踪迹。\n",
    "\n",
    "借助“白鹅类型”，可以使用抽象基类明确声明接口，而且类可以子类化抽象基类或使用抽象基类注册（无需再继承关系中确立静态的强链接），宣称它实现了某个接口。\n",
    "\n",
    "日常使用中，我们与抽象基类的联系应该是创建现有抽象基类的子类，或者使用现有的抽象基类注册。此外，我们可能还会在 isinstance 检查中使用抽象基类。"
   ]
  },
  {
   "cell_type": "code",
   "execution_count": 22,
   "metadata": {},
   "outputs": [
    {
     "data": {
      "text/plain": [
       "True"
      ]
     },
     "execution_count": 22,
     "metadata": {},
     "output_type": "execute_result"
    }
   ],
   "source": [
    "class Struggle:\n",
    "    def __len__(self):\n",
    "        return 23\n",
    "\n",
    "from collections import abc\n",
    "\n",
    "isinstance(Struggle(), abc.Sized)"
   ]
  },
  {
   "cell_type": "code",
   "execution_count": 23,
   "metadata": {},
   "outputs": [
    {
     "data": {
      "text/plain": [
       "True"
      ]
     },
     "execution_count": 23,
     "metadata": {},
     "output_type": "execute_result"
    }
   ],
   "source": [
    "issubclass(Struggle, abc.Sized)"
   ]
  },
  {
   "cell_type": "markdown",
   "metadata": {},
   "source": [
    "强类型和弱类型\n",
    "- 如果一门语言很少隐式转换类型，说明它是强类型语言；如果经常这么做，说明它是弱类型语言\n",
    "- 强类型语言：Java、C++、Python\n",
    "- 弱类型语言：PHP、JavaScript、Perl\n",
    "\n",
    "静态类型和动态类型\n",
    "- 在编译时检查类型的语言是静态类型语言，在运行时检查类型的语言是动态类型语言\n",
    "- 静态类型使得一些工具（编译器和 IDE）便于分析代码，找出错误和提供其他服务（优化、重构、等等）\n",
    "- 动态类型便于代码重用，代码行数更少，而且能让接口自然或成为协议而不提早实行\n",
    "\n",
    "Go 语言可以说是具有“静态鸭子类型”。与 Python 相比，对 Go 来说好像每个抽象基类都实现了 \\_\\_subclasshook__ 方法，它会检查函数的名称和签名，而我们自己从不需要继承或注册抽象基类。"
   ]
  },
  {
   "cell_type": "code",
   "execution_count": null,
   "metadata": {},
   "outputs": [],
   "source": []
  }
 ],
 "metadata": {
  "kernelspec": {
   "display_name": "Learn-Python",
   "language": "python",
   "name": "learn-python"
  },
  "language_info": {
   "codemirror_mode": {
    "name": "ipython",
    "version": 3
   },
   "file_extension": ".py",
   "mimetype": "text/x-python",
   "name": "python",
   "nbconvert_exporter": "python",
   "pygments_lexer": "ipython3",
   "version": "3.8.5"
  }
 },
 "nbformat": 4,
 "nbformat_minor": 4
}

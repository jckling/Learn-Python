{
 "cells": [
  {
   "cell_type": "markdown",
   "metadata": {},
   "source": [
    "不管数据如何流动，yield 都是一种流程控制工具，使用它可以实现协作式多任务：协程可以把控制器让步给中心调度程序，从而激活其他的协程。\n",
    "\n",
    "协程是指一个过程，这个过程与调用方协作，产出由调用方提供的值。"
   ]
  },
  {
   "cell_type": "code",
   "execution_count": 1,
   "metadata": {},
   "outputs": [],
   "source": [
    "# 协程使用生成器函数定义\n",
    "def simple_coroutine():\n",
    "    print('-> coroutine started')\n",
    "    x = yield  # 如果协程只需从客户那里接收数据，那么产出的值是 None（隐式指定）\n",
    "    print('-> coroutine received:', x)"
   ]
  },
  {
   "cell_type": "code",
   "execution_count": 2,
   "metadata": {},
   "outputs": [
    {
     "data": {
      "text/plain": [
       "<generator object simple_coroutine at 0x00000215837A5DD0>"
      ]
     },
     "execution_count": 2,
     "metadata": {},
     "output_type": "execute_result"
    }
   ],
   "source": [
    "my_coro = simple_coroutine()\n",
    "my_coro"
   ]
  },
  {
   "cell_type": "code",
   "execution_count": 3,
   "metadata": {},
   "outputs": [
    {
     "name": "stdout",
     "output_type": "stream",
     "text": [
      "-> coroutine started\n"
     ]
    }
   ],
   "source": [
    "# 启动生成器\n",
    "next(my_coro)"
   ]
  },
  {
   "cell_type": "code",
   "execution_count": 4,
   "metadata": {},
   "outputs": [
    {
     "name": "stdout",
     "output_type": "stream",
     "text": [
      "-> coroutine received: 42\n"
     ]
    },
    {
     "ename": "StopIteration",
     "evalue": "",
     "output_type": "error",
     "traceback": [
      "\u001b[1;31m---------------------------------------------------------------------------\u001b[0m",
      "\u001b[1;31mStopIteration\u001b[0m                             Traceback (most recent call last)",
      "\u001b[1;32m<ipython-input-4-7c96f97a77cb>\u001b[0m in \u001b[0;36m<module>\u001b[1;34m\u001b[0m\n\u001b[1;32m----> 1\u001b[1;33m \u001b[0mmy_coro\u001b[0m\u001b[1;33m.\u001b[0m\u001b[0msend\u001b[0m\u001b[1;33m(\u001b[0m\u001b[1;36m42\u001b[0m\u001b[1;33m)\u001b[0m\u001b[1;33m\u001b[0m\u001b[1;33m\u001b[0m\u001b[0m\n\u001b[0m",
      "\u001b[1;31mStopIteration\u001b[0m: "
     ]
    }
   ],
   "source": [
    "my_coro.send(42)"
   ]
  },
  {
   "cell_type": "markdown",
   "metadata": {},
   "source": [
    "协程可以处于四个状态中的一个，当前状态可以使用 inspect.getgeneratorstate(...) 函数确定\n",
    "- GEN_CREATED\n",
    "    - 等待开始执行\n",
    "- GEN_RUNNING\n",
    "    - 解释器正在执行（只有在多线程应用中才能看到这个状态）\n",
    "- GEN_SUSPENDED\n",
    "    - 在 yield 表达式处暂停\n",
    "- GEN_CLOSED\n",
    "    - 执行结束\n",
    "    \n",
    "仅当协程处于暂停状态时才能调用 send 方法；始终要调用 next(my_coro) 激活协程，也可以调用 mycoro.send(None)\n",
    "\n",
    "预激（prime）协程：让协程向前执行到第一个 yield 表达式，准备好作为活跃的协程使用"
   ]
  },
  {
   "cell_type": "code",
   "execution_count": 5,
   "metadata": {},
   "outputs": [
    {
     "ename": "TypeError",
     "evalue": "can't send non-None value to a just-started generator",
     "output_type": "error",
     "traceback": [
      "\u001b[1;31m---------------------------------------------------------------------------\u001b[0m",
      "\u001b[1;31mTypeError\u001b[0m                                 Traceback (most recent call last)",
      "\u001b[1;32m<ipython-input-5-a91f04474ae8>\u001b[0m in \u001b[0;36m<module>\u001b[1;34m\u001b[0m\n\u001b[0;32m      1\u001b[0m \u001b[0mmy_coro\u001b[0m \u001b[1;33m=\u001b[0m \u001b[0msimple_coroutine\u001b[0m\u001b[1;33m(\u001b[0m\u001b[1;33m)\u001b[0m\u001b[1;33m\u001b[0m\u001b[1;33m\u001b[0m\u001b[0m\n\u001b[1;32m----> 2\u001b[1;33m \u001b[0mmy_coro\u001b[0m\u001b[1;33m.\u001b[0m\u001b[0msend\u001b[0m\u001b[1;33m(\u001b[0m\u001b[1;36m1729\u001b[0m\u001b[1;33m)\u001b[0m\u001b[1;33m\u001b[0m\u001b[1;33m\u001b[0m\u001b[0m\n\u001b[0m",
      "\u001b[1;31mTypeError\u001b[0m: can't send non-None value to a just-started generator"
     ]
    }
   ],
   "source": [
    "my_coro = simple_coroutine()\n",
    "my_coro.send(1729)"
   ]
  },
  {
   "cell_type": "markdown",
   "metadata": {},
   "source": [
    "协程在 yield 关键字所在的位置暂停执行。在赋值语句中，= 右边的代码再赋值之前执行。\n",
    "\n",
    "各个阶段都在 yield 表达式中结束，而且下一个阶段都从那一行代码开始，然后再把 yield 表达式的值赋值给变量。\n",
    "\n",
    "![](https://github.com/fluentpython/images/blob/master/simple_coro2.png?raw=true)"
   ]
  },
  {
   "cell_type": "code",
   "execution_count": 6,
   "metadata": {},
   "outputs": [],
   "source": [
    "def simple_coro2(a):\n",
    "    print('-> Started: a =', a)\n",
    "    b = yield  a\n",
    "    print('-> Received: b =', b)\n",
    "    c = yield a + b\n",
    "    print('-> Received: c =', c)"
   ]
  },
  {
   "cell_type": "code",
   "execution_count": 7,
   "metadata": {},
   "outputs": [],
   "source": [
    "my_coro2 = simple_coro2(14)"
   ]
  },
  {
   "cell_type": "code",
   "execution_count": 8,
   "metadata": {},
   "outputs": [
    {
     "data": {
      "text/plain": [
       "'GEN_CREATED'"
      ]
     },
     "execution_count": 8,
     "metadata": {},
     "output_type": "execute_result"
    }
   ],
   "source": [
    "from inspect import getgeneratorstate\n",
    "\n",
    "getgeneratorstate(my_coro2)  # 未启动"
   ]
  },
  {
   "cell_type": "code",
   "execution_count": 9,
   "metadata": {},
   "outputs": [
    {
     "name": "stdout",
     "output_type": "stream",
     "text": [
      "-> Started: a = 14\n"
     ]
    },
    {
     "data": {
      "text/plain": [
       "14"
      ]
     },
     "execution_count": 9,
     "metadata": {},
     "output_type": "execute_result"
    }
   ],
   "source": [
    "next(my_coro2)"
   ]
  },
  {
   "cell_type": "code",
   "execution_count": 10,
   "metadata": {},
   "outputs": [
    {
     "data": {
      "text/plain": [
       "'GEN_SUSPENDED'"
      ]
     },
     "execution_count": 10,
     "metadata": {},
     "output_type": "execute_result"
    }
   ],
   "source": [
    "getgeneratorstate(my_coro2)  # 暂停"
   ]
  },
  {
   "cell_type": "code",
   "execution_count": 11,
   "metadata": {},
   "outputs": [
    {
     "name": "stdout",
     "output_type": "stream",
     "text": [
      "-> Received: b = 28\n"
     ]
    },
    {
     "data": {
      "text/plain": [
       "42"
      ]
     },
     "execution_count": 11,
     "metadata": {},
     "output_type": "execute_result"
    }
   ],
   "source": [
    "my_coro2.send(28)"
   ]
  },
  {
   "cell_type": "code",
   "execution_count": 12,
   "metadata": {},
   "outputs": [
    {
     "name": "stdout",
     "output_type": "stream",
     "text": [
      "-> Received: c = 99\n"
     ]
    },
    {
     "ename": "StopIteration",
     "evalue": "",
     "output_type": "error",
     "traceback": [
      "\u001b[1;31m---------------------------------------------------------------------------\u001b[0m",
      "\u001b[1;31mStopIteration\u001b[0m                             Traceback (most recent call last)",
      "\u001b[1;32m<ipython-input-12-977093b924ab>\u001b[0m in \u001b[0;36m<module>\u001b[1;34m\u001b[0m\n\u001b[1;32m----> 1\u001b[1;33m \u001b[0mmy_coro2\u001b[0m\u001b[1;33m.\u001b[0m\u001b[0msend\u001b[0m\u001b[1;33m(\u001b[0m\u001b[1;36m99\u001b[0m\u001b[1;33m)\u001b[0m\u001b[1;33m\u001b[0m\u001b[1;33m\u001b[0m\u001b[0m\n\u001b[0m",
      "\u001b[1;31mStopIteration\u001b[0m: "
     ]
    }
   ],
   "source": [
    "my_coro2.send(99)"
   ]
  },
  {
   "cell_type": "code",
   "execution_count": 13,
   "metadata": {},
   "outputs": [
    {
     "data": {
      "text/plain": [
       "'GEN_CLOSED'"
      ]
     },
     "execution_count": 13,
     "metadata": {},
     "output_type": "execute_result"
    }
   ],
   "source": [
    "getgeneratorstate(my_coro2)  # 终止"
   ]
  },
  {
   "cell_type": "markdown",
   "metadata": {},
   "source": [
    "无限循环表明：仅当调用方在协程上调用 .close() 方法，或者没有对协程的引用而被垃圾回收程序回收时，这个协程才会终止"
   ]
  },
  {
   "cell_type": "code",
   "execution_count": 14,
   "metadata": {},
   "outputs": [],
   "source": [
    "# 计算移动平均值\n",
    "def averager():\n",
    "    total = 0.0\n",
    "    count = 0\n",
    "    average = None\n",
    "    while True:\n",
    "        term = yield average  # 暂停执行协程\n",
    "        total += term\n",
    "        count += 1\n",
    "        average = total/count"
   ]
  },
  {
   "cell_type": "code",
   "execution_count": 15,
   "metadata": {},
   "outputs": [
    {
     "data": {
      "text/plain": [
       "10.0"
      ]
     },
     "execution_count": 15,
     "metadata": {},
     "output_type": "execute_result"
    }
   ],
   "source": [
    "coro_avg = averager()  # 创建协程\n",
    "next(coro_avg)  # 预激协程\n",
    "\n",
    "coro_avg.send(10)  # 计算移动平均值"
   ]
  },
  {
   "cell_type": "code",
   "execution_count": 16,
   "metadata": {},
   "outputs": [
    {
     "data": {
      "text/plain": [
       "20.0"
      ]
     },
     "execution_count": 16,
     "metadata": {},
     "output_type": "execute_result"
    }
   ],
   "source": [
    "coro_avg.send(30)"
   ]
  },
  {
   "cell_type": "code",
   "execution_count": 17,
   "metadata": {},
   "outputs": [
    {
     "data": {
      "text/plain": [
       "15.0"
      ]
     },
     "execution_count": 17,
     "metadata": {},
     "output_type": "execute_result"
    }
   ],
   "source": [
    "coro_avg.send(5)"
   ]
  },
  {
   "cell_type": "code",
   "execution_count": 18,
   "metadata": {},
   "outputs": [],
   "source": [
    "# 构建预激装饰器\n",
    "from functools import wraps\n",
    "\n",
    "def coroutine(func):\n",
    "    \"\"\"装饰器：向前执行到第一个 yield 表达式，预激 func\"\"\"\n",
    "    @wraps(func)\n",
    "    def primer(*args,**kwargs):  # 替换原来的生成器对象，返回预激的生成器对象\n",
    "        gen = func(*args,**kwargs)  # 获取生成器对象\n",
    "        next(gen)  # 预激\n",
    "        return gen  # 返回\n",
    "    return primer"
   ]
  },
  {
   "cell_type": "code",
   "execution_count": 19,
   "metadata": {},
   "outputs": [],
   "source": [
    "@coroutine  # <5>\n",
    "def averager():  # <6>\n",
    "    total = 0.0\n",
    "    count = 0\n",
    "    average = None\n",
    "    while True:\n",
    "        term = yield average\n",
    "        total += term\n",
    "        count += 1\n",
    "        average = total/count"
   ]
  },
  {
   "cell_type": "code",
   "execution_count": 20,
   "metadata": {},
   "outputs": [
    {
     "data": {
      "text/plain": [
       "'GEN_SUSPENDED'"
      ]
     },
     "execution_count": 20,
     "metadata": {},
     "output_type": "execute_result"
    }
   ],
   "source": [
    "coro_avg = averager()  # 获取生成器对象\n",
    "getgeneratorstate(coro_avg)  # 已经预激"
   ]
  },
  {
   "cell_type": "code",
   "execution_count": 21,
   "metadata": {},
   "outputs": [
    {
     "data": {
      "text/plain": [
       "10.0"
      ]
     },
     "execution_count": 21,
     "metadata": {},
     "output_type": "execute_result"
    }
   ],
   "source": [
    "coro_avg.send(10)"
   ]
  },
  {
   "cell_type": "code",
   "execution_count": 22,
   "metadata": {},
   "outputs": [
    {
     "data": {
      "text/plain": [
       "20.0"
      ]
     },
     "execution_count": 22,
     "metadata": {},
     "output_type": "execute_result"
    }
   ],
   "source": [
    "coro_avg.send(30)"
   ]
  },
  {
   "cell_type": "code",
   "execution_count": 23,
   "metadata": {},
   "outputs": [
    {
     "data": {
      "text/plain": [
       "15.0"
      ]
     },
     "execution_count": 23,
     "metadata": {},
     "output_type": "execute_result"
    }
   ],
   "source": [
    "coro_avg.send(5)"
   ]
  },
  {
   "cell_type": "markdown",
   "metadata": {},
   "source": [
    "使用 yield from 句法调用协程时，会自动预激。标准库中的 asyncis.coroutine 装饰器不会预激协程。"
   ]
  },
  {
   "cell_type": "markdown",
   "metadata": {},
   "source": [
    "协程中未处理的异常会向上冒泡，传递给 next 函数或 send 方法阿德调用方（即触发协程的对象）"
   ]
  },
  {
   "cell_type": "code",
   "execution_count": 24,
   "metadata": {},
   "outputs": [
    {
     "data": {
      "text/plain": [
       "40.0"
      ]
     },
     "execution_count": 24,
     "metadata": {},
     "output_type": "execute_result"
    }
   ],
   "source": [
    "coro_avg = averager()\n",
    "coro_avg.send(40)"
   ]
  },
  {
   "cell_type": "code",
   "execution_count": 25,
   "metadata": {},
   "outputs": [
    {
     "data": {
      "text/plain": [
       "45.0"
      ]
     },
     "execution_count": 25,
     "metadata": {},
     "output_type": "execute_result"
    }
   ],
   "source": [
    "coro_avg.send(50)"
   ]
  },
  {
   "cell_type": "code",
   "execution_count": 26,
   "metadata": {},
   "outputs": [
    {
     "ename": "TypeError",
     "evalue": "unsupported operand type(s) for +=: 'float' and 'str'",
     "output_type": "error",
     "traceback": [
      "\u001b[1;31m---------------------------------------------------------------------------\u001b[0m",
      "\u001b[1;31mTypeError\u001b[0m                                 Traceback (most recent call last)",
      "\u001b[1;32m<ipython-input-26-ab30dc25c38f>\u001b[0m in \u001b[0;36m<module>\u001b[1;34m\u001b[0m\n\u001b[1;32m----> 1\u001b[1;33m \u001b[0mcoro_avg\u001b[0m\u001b[1;33m.\u001b[0m\u001b[0msend\u001b[0m\u001b[1;33m(\u001b[0m\u001b[1;34m'spam'\u001b[0m\u001b[1;33m)\u001b[0m\u001b[1;33m\u001b[0m\u001b[1;33m\u001b[0m\u001b[0m\n\u001b[0m",
      "\u001b[1;32m<ipython-input-19-ce281f4d0b38>\u001b[0m in \u001b[0;36maverager\u001b[1;34m()\u001b[0m\n\u001b[0;32m      6\u001b[0m     \u001b[1;32mwhile\u001b[0m \u001b[1;32mTrue\u001b[0m\u001b[1;33m:\u001b[0m\u001b[1;33m\u001b[0m\u001b[1;33m\u001b[0m\u001b[0m\n\u001b[0;32m      7\u001b[0m         \u001b[0mterm\u001b[0m \u001b[1;33m=\u001b[0m \u001b[1;32myield\u001b[0m \u001b[0maverage\u001b[0m\u001b[1;33m\u001b[0m\u001b[1;33m\u001b[0m\u001b[0m\n\u001b[1;32m----> 8\u001b[1;33m         \u001b[0mtotal\u001b[0m \u001b[1;33m+=\u001b[0m \u001b[0mterm\u001b[0m\u001b[1;33m\u001b[0m\u001b[1;33m\u001b[0m\u001b[0m\n\u001b[0m\u001b[0;32m      9\u001b[0m         \u001b[0mcount\u001b[0m \u001b[1;33m+=\u001b[0m \u001b[1;36m1\u001b[0m\u001b[1;33m\u001b[0m\u001b[1;33m\u001b[0m\u001b[0m\n\u001b[0;32m     10\u001b[0m         \u001b[0maverage\u001b[0m \u001b[1;33m=\u001b[0m \u001b[0mtotal\u001b[0m\u001b[1;33m/\u001b[0m\u001b[0mcount\u001b[0m\u001b[1;33m\u001b[0m\u001b[1;33m\u001b[0m\u001b[0m\n",
      "\u001b[1;31mTypeError\u001b[0m: unsupported operand type(s) for +=: 'float' and 'str'"
     ]
    }
   ],
   "source": [
    "coro_avg.send('spam')"
   ]
  },
  {
   "cell_type": "markdown",
   "metadata": {},
   "source": [
    "客户端代码可以在生成器对象上调用两个方法，显式地把异常发给协程\n",
    "- generator.throw(exc_type\\[, exc_value[, traceback)\n",
    "    - 使生成器在暂停的 yield 表达式处抛出指定的异常\n",
    "- generator.close()\n",
    "    - 使生成器在暂停的 yield 表达式处抛出 GeneratorExit 异常"
   ]
  },
  {
   "cell_type": "code",
   "execution_count": 27,
   "metadata": {},
   "outputs": [],
   "source": [
    "class DemoException(Exception):\n",
    "    \"\"\"DemoException 异常\"\"\"\n",
    "\n",
    "def demo_exc_handling():\n",
    "    print('-> coroutine started')\n",
    "    while True:\n",
    "        try:\n",
    "            x = yield\n",
    "        except DemoException:  # 特别处理\n",
    "            print('*** DemoException handled. Continuing...')\n",
    "        else:  # 没有异常\n",
    "            print('-> coroutine received: {!r}'.format(x))\n",
    "    raise RuntimeError('This line should never run.')  # 这一行永远不会执行"
   ]
  },
  {
   "cell_type": "markdown",
   "metadata": {},
   "source": [
    "激活和关闭 demo_exc_handling ，没有异常"
   ]
  },
  {
   "cell_type": "code",
   "execution_count": 28,
   "metadata": {},
   "outputs": [
    {
     "name": "stdout",
     "output_type": "stream",
     "text": [
      "-> coroutine started\n"
     ]
    }
   ],
   "source": [
    "exc_coro = demo_exc_handling()\n",
    "next(exc_coro)"
   ]
  },
  {
   "cell_type": "code",
   "execution_count": 29,
   "metadata": {},
   "outputs": [
    {
     "name": "stdout",
     "output_type": "stream",
     "text": [
      "-> coroutine received: 11\n"
     ]
    }
   ],
   "source": [
    "exc_coro.send(11)"
   ]
  },
  {
   "cell_type": "code",
   "execution_count": 30,
   "metadata": {},
   "outputs": [
    {
     "name": "stdout",
     "output_type": "stream",
     "text": [
      "-> coroutine received: 22\n"
     ]
    }
   ],
   "source": [
    "exc_coro.send(22)"
   ]
  },
  {
   "cell_type": "code",
   "execution_count": 31,
   "metadata": {},
   "outputs": [
    {
     "data": {
      "text/plain": [
       "'GEN_SUSPENDED'"
      ]
     },
     "execution_count": 31,
     "metadata": {},
     "output_type": "execute_result"
    }
   ],
   "source": [
    "getgeneratorstate(exc_coro)"
   ]
  },
  {
   "cell_type": "markdown",
   "metadata": {},
   "source": [
    "把 DemoException 异常传入 demo_exc_handling 不会导致协程中止"
   ]
  },
  {
   "cell_type": "code",
   "execution_count": 32,
   "metadata": {},
   "outputs": [
    {
     "name": "stdout",
     "output_type": "stream",
     "text": [
      "-> coroutine started\n"
     ]
    }
   ],
   "source": [
    "exc_coro = demo_exc_handling()\n",
    "next(exc_coro)"
   ]
  },
  {
   "cell_type": "code",
   "execution_count": 33,
   "metadata": {},
   "outputs": [
    {
     "name": "stdout",
     "output_type": "stream",
     "text": [
      "-> coroutine received: 11\n"
     ]
    }
   ],
   "source": [
    "exc_coro.send(11)"
   ]
  },
  {
   "cell_type": "code",
   "execution_count": 34,
   "metadata": {},
   "outputs": [
    {
     "name": "stdout",
     "output_type": "stream",
     "text": [
      "*** DemoException handled. Continuing...\n"
     ]
    }
   ],
   "source": [
    "exc_coro.throw(DemoException)"
   ]
  },
  {
   "cell_type": "code",
   "execution_count": 35,
   "metadata": {},
   "outputs": [
    {
     "data": {
      "text/plain": [
       "'GEN_SUSPENDED'"
      ]
     },
     "execution_count": 35,
     "metadata": {},
     "output_type": "execute_result"
    }
   ],
   "source": [
    "getgeneratorstate(exc_coro)"
   ]
  },
  {
   "cell_type": "markdown",
   "metadata": {},
   "source": [
    "如果无法处理传入的异常，协程会终止"
   ]
  },
  {
   "cell_type": "code",
   "execution_count": 36,
   "metadata": {},
   "outputs": [
    {
     "name": "stdout",
     "output_type": "stream",
     "text": [
      "-> coroutine started\n"
     ]
    }
   ],
   "source": [
    "exc_coro = demo_exc_handling()\n",
    "next(exc_coro)"
   ]
  },
  {
   "cell_type": "code",
   "execution_count": 37,
   "metadata": {},
   "outputs": [
    {
     "name": "stdout",
     "output_type": "stream",
     "text": [
      "-> coroutine received: 11\n"
     ]
    }
   ],
   "source": [
    "exc_coro.send(11)"
   ]
  },
  {
   "cell_type": "code",
   "execution_count": 38,
   "metadata": {},
   "outputs": [
    {
     "ename": "ZeroDivisionError",
     "evalue": "",
     "output_type": "error",
     "traceback": [
      "\u001b[1;31m---------------------------------------------------------------------------\u001b[0m",
      "\u001b[1;31mZeroDivisionError\u001b[0m                         Traceback (most recent call last)",
      "\u001b[1;32m<ipython-input-38-d0a75d13dc38>\u001b[0m in \u001b[0;36m<module>\u001b[1;34m\u001b[0m\n\u001b[1;32m----> 1\u001b[1;33m \u001b[0mexc_coro\u001b[0m\u001b[1;33m.\u001b[0m\u001b[0mthrow\u001b[0m\u001b[1;33m(\u001b[0m\u001b[0mZeroDivisionError\u001b[0m\u001b[1;33m)\u001b[0m\u001b[1;33m\u001b[0m\u001b[1;33m\u001b[0m\u001b[0m\n\u001b[0m",
      "\u001b[1;32m<ipython-input-27-b3fc39ca6d90>\u001b[0m in \u001b[0;36mdemo_exc_handling\u001b[1;34m()\u001b[0m\n\u001b[0;32m      6\u001b[0m     \u001b[1;32mwhile\u001b[0m \u001b[1;32mTrue\u001b[0m\u001b[1;33m:\u001b[0m\u001b[1;33m\u001b[0m\u001b[1;33m\u001b[0m\u001b[0m\n\u001b[0;32m      7\u001b[0m         \u001b[1;32mtry\u001b[0m\u001b[1;33m:\u001b[0m\u001b[1;33m\u001b[0m\u001b[1;33m\u001b[0m\u001b[0m\n\u001b[1;32m----> 8\u001b[1;33m             \u001b[0mx\u001b[0m \u001b[1;33m=\u001b[0m \u001b[1;32myield\u001b[0m\u001b[1;33m\u001b[0m\u001b[1;33m\u001b[0m\u001b[0m\n\u001b[0m\u001b[0;32m      9\u001b[0m         \u001b[1;32mexcept\u001b[0m \u001b[0mDemoException\u001b[0m\u001b[1;33m:\u001b[0m  \u001b[1;31m# 特别处理\u001b[0m\u001b[1;33m\u001b[0m\u001b[1;33m\u001b[0m\u001b[0m\n\u001b[0;32m     10\u001b[0m             \u001b[0mprint\u001b[0m\u001b[1;33m(\u001b[0m\u001b[1;34m'*** DemoException handled. Continuing...'\u001b[0m\u001b[1;33m)\u001b[0m\u001b[1;33m\u001b[0m\u001b[1;33m\u001b[0m\u001b[0m\n",
      "\u001b[1;31mZeroDivisionError\u001b[0m: "
     ]
    }
   ],
   "source": [
    "exc_coro.throw(ZeroDivisionError)"
   ]
  },
  {
   "cell_type": "code",
   "execution_count": 39,
   "metadata": {},
   "outputs": [
    {
     "data": {
      "text/plain": [
       "'GEN_CLOSED'"
      ]
     },
     "execution_count": 39,
     "metadata": {},
     "output_type": "execute_result"
    }
   ],
   "source": [
    "getgeneratorstate(exc_coro)"
   ]
  },
  {
   "cell_type": "markdown",
   "metadata": {},
   "source": []
  },
  {
   "cell_type": "code",
   "execution_count": 40,
   "metadata": {},
   "outputs": [],
   "source": [
    "def demo_finally():\n",
    "    print('-> coroutine started')\n",
    "    try:\n",
    "        while True:\n",
    "            try:\n",
    "                x = yield\n",
    "            except DemoException:\n",
    "                print('*** DemoException handled. Continuing...')\n",
    "            else:\n",
    "                print('-> coroutine received: {!r}'.format(x))\n",
    "    finally:\n",
    "        print('-> coroutine ending')"
   ]
  },
  {
   "cell_type": "markdown",
   "metadata": {},
   "source": [
    "激活和关闭 demo_finally ，没有异常"
   ]
  },
  {
   "cell_type": "code",
   "execution_count": 41,
   "metadata": {},
   "outputs": [
    {
     "name": "stdout",
     "output_type": "stream",
     "text": [
      "-> coroutine started\n"
     ]
    }
   ],
   "source": [
    "fin_coro = demo_finally()\n",
    "next(fin_coro)"
   ]
  },
  {
   "cell_type": "code",
   "execution_count": 42,
   "metadata": {},
   "outputs": [
    {
     "name": "stdout",
     "output_type": "stream",
     "text": [
      "-> coroutine received: 11\n"
     ]
    }
   ],
   "source": [
    "fin_coro.send(11)"
   ]
  },
  {
   "cell_type": "code",
   "execution_count": 43,
   "metadata": {},
   "outputs": [
    {
     "name": "stdout",
     "output_type": "stream",
     "text": [
      "-> coroutine received: 22\n"
     ]
    }
   ],
   "source": [
    "fin_coro.send(22)"
   ]
  },
  {
   "cell_type": "code",
   "execution_count": 44,
   "metadata": {},
   "outputs": [
    {
     "name": "stdout",
     "output_type": "stream",
     "text": [
      "-> coroutine ending\n"
     ]
    }
   ],
   "source": [
    "fin_coro.close()"
   ]
  },
  {
   "cell_type": "markdown",
   "metadata": {},
   "source": [
    "如果无法处理传入的异常，协程会终止，在终止时执行操作"
   ]
  },
  {
   "cell_type": "code",
   "execution_count": 45,
   "metadata": {},
   "outputs": [
    {
     "name": "stdout",
     "output_type": "stream",
     "text": [
      "-> coroutine started\n"
     ]
    }
   ],
   "source": [
    "fin_coro = demo_finally()\n",
    "next(fin_coro)"
   ]
  },
  {
   "cell_type": "code",
   "execution_count": 46,
   "metadata": {},
   "outputs": [
    {
     "name": "stdout",
     "output_type": "stream",
     "text": [
      "-> coroutine received: 11\n"
     ]
    }
   ],
   "source": [
    "fin_coro.send(11)"
   ]
  },
  {
   "cell_type": "code",
   "execution_count": 47,
   "metadata": {},
   "outputs": [
    {
     "name": "stdout",
     "output_type": "stream",
     "text": [
      "-> coroutine ending\n"
     ]
    },
    {
     "ename": "ZeroDivisionError",
     "evalue": "",
     "output_type": "error",
     "traceback": [
      "\u001b[1;31m---------------------------------------------------------------------------\u001b[0m",
      "\u001b[1;31mZeroDivisionError\u001b[0m                         Traceback (most recent call last)",
      "\u001b[1;32m<ipython-input-47-d0ec4ddb0825>\u001b[0m in \u001b[0;36m<module>\u001b[1;34m\u001b[0m\n\u001b[1;32m----> 1\u001b[1;33m \u001b[0mfin_coro\u001b[0m\u001b[1;33m.\u001b[0m\u001b[0mthrow\u001b[0m\u001b[1;33m(\u001b[0m\u001b[0mZeroDivisionError\u001b[0m\u001b[1;33m)\u001b[0m\u001b[1;33m\u001b[0m\u001b[1;33m\u001b[0m\u001b[0m\n\u001b[0m",
      "\u001b[1;32m<ipython-input-40-9ab6b278669e>\u001b[0m in \u001b[0;36mdemo_finally\u001b[1;34m()\u001b[0m\n\u001b[0;32m      4\u001b[0m         \u001b[1;32mwhile\u001b[0m \u001b[1;32mTrue\u001b[0m\u001b[1;33m:\u001b[0m\u001b[1;33m\u001b[0m\u001b[1;33m\u001b[0m\u001b[0m\n\u001b[0;32m      5\u001b[0m             \u001b[1;32mtry\u001b[0m\u001b[1;33m:\u001b[0m\u001b[1;33m\u001b[0m\u001b[1;33m\u001b[0m\u001b[0m\n\u001b[1;32m----> 6\u001b[1;33m                 \u001b[0mx\u001b[0m \u001b[1;33m=\u001b[0m \u001b[1;32myield\u001b[0m\u001b[1;33m\u001b[0m\u001b[1;33m\u001b[0m\u001b[0m\n\u001b[0m\u001b[0;32m      7\u001b[0m             \u001b[1;32mexcept\u001b[0m \u001b[0mDemoException\u001b[0m\u001b[1;33m:\u001b[0m\u001b[1;33m\u001b[0m\u001b[1;33m\u001b[0m\u001b[0m\n\u001b[0;32m      8\u001b[0m                 \u001b[0mprint\u001b[0m\u001b[1;33m(\u001b[0m\u001b[1;34m'*** DemoException handled. Continuing...'\u001b[0m\u001b[1;33m)\u001b[0m\u001b[1;33m\u001b[0m\u001b[1;33m\u001b[0m\u001b[0m\n",
      "\u001b[1;31mZeroDivisionError\u001b[0m: "
     ]
    }
   ],
   "source": [
    "fin_coro.throw(ZeroDivisionError)"
   ]
  },
  {
   "cell_type": "markdown",
   "metadata": {},
   "source": [
    "Python 引入 yield from 结构的主要原因之一与把异常传入嵌套的协程有关。另一个原因是让协程更方便地返回值。\n",
    "\n",
    "某些协程不会产出值，而是在最后返回一个值（通常是某种累计值）。\n",
    "- 为了返回值，协程必须正常终止"
   ]
  },
  {
   "cell_type": "code",
   "execution_count": 48,
   "metadata": {},
   "outputs": [],
   "source": [
    "from collections import namedtuple\n",
    "\n",
    "Result = namedtuple('Result', 'count average')\n",
    "\n",
    "\n",
    "def averager():\n",
    "    total = 0.0\n",
    "    count = 0\n",
    "    average = None\n",
    "    while True:\n",
    "        term = yield\n",
    "        if term is None:\n",
    "            break  # 终止\n",
    "        total += term\n",
    "        count += 1\n",
    "        average = total/count\n",
    "    return Result(count, average)  # 返回值"
   ]
  },
  {
   "cell_type": "code",
   "execution_count": 49,
   "metadata": {},
   "outputs": [],
   "source": [
    "coro_avg = averager()\n",
    "\n",
    "# 预激\n",
    "next(coro_avg)\n",
    "\n",
    "# 不产出值\n",
    "coro_avg.send(10)\n",
    "coro_avg.send(30)\n",
    "coro_avg.send(6.5)"
   ]
  },
  {
   "cell_type": "code",
   "execution_count": 50,
   "metadata": {},
   "outputs": [
    {
     "ename": "StopIteration",
     "evalue": "Result(count=3, average=15.5)",
     "output_type": "error",
     "traceback": [
      "\u001b[1;31m---------------------------------------------------------------------------\u001b[0m",
      "\u001b[1;31mStopIteration\u001b[0m                             Traceback (most recent call last)",
      "\u001b[1;32m<ipython-input-50-4446c8ef15da>\u001b[0m in \u001b[0;36m<module>\u001b[1;34m\u001b[0m\n\u001b[0;32m      1\u001b[0m \u001b[1;31m# 终止循环\u001b[0m\u001b[1;33m\u001b[0m\u001b[1;33m\u001b[0m\u001b[1;33m\u001b[0m\u001b[0m\n\u001b[0;32m      2\u001b[0m \u001b[1;31m# 生成器对象抛出 StopIteration 异常，异常对象的 value 属性保存着返回的值\u001b[0m\u001b[1;33m\u001b[0m\u001b[1;33m\u001b[0m\u001b[1;33m\u001b[0m\u001b[0m\n\u001b[1;32m----> 3\u001b[1;33m \u001b[0mcoro_avg\u001b[0m\u001b[1;33m.\u001b[0m\u001b[0msend\u001b[0m\u001b[1;33m(\u001b[0m\u001b[1;32mNone\u001b[0m\u001b[1;33m)\u001b[0m\u001b[1;33m\u001b[0m\u001b[1;33m\u001b[0m\u001b[0m\n\u001b[0m",
      "\u001b[1;31mStopIteration\u001b[0m: Result(count=3, average=15.5)"
     ]
    }
   ],
   "source": [
    "# 终止循环\n",
    "# 生成器对象抛出 StopIteration 异常，异常对象的 value 属性保存着返回的值\n",
    "coro_avg.send(None)"
   ]
  },
  {
   "cell_type": "code",
   "execution_count": 51,
   "metadata": {},
   "outputs": [
    {
     "name": "stdout",
     "output_type": "stream",
     "text": [
      "Result(count=3, average=15.5)\n"
     ]
    }
   ],
   "source": [
    "coro_avg = averager()\n",
    "next(coro_avg)\n",
    "coro_avg.send(10)\n",
    "coro_avg.send(30)\n",
    "coro_avg.send(6.5)\n",
    "try:\n",
    "    coro_avg.send(None)\n",
    "except StopIteration as exc:\n",
    "    result = exc.value\n",
    "    print(result)"
   ]
  },
  {
   "cell_type": "markdown",
   "metadata": {},
   "source": [
    "对 yield from 结构来说，解释器不仅会捕获 StopIteration 异常，还会把 value 属性的值编程 yield from 表达式的值。\n",
    "\n",
    "在生成器 gen 中使用 yield from subgen() 时，subgen 会获得控制权，把产出的值传给 gen 的调用方，即调用方可以直接控制 subgen ；与此同时，gen 会阻塞，等待 subgen 终止。"
   ]
  },
  {
   "cell_type": "code",
   "execution_count": 52,
   "metadata": {},
   "outputs": [
    {
     "data": {
      "text/plain": [
       "['A', 'B', 1, 2]"
      ]
     },
     "execution_count": 52,
     "metadata": {},
     "output_type": "execute_result"
    }
   ],
   "source": [
    "# yield\n",
    "def gen():\n",
    "    for c in 'AB':\n",
    "        yield c\n",
    "    for i in range(1, 3):\n",
    "        yield i\n",
    "\n",
    "list(gen())"
   ]
  },
  {
   "cell_type": "code",
   "execution_count": 53,
   "metadata": {},
   "outputs": [
    {
     "data": {
      "text/plain": [
       "['A', 'B', 1, 2]"
      ]
     },
     "execution_count": 53,
     "metadata": {},
     "output_type": "execute_result"
    }
   ],
   "source": [
    "# yield from\n",
    "def gen():\n",
    "    yield from 'AB'\n",
    "    yield from range(1, 3)\n",
    "\n",
    "list(gen())"
   ]
  },
  {
   "cell_type": "code",
   "execution_count": 54,
   "metadata": {},
   "outputs": [
    {
     "data": {
      "text/plain": [
       "['A', 'B', 'C', 0, 1, 2]"
      ]
     },
     "execution_count": 54,
     "metadata": {},
     "output_type": "execute_result"
    }
   ],
   "source": [
    "# 使用 yield from 链接可迭代对象\n",
    "def chain(*iterables):\n",
    "    for it in iterables:\n",
    "        yield from it\n",
    "\n",
    "s = 'ABC'\n",
    "t = tuple(range(3))\n",
    "list(chain(s, t))"
   ]
  },
  {
   "cell_type": "markdown",
   "metadata": {},
   "source": [
    "yield from x 表达式对 x 对象所做的第一件事是，调用 iter(x) ，从中获取迭代器。\n",
    "\n",
    "yield from 的主要功能是打开双向通道，把最外层的调用方与最内层的子生成器连接起来，这样二者可以直接发送和产出值，还可以直接传入异常，而不用在位于中间的协程中添加大量处理异常的样板代码。\n",
    "\n",
    "PEP 380 使用了一些专门的术语\n",
    "- 委派生成器\n",
    "    - 包含 yield from <iterable> 表达式的生成器函数\n",
    "    - 委派生成器也是迭代器\n",
    "- 子生成器\n",
    "    - 在 yield from 表达时中 <iterable> 部分获取的生成器\n",
    "    - 子生成器也是迭代器\n",
    "- 调用方\n",
    "    - 指代调用委派生成器的客户端代码\n",
    "\n",
    "![](https://github.com/fluentpython/images/blob/master/yield-channel.png?raw=true)"
   ]
  },
  {
   "cell_type": "code",
   "execution_count": 55,
   "metadata": {},
   "outputs": [],
   "source": [
    "from collections import namedtuple\n",
    "\n",
    "Result = namedtuple('Result', 'count average')\n",
    "\n",
    "\n",
    "# 子生成器\n",
    "def averager():\n",
    "    total = 0.0\n",
    "    count = 0\n",
    "    average = None\n",
    "    while True:\n",
    "        term = yield  # 绑定\n",
    "        if term is None:  # 终止条件\n",
    "            break\n",
    "        total += term\n",
    "        count += 1\n",
    "        average = total/count\n",
    "    return Result(count, average)  # 返回值\n",
    "\n",
    "\n",
    "# 委派生成器\n",
    "def grouper(results, key):\n",
    "    while True:  # 每次迭代都新建一个 averager 实例；每个实例都作为协程使用的生成器对象\n",
    "        results[key] = yield from averager()\n",
    "\n",
    "\n",
    "# 调用方，客户端代码\n",
    "def main(data):\n",
    "    results = {}\n",
    "    for key, values in data.items():\n",
    "        group = grouper(results, key)  # group 作为协程使用\n",
    "        next(group)  # 预激\n",
    "        for value in values:\n",
    "            group.send(value)  # 发送值\n",
    "        group.send(None)  # 终止，执行下一个协程\n",
    "\n",
    "#     print(results)  # uncomment to debug\n",
    "    report(results)\n",
    "\n",
    "\n",
    "# output report\n",
    "def report(results):\n",
    "    for key, result in sorted(results.items()):\n",
    "        group, unit = key.split(';')\n",
    "        print('{:2} {:5} averaging {:.2f}{}'.format(\n",
    "              result.count, group, result.average, unit))"
   ]
  },
  {
   "cell_type": "code",
   "execution_count": 56,
   "metadata": {},
   "outputs": [
    {
     "name": "stdout",
     "output_type": "stream",
     "text": [
      " 9 boys  averaging 40.42kg\n",
      " 9 boys  averaging 1.39m\n",
      "10 girls averaging 42.04kg\n",
      "10 girls averaging 1.43m\n"
     ]
    }
   ],
   "source": [
    "data = {\n",
    "    'girls;kg':\n",
    "        [40.9, 38.5, 44.3, 42.2, 45.2, 41.7, 44.5, 38.0, 40.6, 44.5],\n",
    "    'girls;m':\n",
    "        [1.6, 1.51, 1.4, 1.3, 1.41, 1.39, 1.33, 1.46, 1.45, 1.43],\n",
    "    'boys;kg':\n",
    "        [39.0, 40.8, 43.2, 40.8, 43.1, 38.6, 41.4, 40.6, 36.3],\n",
    "    'boys;m':\n",
    "        [1.38, 1.5, 1.32, 1.25, 1.37, 1.48, 1.25, 1.49, 1.46],\n",
    "}\n",
    "\n",
    "main(data)"
   ]
  },
  {
   "cell_type": "markdown",
   "metadata": {},
   "source": [
    "任何 yield from 链条都必须由客户驱动，在最外层委派生成器上调用 next(...) 函数或者 .send(...) 方法。可以隐式调用，例如使用 for 循环。\n",
    "\n",
    "yield from 的行为\n",
    "- 子生成器产出的值都直接传给委派生成器的调用方（即客户端代码）\n",
    "- 使用 send() 方法发给委派生成器的值豆直接传给子生成器\n",
    "- 生成器退出时，生成器（或子生成器）中的 return expr 表达式会触发 StopIteration(expr) 异常抛出\n",
    "- yield from 表达式的值是子生成器终止时传给 StopIteration 异常的第一个参数\n",
    "\n",
    "yield from 结构的另外两个特性与异常和终止有关\n",
    "- 传入委派生成器的异常，除了 GeneratorExit 之外都传给子生成器的 throw() 方法\n",
    "- 如果把 GeneratorExit 异常传入委派生成器，或者在委派生成器上调用 close() 方法，那么在子生成器上调用 close() 方法，如果它有的话\n",
    "\n",
    "- [PEP 380 -- Syntax for Delegating to a Subgenerator](https://www.python.org/dev/peps/pep-0380/#formal-semantics)"
   ]
  },
  {
   "cell_type": "markdown",
   "metadata": {},
   "source": [
    "简化的伪代码，等效于委派生成器中的 RESULT = yield from EXPR 语句，不支持 .throw() 和 .close() 方法，只处理 StopIteration 异常\n",
    "\n",
    "```python\n",
    "_i = iter(EXPR)  # 迭代器\n",
    "try:\n",
    "    _y = next(_i)  # 预激\n",
    "except StopIteration as _e:\n",
    "    _r = _e.value  # 返回值\n",
    "else:\n",
    "    while 1:\n",
    "        _s = yield _y  # 子生成器产出\n",
    "        try:\n",
    "            _y = _i.send(_s)  # 转发\n",
    "        except StopIteration as _e:  # 终止\n",
    "            _r = _e.value\n",
    "            break\n",
    "\n",
    "RESULT = _r  # 最终结果\n",
    "```"
   ]
  },
  {
   "cell_type": "markdown",
   "metadata": {},
   "source": [
    "要预激子生成器，这表明用于自动预激的装饰器与 yield from 结构不兼容。"
   ]
  },
  {
   "cell_type": "markdown",
   "metadata": {},
   "source": [
    "伪代码，等效于委派生成器中的 RESULT = yield from EXPR 语句\n",
    "\n",
    "```python\n",
    "_i = iter(EXPR)  # 迭代器，子生成器\n",
    "try:\n",
    "    _y = next(_i)  # 产出的值，子生成器产出的值\n",
    "except StopIteration as _e:\n",
    "    _r = _e.value  # 结果，最终的结果\n",
    "else:\n",
    "    while 1:  # <\n",
    "        try:\n",
    "            _s = yield _y  # 发送的值，调用方发给委派生层器的值\n",
    "        except GeneratorExit as _e:  # 异常\n",
    "            try:\n",
    "                _m = _i.close\n",
    "            except AttributeError:\n",
    "                pass\n",
    "            else:\n",
    "                _m()\n",
    "            raise _e\n",
    "        except BaseException as _e:  # 处理调用方通过 .throw(...) 方法传入的异常\n",
    "            _x = sys.exc_info()\n",
    "            try:\n",
    "                _m = _i.throw\n",
    "            except AttributeError:\n",
    "                raise _e\n",
    "            else:  # <8>\n",
    "                try:\n",
    "                    _y = _m(*_x)\n",
    "                except StopIteration as _e:\n",
    "                    _r = _e.value\n",
    "                    break\n",
    "        else:  # 没有异常\n",
    "            try:\n",
    "                if _s is None:\n",
    "                    _y = next(_i)\n",
    "                else:\n",
    "                    _y = _i.send(_s)\n",
    "            except StopIteration as _e:  # 终止\n",
    "                _r = _e.value\n",
    "                break\n",
    "\n",
    "RESULT = _r  # 最终结果\n",
    "```"
   ]
  },
  {
   "cell_type": "markdown",
   "metadata": {},
   "source": [
    "PEP 342：协程能自然地表述很多算法，例如仿真、游戏、异步 I/O，以及其他事件驱动型编程形式或协作式多任务。\n",
    "\n",
    "协程是 asyncio 包的基础构建。"
   ]
  },
  {
   "cell_type": "markdown",
   "metadata": {},
   "source": [
    "离散事件仿真（Discrete Event Simulation, DES）是一种把系统建模成一系列事件的仿真类型。\n",
    "\n",
    "在离散事件仿真中，仿真“钟”向前推进的量不是固定的，而是直接推进到下一个事件模型的模拟时间。\n",
    "\n",
    "连续仿真的仿真钟以固定的量（通常很小）不断向前推进。\n",
    "\n",
    "回合制游戏就是离散事件仿真的例子：游戏的状态指在玩家操作时变化，而且一旦玩家决定下一步怎么走了，仿真钟就会冻结。\n",
    "\n",
    "实施游戏则是连续仿真：仿真钟一直在运行，游戏的状态在一秒钟之内更新很多次，因此反应慢的玩家特别吃亏。\n",
    "\n",
    "这两种仿真类型都能使用多线程或在单个线程中使用面向事件的编程技术（例如事件循环驱动的回调或协程）实现。为了实现连续仿真，在多个线程中处理实时并行的操作更自然。而协程恰好为实现离散事件仿真提供了合理的抽象。\n",
    "\n",
    "在仿真领域，进程这个术语指代模型中某个实体的活动。"
   ]
  },
  {
   "cell_type": "code",
   "execution_count": 57,
   "metadata": {},
   "outputs": [
    {
     "name": "stdout",
     "output_type": "stream",
     "text": [
      "taxi: 0  Event(time=0, proc=0, action='leave garage')\n",
      "taxi: 0  Event(time=2, proc=0, action='pick up passenger')\n",
      "taxi: 0  Event(time=5, proc=0, action='drop off passenger')\n",
      "taxi: 1     Event(time=5, proc=1, action='leave garage')\n",
      "taxi: 0  Event(time=6, proc=0, action='pick up passenger')\n",
      "taxi: 1     Event(time=6, proc=1, action='pick up passenger')\n",
      "taxi: 2        Event(time=10, proc=2, action='leave garage')\n",
      "taxi: 2        Event(time=14, proc=2, action='pick up passenger')\n",
      "taxi: 2        Event(time=16, proc=2, action='drop off passenger')\n",
      "taxi: 1     Event(time=18, proc=1, action='drop off passenger')\n",
      "taxi: 0  Event(time=24, proc=0, action='drop off passenger')\n",
      "taxi: 1     Event(time=25, proc=1, action='pick up passenger')\n",
      "taxi: 0  Event(time=29, proc=0, action='going home')\n",
      "taxi: 1     Event(time=30, proc=1, action='drop off passenger')\n",
      "taxi: 2        Event(time=33, proc=2, action='pick up passenger')\n",
      "taxi: 1     Event(time=35, proc=1, action='pick up passenger')\n",
      "taxi: 1     Event(time=66, proc=1, action='drop off passenger')\n",
      "taxi: 1     Event(time=72, proc=1, action='pick up passenger')\n",
      "taxi: 1     Event(time=86, proc=1, action='drop off passenger')\n",
      "taxi: 1     Event(time=113, proc=1, action='going home')\n",
      "taxi: 2        Event(time=146, proc=2, action='drop off passenger')\n",
      "taxi: 2        Event(time=148, proc=2, action='pick up passenger')\n",
      "taxi: 2        Event(time=157, proc=2, action='drop off passenger')\n",
      "taxi: 2        Event(time=166, proc=2, action='pick up passenger')\n",
      "taxi: 2        Event(time=178, proc=2, action='drop off passenger')\n",
      "taxi: 2        Event(time=183, proc=2, action='pick up passenger')\n",
      "*** end of simulation time: 1 events pending ***\n"
     ]
    }
   ],
   "source": [
    "import random\n",
    "import collections\n",
    "import queue\n",
    "import argparse\n",
    "\n",
    "\n",
    "# 默认值\n",
    "DEFAULT_NUMBER_OF_TAXIS = 3\n",
    "DEFAULT_END_TIME = 180\n",
    "SEARCH_DURATION = 5\n",
    "TRIP_DURATION = 20\n",
    "DEPARTURE_INTERVAL = 5\n",
    "\n",
    "# 事件，时间、编号、活动\n",
    "Event = collections.namedtuple('Event', 'time proc action')\n",
    "\n",
    "\n",
    "# 协程\n",
    "def taxi_process(ident, trips, start_time=0):  # 每辆出租车调用一次，创建生成器对象，表示各辆出租车的运营过程\n",
    "    \"\"\"每次改变状态时创建事件，把控制权让给仿真器\"\"\"\n",
    "    time = yield Event(start_time, ident, 'leave garage')  # 第一个事件是离开车库，协程暂停，等待\n",
    "    for i in range(trips):  # 每次行程都会执行一遍\n",
    "        time = yield Event(time, ident, 'pick up passenger')  # 产出一个事件，拉到乘客\n",
    "        time = yield Event(time, ident, 'drop off passenger')  # 产出一个事件，乘客下车\n",
    "\n",
    "    yield Event(time, ident, 'going home')  # 指定的行程数量完成后，产出事件，回家\n",
    "    # 出租车进程结束 # 协程执行到最后，生成器对象抛出 StopIteration 异常\n",
    "\n",
    "\n",
    "# 离散事件仿真类\n",
    "class Simulator:\n",
    "\n",
    "    def __init__(self, procs_map):\n",
    "        self.events = queue.PriorityQueue()  # 优先队列，按时间正向排序\n",
    "        self.procs = dict(procs_map)  # 映射出租车编号\n",
    "\n",
    "    def run(self, end_time):  # 参数：仿真结束时间\n",
    "        \"\"\"排定并显示事件，直到时间结束\"\"\"\n",
    "        # 排定各个出租车的第一个事件\n",
    "        for _, proc in sorted(self.procs.items()):  # 排序\n",
    "            first_event = next(proc)  # 预激\n",
    "            self.events.put(first_event)  # 添加事件\n",
    "\n",
    "        # 仿真系统主循环\n",
    "        sim_time = 0  # 仿真钟归零\n",
    "        while sim_time < end_time:\n",
    "            if self.events.empty():  # 事件全部完成\n",
    "                print('*** end of events ***')\n",
    "                break\n",
    "\n",
    "            current_event = self.events.get()  # 当前事件（时间最早）\n",
    "            sim_time, proc_id, previous_action = current_event  # 拆包\n",
    "            print('taxi:', proc_id, proc_id * '   ', current_event)\n",
    "            active_proc = self.procs[proc_id]  # 当前活动的出租车的协程\n",
    "            next_time = sim_time + compute_duration(previous_action)  # 传入前一个动作，计算下一个事件的时间\n",
    "            try:\n",
    "                next_event = active_proc.send(next_time)  # 产出下一个事件\n",
    "            except StopIteration:\n",
    "                del self.procs[proc_id]  # 抛出异常，删除协程\n",
    "            else:\n",
    "                self.events.put(next_event)  # 否则，放入队列\n",
    "        else:  # <16>\n",
    "            msg = '*** end of simulation time: {} events pending ***'\n",
    "            print(msg.format(self.events.qsize()))\n",
    "\n",
    "\n",
    "def compute_duration(previous_action):\n",
    "    \"\"\"使用指数分布计算活动的持续时间\"\"\"\n",
    "    if previous_action in ['leave garage', 'drop off passenger']:\n",
    "        # new state is prowling\n",
    "        interval = SEARCH_DURATION\n",
    "    elif previous_action == 'pick up passenger':\n",
    "        # new state is trip\n",
    "        interval = TRIP_DURATION\n",
    "    elif previous_action == 'going home':\n",
    "        interval = 1\n",
    "    else:\n",
    "        raise ValueError('Unknown previous_action: %s' % previous_action)\n",
    "    return int(random.expovariate(1/interval)) + 1\n",
    "\n",
    "\n",
    "def main(end_time=DEFAULT_END_TIME, num_taxis=DEFAULT_NUMBER_OF_TAXIS,\n",
    "         seed=None):\n",
    "    \"\"\"Initialize random generator, build procs and run simulation\"\"\"\n",
    "    if seed is not None:\n",
    "        random.seed(seed)  # get reproducible results\n",
    "\n",
    "    taxis = {i: taxi_process(i, (i+1)*2, i*DEPARTURE_INTERVAL)\n",
    "             for i in range(num_taxis)}\n",
    "    sim = Simulator(taxis)\n",
    "    sim.run(end_time)\n",
    "\n",
    "\n",
    "if __name__ == '__main__':\n",
    "\n",
    "#     parser = argparse.ArgumentParser(\n",
    "#                         description='Taxi fleet simulator.')\n",
    "#     parser.add_argument('-e', '--end-time', type=int,\n",
    "#                         default=DEFAULT_END_TIME,\n",
    "#                         help='simulation end time; default = %s'\n",
    "#                         % DEFAULT_END_TIME)\n",
    "#     parser.add_argument('-t', '--taxis', type=int,\n",
    "#                         default=DEFAULT_NUMBER_OF_TAXIS,\n",
    "#                         help='number of taxis running; default = %s'\n",
    "#                         % DEFAULT_NUMBER_OF_TAXIS)\n",
    "#     parser.add_argument('-s', '--seed', type=int, default=None,\n",
    "#                         help='random generator seed (for testing)')\n",
    "\n",
    "#     args = parser.parse_args()\n",
    "#     main(args.end_time, args.taxis, args.seed)\n",
    "    \n",
    "    main(DEFAULT_END_TIME, DEFAULT_NUMBER_OF_TAXIS, None)"
   ]
  },
  {
   "cell_type": "markdown",
   "metadata": {},
   "source": [
    "3 辆出租车的行程是交叉进行的，出租车每隔 5 分钟从车库出发。\n",
    "\n",
    "离散事件仿真经常使用指数分布。\n",
    "\n",
    "描述协程的操作时经常使用 drive 这个动词，例如：客户代码把值发给协程，驱动协程。\n",
    "\n",
    "优先队列是离散事件仿真系统的基础构件：创建事件的顺序不定，放入这种队列之后，可以按照各个事件排定的时间顺序取出。\n",
    "\n",
    "- 等效于调用 `main(end_time=120, seed=3)`\n",
    "\n",
    "![](16-3.png)"
   ]
  },
  {
   "cell_type": "code",
   "execution_count": 58,
   "metadata": {},
   "outputs": [
    {
     "data": {
      "text/plain": [
       "Event(time=0, proc=13, action='leave garage')"
      ]
     },
     "execution_count": 58,
     "metadata": {},
     "output_type": "execute_result"
    }
   ],
   "source": [
    "# 表示一辆出租车\n",
    "taxi = taxi_process(ident=13, trips=2, start_time=0)\n",
    "next(taxi)  # 预激"
   ]
  },
  {
   "cell_type": "code",
   "execution_count": 59,
   "metadata": {},
   "outputs": [
    {
     "data": {
      "text/plain": [
       "Event(time=7, proc=13, action='pick up passenger')"
      ]
     },
     "execution_count": 59,
     "metadata": {},
     "output_type": "execute_result"
    }
   ],
   "source": [
    "# 7min 后找到第一个乘客\n",
    "taxi.send(_.time + 7)"
   ]
  },
  {
   "cell_type": "code",
   "execution_count": 60,
   "metadata": {},
   "outputs": [
    {
     "data": {
      "text/plain": [
       "Event(time=30, proc=13, action='drop off passenger')"
      ]
     },
     "execution_count": 60,
     "metadata": {},
     "output_type": "execute_result"
    }
   ],
   "source": [
    "# 23min 后第一个乘客下车\n",
    "taxi.send(_.time + 23)"
   ]
  },
  {
   "cell_type": "code",
   "execution_count": 61,
   "metadata": {},
   "outputs": [
    {
     "data": {
      "text/plain": [
       "Event(time=35, proc=13, action='pick up passenger')"
      ]
     },
     "execution_count": 61,
     "metadata": {},
     "output_type": "execute_result"
    }
   ],
   "source": [
    "# 5min 后找到第二个乘客\n",
    "taxi.send(_.time + 5)"
   ]
  },
  {
   "cell_type": "code",
   "execution_count": 62,
   "metadata": {},
   "outputs": [
    {
     "data": {
      "text/plain": [
       "Event(time=83, proc=13, action='drop off passenger')"
      ]
     },
     "execution_count": 62,
     "metadata": {},
     "output_type": "execute_result"
    }
   ],
   "source": [
    "# 48min 后第二个乘客下车\n",
    "taxi.send(_.time + 48)"
   ]
  },
  {
   "cell_type": "code",
   "execution_count": 63,
   "metadata": {},
   "outputs": [
    {
     "data": {
      "text/plain": [
       "Event(time=84, proc=13, action='going home')"
      ]
     },
     "execution_count": 63,
     "metadata": {},
     "output_type": "execute_result"
    }
   ],
   "source": [
    "# 1 min 后回家\n",
    "taxi.send(_.time + 1)"
   ]
  },
  {
   "cell_type": "code",
   "execution_count": 64,
   "metadata": {},
   "outputs": [
    {
     "ename": "StopIteration",
     "evalue": "",
     "output_type": "error",
     "traceback": [
      "\u001b[1;31m---------------------------------------------------------------------------\u001b[0m",
      "\u001b[1;31mStopIteration\u001b[0m                             Traceback (most recent call last)",
      "\u001b[1;32m<ipython-input-64-2286e084c656>\u001b[0m in \u001b[0;36m<module>\u001b[1;34m\u001b[0m\n\u001b[0;32m      1\u001b[0m \u001b[1;31m# 执行到协程末尾，返回后抛出异常\u001b[0m\u001b[1;33m\u001b[0m\u001b[1;33m\u001b[0m\u001b[1;33m\u001b[0m\u001b[0m\n\u001b[1;32m----> 2\u001b[1;33m \u001b[0mtaxi\u001b[0m\u001b[1;33m.\u001b[0m\u001b[0msend\u001b[0m\u001b[1;33m(\u001b[0m\u001b[0m_\u001b[0m\u001b[1;33m.\u001b[0m\u001b[0mtime\u001b[0m \u001b[1;33m+\u001b[0m \u001b[1;36m10\u001b[0m\u001b[1;33m)\u001b[0m\u001b[1;33m\u001b[0m\u001b[1;33m\u001b[0m\u001b[0m\n\u001b[0m",
      "\u001b[1;31mStopIteration\u001b[0m: "
     ]
    }
   ],
   "source": [
    "# 执行到协程末尾，返回后抛出异常\n",
    "taxi.send(_.time + 10)"
   ]
  },
  {
   "cell_type": "markdown",
   "metadata": {},
   "source": [
    "yield from subgenerator() 这个结构假定 subgenerator 没有预激，然后自动预激。\n",
    "\n",
    "yield from 结构的三个主要组件\n",
    "- 委派生成器（在定义体中使用 yield form）\n",
    "- yield from 激活的子生成器\n",
    "- 通过委派生成器中 yield form 表达式架设起来的通道把值发给子生成器，从而驱动整个过程的客户代码\n",
    "\n",
    "事件驱动型框架（如 Tornado 和 asyncio）的运作方式：在单个线程中使用一个主循环驱动协程执行并发活动。\n",
    "\n",
    "实现面向事件编程：\n",
    "- 协作式多任务（协程）：协程显式自主地把控制权让步给中央调度程序\n",
    "- 抢占式多任务（多线程）：调度程序可以在任何时刻暂停线程，把控制权让给其他线程"
   ]
  },
  {
   "cell_type": "markdown",
   "metadata": {},
   "source": [
    "对编程语言来说，关键字的作用是建立控制流程和表达式计算的基本规则。"
   ]
  },
  {
   "cell_type": "code",
   "execution_count": null,
   "metadata": {},
   "outputs": [],
   "source": []
  }
 ],
 "metadata": {
  "kernelspec": {
   "display_name": "Learn-Python",
   "language": "python",
   "name": "learn-python"
  },
  "language_info": {
   "codemirror_mode": {
    "name": "ipython",
    "version": 3
   },
   "file_extension": ".py",
   "mimetype": "text/x-python",
   "name": "python",
   "nbconvert_exporter": "python",
   "pygments_lexer": "ipython3",
   "version": "3.8.5"
  }
 },
 "nbformat": 4,
 "nbformat_minor": 4
}

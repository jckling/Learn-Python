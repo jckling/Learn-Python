{
 "cells": [
  {
   "cell_type": "markdown",
   "metadata": {},
   "source": [
    "类元编程是指在运行时创建或定制类的技艺。\n",
    "\n",
    "在 Python 中，类是一等对象，因此任何时候都可以使用函数新建类，而无需使用 class 关键字。类装饰器也是函数，不过能够审查、修改、甚至把被装饰的类替换成其它类。元类是类元编程最高级的工具：使用元类可以创建具有某种特质的全新类种，例如抽象基类。"
   ]
  },
  {
   "cell_type": "code",
   "execution_count": 1,
   "metadata": {},
   "outputs": [],
   "source": [
    "def record_factory(cls_name, field_names):\n",
    "    try:\n",
    "        field_names = field_names.replace(',', ' ').split()  # 鸭子类型\n",
    "    except AttributeError:  # 不能调用 .replace 或 .split 方法\n",
    "        pass  # 假定 field_names 本就是标识符组成的序列\n",
    "    field_names = tuple(field_names)  # 使用属性名构建元组。作为新建类的 __slots__ 属性\n",
    "\n",
    "    def __init__(self, *args, **kwargs):  # 新建类的 __init__ 方法\n",
    "        attrs = dict(zip(self.__slots__, args))\n",
    "        attrs.update(kwargs)\n",
    "        for name, value in attrs.items():\n",
    "            setattr(self, name, value)\n",
    "\n",
    "    def __iter__(self):  # 把类的实例变成可迭代对象\n",
    "        for name in self.__slots__:\n",
    "            yield getattr(self, name)\n",
    "\n",
    "    def __repr__(self):  # 迭代 __slots__ 和 self，生成字符串表示形式\n",
    "        values = ', '.join('{}={!r}'.format(*i) for i\n",
    "                           in zip(self.__slots__, self))\n",
    "        return '{}({})'.format(self.__class__.__name__, values)\n",
    "\n",
    "    cls_attrs = dict(__slots__ = field_names,  # 组件类属性字典\n",
    "                     __init__  = __init__,\n",
    "                     __iter__  = __iter__,\n",
    "                     __repr__  = __repr__)\n",
    "\n",
    "    return type(cls_name, (object,), cls_attrs)  # 调用 type 构造方法，构建新类"
   ]
  },
  {
   "cell_type": "code",
   "execution_count": 2,
   "metadata": {},
   "outputs": [
    {
     "data": {
      "text/plain": [
       "Dog(name='Rex', weight=30, owner='Bob')"
      ]
     },
     "execution_count": 2,
     "metadata": {},
     "output_type": "execute_result"
    }
   ],
   "source": [
    "Dog = record_factory('Dog', 'name weight owner')  # 先写类名，后面跟着写在一个字符串里的多个属性名（空格或逗号分开）\n",
    "rex = Dog('Rex', 30, 'Bob')\n",
    "rex  # 字符串表示形式"
   ]
  },
  {
   "cell_type": "code",
   "execution_count": 3,
   "metadata": {},
   "outputs": [
    {
     "data": {
      "text/plain": [
       "('Rex', 30)"
      ]
     },
     "execution_count": 3,
     "metadata": {},
     "output_type": "execute_result"
    }
   ],
   "source": [
    "name, weight, _ = rex  # 可迭代对象\n",
    "name, weight"
   ]
  },
  {
   "cell_type": "code",
   "execution_count": 4,
   "metadata": {},
   "outputs": [
    {
     "data": {
      "text/plain": [
       "\"Bob's dog weighs 30kg\""
      ]
     },
     "execution_count": 4,
     "metadata": {},
     "output_type": "execute_result"
    }
   ],
   "source": [
    "\"{2}'s dog weighs {1}kg\".format(*rex)  # 拆包"
   ]
  },
  {
   "cell_type": "code",
   "execution_count": 5,
   "metadata": {},
   "outputs": [
    {
     "data": {
      "text/plain": [
       "Dog(name='Rex', weight=32, owner='Bob')"
      ]
     },
     "execution_count": 5,
     "metadata": {},
     "output_type": "execute_result"
    }
   ],
   "source": [
    "rex.weight = 32  # 可变对象\n",
    "rex"
   ]
  },
  {
   "cell_type": "code",
   "execution_count": 6,
   "metadata": {},
   "outputs": [
    {
     "data": {
      "text/plain": [
       "(__main__.Dog, object)"
      ]
     },
     "execution_count": 6,
     "metadata": {},
     "output_type": "execute_result"
    }
   ],
   "source": [
    "Dog.__mro__  # 继承自 object"
   ]
  },
  {
   "cell_type": "markdown",
   "metadata": {},
   "source": [
    "type 的三个参数分别是 name、bases、dict ， dict 指定新类的属性名和值\n",
    "\n",
    "```python\n",
    "MyClass = type('MyClass', (MySuperClass, MyMixin),\n",
    "              {'x':42, 'x2':lambda self: self.x * 2})\n",
    "```\n",
    "\n",
    "相当于\n",
    "\n",
    "```python\n",
    "class MyClass(MySuperClass, MyMixin):\n",
    "    x = 42\n",
    "    \n",
    "    def x2(self):\n",
    "        return self.x * 2\n",
    "```\n",
    "\n",
    "record_factory 函数创建的类，它的实例有个局限 —— 不能序列化，即不能使用 pickle 模块里的 dump/load 函数处理。"
   ]
  },
  {
   "cell_type": "markdown",
   "metadata": {},
   "source": [
    "类装饰器与函数装饰器非常类似，是参数为类对象的函数，返回原来的类或修改后的类。\n",
    "\n",
    "类装饰器有个重大缺点：只对直接依附的类有效。"
   ]
  },
  {
   "cell_type": "code",
   "execution_count": 7,
   "metadata": {},
   "outputs": [],
   "source": [
    "import model_v6 as model\n",
    "\n",
    "@model.entity  # 类装饰器\n",
    "class LineItem:\n",
    "    description = model.NonBlank()\n",
    "    weight = model.Quantity()\n",
    "    price = model.Quantity()\n",
    "\n",
    "    def __init__(self, description, weight, price):\n",
    "        self.description = description\n",
    "        self.weight = weight\n",
    "        self.price = price\n",
    "\n",
    "    def subtotal(self):\n",
    "        return self.weight * self.price"
   ]
  },
  {
   "cell_type": "code",
   "execution_count": 8,
   "metadata": {},
   "outputs": [],
   "source": [
    "# model_v6.py（部分）\n",
    "def entity(cls):  # 装饰器的参数是一个类\n",
    "    for key, attr in cls.__dict__.items():  # 迭代存储类属性的字典\n",
    "        if isinstance(attr, Validated):  # 如果属性是 Validated 描述符的实例\n",
    "            type_name = type(attr).__name__\n",
    "            attr.storage_name = '_{}#{}'.format(type_name, key)  # 使用描述符类的名称和托管属性的名称\n",
    "    return cls  # 返回修改后的类"
   ]
  },
  {
   "cell_type": "code",
   "execution_count": 9,
   "metadata": {},
   "outputs": [
    {
     "data": {
      "text/plain": [
       "['_NonBlank#description', '_Quantity#price', '_Quantity#weight']"
      ]
     },
     "execution_count": 9,
     "metadata": {},
     "output_type": "execute_result"
    }
   ],
   "source": [
    "raisins = LineItem('Golden raisins', 10, 6.95)\n",
    "dir(raisins)[:3]"
   ]
  },
  {
   "cell_type": "code",
   "execution_count": 10,
   "metadata": {},
   "outputs": [
    {
     "data": {
      "text/plain": [
       "'_NonBlank#description'"
      ]
     },
     "execution_count": 10,
     "metadata": {},
     "output_type": "execute_result"
    }
   ],
   "source": [
    "LineItem.description.storage_name"
   ]
  },
  {
   "cell_type": "code",
   "execution_count": 11,
   "metadata": {},
   "outputs": [
    {
     "data": {
      "text/plain": [
       "'Golden raisins'"
      ]
     },
     "execution_count": 11,
     "metadata": {},
     "output_type": "execute_result"
    }
   ],
   "source": [
    "raisins.description"
   ]
  },
  {
   "cell_type": "code",
   "execution_count": 12,
   "metadata": {},
   "outputs": [
    {
     "data": {
      "text/plain": [
       "'Golden raisins'"
      ]
     },
     "execution_count": 12,
     "metadata": {},
     "output_type": "execute_result"
    }
   ],
   "source": [
    "getattr(raisins, '_NonBlank#description')"
   ]
  },
  {
   "cell_type": "markdown",
   "metadata": {},
   "source": [
    "在导入时，计时器会从上到下一次性解析完 .py 模块的源码，然后生成用于执行的字节码。\n",
    "- 如果句法有错误，就在此时报告\n",
    "- 如果本地的 \\_\\_pycache__ 文件夹中有最新的 .pyc 文件，解释器就会跳过上述步骤\n",
    "\n",
    "import 语句不只是声明，在进程中首次导入模块时，还会运行所导入模块中的全部顶层代码 —— 以后导入相同的模块则使用缓存，只做名称绑定。\n",
    "\n",
    "解释器在导入时定义顶层函数，但是仅当在运行时调用函数才会执行函数的定义体。\n",
    "\n",
    "在导入时，解释器会执行每个类的定义体，甚至会执行嵌套类的定义体。\n",
    "- 执行类定义体的结果是，定义了类的属性和方法，并构建了类对象\n",
    "- 从这个意义上理解，类的定义体属于“顶层代码”，因为它在导入时运行"
   ]
  },
  {
   "cell_type": "markdown",
   "metadata": {},
   "source": [
    "1. 导入模块\n",
    "\n",
    "先计算被装饰的类 ClassThree 的定义体，然后运行装饰器函数\n",
    "\n",
    "- 解释器会执行所导入模块及其依赖（evalsupport）中的每个类定义体；\n",
    "- 解释器先计算类的定义体，然后调用依附在类上的装饰器函数\n",
    "- 只运行了一个用户定义的函数或方法：deco_alpha 装饰器"
   ]
  },
  {
   "cell_type": "code",
   "execution_count": 13,
   "metadata": {},
   "outputs": [
    {
     "name": "stdout",
     "output_type": "stream",
     "text": [
      "<[100]> evalsupport module start\n",
      "<[400]> MetaAleph body\n",
      "<[700]> evalsupport module end\n",
      "<[1]> evaltime module start\n",
      "<[2]> ClassOne body\n",
      "<[6]> ClassTwo body\n",
      "<[7]> ClassThree body\n",
      "<[200]> deco_alpha\n",
      "<[9]> ClassFour body\n",
      "<[14]> evaltime module end\n"
     ]
    }
   ],
   "source": [
    "import evaltime"
   ]
  },
  {
   "cell_type": "markdown",
   "metadata": {},
   "source": [
    "2. 运行模块\n",
    "\n",
    "类装饰器可能对子类没有影响\n",
    "\n",
    "- deco_alpha 装饰器修改了 ClassThree.method_y 方法，因此要调用 three.method_y() 时会运行 inner_1 函数的定义体\n",
    "- 只有程序结束时，绑定在全局变量 one 上的 ClassOne 实例才会被垃圾回收程序回收。"
   ]
  },
  {
   "cell_type": "code",
   "execution_count": 14,
   "metadata": {},
   "outputs": [
    {
     "name": "stdout",
     "output_type": "stream",
     "text": [
      "<[100]> evalsupport module start\n",
      "<[400]> MetaAleph body\n",
      "<[700]> evalsupport module end\n",
      "<[1]> evaltime module start\n",
      "<[2]> ClassOne body\n",
      "<[6]> ClassTwo body\n",
      "<[7]> ClassThree body\n",
      "<[200]> deco_alpha\n",
      "<[9]> ClassFour body\n",
      "<[11]> ClassOne tests ..............................\n",
      "<[3]> ClassOne.__init__\n",
      "<[5]> ClassOne.method_x\n",
      "<[12]> ClassThree tests ..............................\n",
      "<[300]> deco_alpha:inner_1\n",
      "<[13]> ClassFour tests ..............................\n",
      "<[10]> ClassFour.method_y\n",
      "<[14]> evaltime module end\n",
      "<[4]> ClassOne.__del__\n"
     ]
    }
   ],
   "source": [
    "!python evaltime.py"
   ]
  },
  {
   "cell_type": "markdown",
   "metadata": {},
   "source": [
    "默认情况下，Python 中的类是 type 类的实例，也就是说 type 是大多数内置的类和用户定义的类的元类。为了避免无限回溯，type 是其自身的实例。\n",
    "\n",
    "![](21-2.png)"
   ]
  },
  {
   "cell_type": "code",
   "execution_count": 15,
   "metadata": {},
   "outputs": [
    {
     "data": {
      "text/plain": [
       "str"
      ]
     },
     "execution_count": 15,
     "metadata": {},
     "output_type": "execute_result"
    }
   ],
   "source": [
    "'spam'.__class__"
   ]
  },
  {
   "cell_type": "code",
   "execution_count": 16,
   "metadata": {},
   "outputs": [
    {
     "data": {
      "text/plain": [
       "type"
      ]
     },
     "execution_count": 16,
     "metadata": {},
     "output_type": "execute_result"
    }
   ],
   "source": [
    "str.__class__"
   ]
  },
  {
   "cell_type": "code",
   "execution_count": 17,
   "metadata": {},
   "outputs": [
    {
     "data": {
      "text/plain": [
       "type"
      ]
     },
     "execution_count": 17,
     "metadata": {},
     "output_type": "execute_result"
    }
   ],
   "source": [
    "LineItem.__class__"
   ]
  },
  {
   "cell_type": "code",
   "execution_count": 18,
   "metadata": {},
   "outputs": [
    {
     "data": {
      "text/plain": [
       "type"
      ]
     },
     "execution_count": 18,
     "metadata": {},
     "output_type": "execute_result"
    }
   ],
   "source": [
    "type.__class__"
   ]
  },
  {
   "cell_type": "markdown",
   "metadata": {},
   "source": [
    "object 类和 type 类之间的关系很独特：object 是 type 的实例，而 type 是 object 的子类。\n",
    "\n",
    "除了 type ，标准库中还有一些别的元类，例如 ABCMeta 和 Enum ，collections.Iterable 所属的类是 abc.ABCMeta 。\n",
    "\n",
    "所有类都是直接或间接地是 type 的实例，不过只有元类同时也是 type 的子类，元类从 type 类继承了构建类的能力，因此可以作为制造类的工厂。\n",
    "\n",
    "具体来说，元类可以通过实现 \\_\\_init__ 方法定制实例，编写元类时，通常会把 self 参数改成 cls 。\n",
    "\n",
    "![](21-3.png)"
   ]
  },
  {
   "cell_type": "code",
   "execution_count": 19,
   "metadata": {},
   "outputs": [
    {
     "name": "stderr",
     "output_type": "stream",
     "text": [
      "<ipython-input-19-d4fdfb4ce7d2>:3: DeprecationWarning: Using or importing the ABCs from 'collections' instead of from 'collections.abc' is deprecated since Python 3.3, and in 3.9 it will stop working\n",
      "  collections.Iterable.__class__\n"
     ]
    },
    {
     "data": {
      "text/plain": [
       "abc.ABCMeta"
      ]
     },
     "execution_count": 19,
     "metadata": {},
     "output_type": "execute_result"
    }
   ],
   "source": [
    "import collections\n",
    "\n",
    "collections.Iterable.__class__"
   ]
  },
  {
   "cell_type": "code",
   "execution_count": 20,
   "metadata": {},
   "outputs": [
    {
     "data": {
      "text/plain": [
       "type"
      ]
     },
     "execution_count": 20,
     "metadata": {},
     "output_type": "execute_result"
    }
   ],
   "source": [
    "import abc\n",
    "\n",
    "abc.ABCMeta.__class__"
   ]
  },
  {
   "cell_type": "code",
   "execution_count": 21,
   "metadata": {},
   "outputs": [
    {
     "data": {
      "text/plain": [
       "(abc.ABCMeta, type, object)"
      ]
     },
     "execution_count": 21,
     "metadata": {},
     "output_type": "execute_result"
    }
   ],
   "source": [
    "abc.ABCMeta.__mro__"
   ]
  },
  {
   "cell_type": "markdown",
   "metadata": {},
   "source": [
    "3. 导入模块\n",
    "\n",
    "- 与 1 的关键区别是，创建 ClassFive 时调用了 MetaAleph.\\_\\_init__ 方法\n",
    "- 创建 ClassFive 的子类 ClassSix 时也调用了 MetaAleph.\\_\\_init__ 方法"
   ]
  },
  {
   "cell_type": "code",
   "execution_count": 22,
   "metadata": {},
   "outputs": [
    {
     "name": "stdout",
     "output_type": "stream",
     "text": [
      "<[1]> evaltime_meta module start\n",
      "<[2]> ClassThree body\n",
      "<[200]> deco_alpha\n",
      "<[4]> ClassFour body\n",
      "<[6]> ClassFive body\n",
      "<[500]> MetaAleph.__init__\n",
      "<[9]> ClassSix body\n",
      "<[500]> MetaAleph.__init__\n",
      "<[15]> evaltime_meta module end\n"
     ]
    },
    {
     "ename": "ModuleNotFoundError",
     "evalue": "No module named 'evaltime_meta.py'; 'evaltime_meta' is not a package",
     "output_type": "error",
     "traceback": [
      "\u001b[1;31m---------------------------------------------------------------------------\u001b[0m",
      "\u001b[1;31mModuleNotFoundError\u001b[0m                       Traceback (most recent call last)",
      "\u001b[1;32m<ipython-input-22-44dad4bf693e>\u001b[0m in \u001b[0;36m<module>\u001b[1;34m\u001b[0m\n\u001b[1;32m----> 1\u001b[1;33m \u001b[1;32mimport\u001b[0m \u001b[0mevaltime_meta\u001b[0m\u001b[1;33m.\u001b[0m\u001b[0mpy\u001b[0m\u001b[1;33m\u001b[0m\u001b[1;33m\u001b[0m\u001b[0m\n\u001b[0m",
      "\u001b[1;31mModuleNotFoundError\u001b[0m: No module named 'evaltime_meta.py'; 'evaltime_meta' is not a package"
     ]
    }
   ],
   "source": [
    "# 1. 中已经导入过 evalsupport.py 了，因此这里使用缓存，没有再次导入\n",
    "import evaltime_meta.py"
   ]
  },
  {
   "cell_type": "code",
   "execution_count": 23,
   "metadata": {},
   "outputs": [
    {
     "name": "stdout",
     "output_type": "stream",
     "text": [
      "<[400]> MetaAleph body\n"
     ]
    }
   ],
   "source": [
    "# evalsupport.py（部分）\n",
    "class MetaAleph(type):\n",
    "    print('<[400]> MetaAleph body')\n",
    "    \n",
    "    # 四个参数：初始化的对象，与构建类时传给 type 的参数一样\n",
    "    def __init__(cls, name, bases, dic):\n",
    "        print('<[500]> MetaAleph.__init__')\n",
    "\n",
    "        def inner_2(self):\n",
    "            print('<[600]> MetaAleph.__init__:inner_2')\n",
    "\n",
    "        cls.method_z = inner_2"
   ]
  },
  {
   "cell_type": "markdown",
   "metadata": {},
   "source": [
    "4. 运行模块\n",
    "\n",
    "- 装饰器依附到 ClassThree 类上之后，method_y 方法被替换成 inner_1 方法\n",
    "- 没有依附装饰器的 ClassFour 类不受影响\n",
    "- MetaAleph 类的 \\_\\_init__ 方法把 ClassFive.method_z 方法替换成 inner_2 函数\n",
    "- ClassFive 的子类 ClassSix 也一样，method_z 方法替换成 inner_2 函数"
   ]
  },
  {
   "cell_type": "code",
   "execution_count": 24,
   "metadata": {},
   "outputs": [
    {
     "name": "stdout",
     "output_type": "stream",
     "text": [
      "<[100]> evalsupport module start\n",
      "<[400]> MetaAleph body\n",
      "<[700]> evalsupport module end\n",
      "<[1]> evaltime_meta module start\n",
      "<[2]> ClassThree body\n",
      "<[200]> deco_alpha\n",
      "<[4]> ClassFour body\n",
      "<[6]> ClassFive body\n",
      "<[500]> MetaAleph.__init__\n",
      "<[9]> ClassSix body\n",
      "<[500]> MetaAleph.__init__\n",
      "<[11]> ClassThree tests ..............................\n",
      "<[300]> deco_alpha:inner_1\n",
      "<[12]> ClassFour tests ..............................\n",
      "<[5]> ClassFour.method_y\n",
      "<[13]> ClassFive tests ..............................\n",
      "<[7]> ClassFive.__init__\n",
      "<[600]> MetaAleph.__init__:inner_2\n",
      "<[14]> ClassSix tests ..............................\n",
      "<[7]> ClassFive.__init__\n",
      "<[600]> MetaAleph.__init__:inner_2\n",
      "<[15]> evaltime_meta module end\n"
     ]
    }
   ],
   "source": [
    "!python evaltime_meta.py"
   ]
  },
  {
   "cell_type": "markdown",
   "metadata": {},
   "source": [
    "定制描述符的元类"
   ]
  },
  {
   "cell_type": "code",
   "execution_count": 25,
   "metadata": {},
   "outputs": [],
   "source": [
    "import model_v7 as model\n",
    "\n",
    "class LineItem(model.Entity):  # model.Entity 的子类\n",
    "    description = model.NonBlank()\n",
    "    weight = model.Quantity()\n",
    "    price = model.Quantity()\n",
    "\n",
    "    def __init__(self, description, weight, price):\n",
    "        self.description = description\n",
    "        self.weight = weight\n",
    "        self.price = price\n",
    "\n",
    "    def subtotal(self):\n",
    "        return self.weight * self.price"
   ]
  },
  {
   "cell_type": "raw",
   "metadata": {},
   "source": [
    "# model_v7.py（部分）\n",
    "\n",
    "class EntityMeta(type):\n",
    "    \"\"\"元类，用于创建带有验证字段的业务实体\"\"\"\n",
    "\n",
    "    def __init__(cls, name, bases, attr_dict):\n",
    "        super().__init__(name, bases, attr_dict)  # 在超类（type）上调用 __init__ 方法\n",
    "        for key, attr in attr_dict.items():\n",
    "            if isinstance(attr, Validated):\n",
    "                type_name = type(attr).__name__\n",
    "                attr.storage_name = '_{}#{}'.format(type_name, key)\n",
    "\n",
    "class Entity(metaclass=EntityMeta):  # 方便使用\n",
    "    \"\"\"带有验证字段的业务实体\"\"\""
   ]
  },
  {
   "cell_type": "code",
   "execution_count": 26,
   "metadata": {},
   "outputs": [
    {
     "data": {
      "text/plain": [
       "['_NonBlank#description', '_Quantity#price', '_Quantity#weight']"
      ]
     },
     "execution_count": 26,
     "metadata": {},
     "output_type": "execute_result"
    }
   ],
   "source": [
    "raisins = LineItem('Golden raisins', 10, 6.95)\n",
    "dir(raisins)[:3]"
   ]
  },
  {
   "cell_type": "code",
   "execution_count": 27,
   "metadata": {},
   "outputs": [
    {
     "data": {
      "text/plain": [
       "'_NonBlank#description'"
      ]
     },
     "execution_count": 27,
     "metadata": {},
     "output_type": "execute_result"
    }
   ],
   "source": [
    "LineItem.description.storage_name"
   ]
  },
  {
   "cell_type": "code",
   "execution_count": 28,
   "metadata": {},
   "outputs": [
    {
     "data": {
      "text/plain": [
       "'Golden raisins'"
      ]
     },
     "execution_count": 28,
     "metadata": {},
     "output_type": "execute_result"
    }
   ],
   "source": [
    "raisins.description"
   ]
  },
  {
   "cell_type": "code",
   "execution_count": 29,
   "metadata": {},
   "outputs": [
    {
     "data": {
      "text/plain": [
       "'Golden raisins'"
      ]
     },
     "execution_count": 29,
     "metadata": {},
     "output_type": "execute_result"
    }
   ],
   "source": [
    "getattr(raisins, '_NonBlank#description')"
   ]
  },
  {
   "cell_type": "markdown",
   "metadata": {},
   "source": [
    "元类的特殊方法 \\_\\_prepare__ 只在元类中有用，而且必须声明为类方法（使用 @classmethod 装饰器定义）"
   ]
  },
  {
   "cell_type": "raw",
   "metadata": {},
   "source": [
    "# model_v8.py（部分）\n",
    "import collections\n",
    "\n",
    "class EntityMeta(type):\n",
    "    \"\"\"元类，用于创建带有验证字段的业务实体\"\"\"\n",
    "\n",
    "    @classmethod\n",
    "    def __prepare__(cls, name, bases):\n",
    "        return collections.OrderedDict()  # 用于存储类属性\n",
    "\n",
    "    def __init__(cls, name, bases, attr_dict):\n",
    "        super().__init__(name, bases, attr_dict)\n",
    "        cls._field_names = []  # 在要够贱的类中创建 _field_names 属性\n",
    "        for key, attr in attr_dict.items():  # 按照添加属性的顺序迭代\n",
    "            if isinstance(attr, Validated):\n",
    "                type_name = type(attr).__name__\n",
    "                attr.storage_name = '_{}#{}'.format(type_name, key)\n",
    "                cls._field_names.append(key)  # 添加到 _field_names 属性中\n",
    "\n",
    "\n",
    "class Entity(metaclass=EntityMeta):\n",
    "    \"\"\"带有验证字段的业务实体\"\"\"\n",
    "\n",
    "    @classmethod\n",
    "    def field_names(cls):  # 按照添加字段的顺序产出字段的名称\n",
    "        for name in cls._field_names:\n",
    "            yield name"
   ]
  },
  {
   "cell_type": "code",
   "execution_count": 30,
   "metadata": {},
   "outputs": [],
   "source": [
    "import model_v8 as model\n",
    "\n",
    "class LineItem(model.Entity):\n",
    "    description = model.NonBlank()\n",
    "    weight = model.Quantity()\n",
    "    price = model.Quantity()\n",
    "\n",
    "    def __init__(self, description, weight, price):\n",
    "        self.description = description\n",
    "        self.weight = weight\n",
    "        self.price = price\n",
    "\n",
    "    def subtotal(self):\n",
    "        return self.weight * self.price\n"
   ]
  },
  {
   "cell_type": "code",
   "execution_count": 31,
   "metadata": {},
   "outputs": [
    {
     "name": "stdout",
     "output_type": "stream",
     "text": [
      "description\n",
      "weight\n",
      "price\n"
     ]
    }
   ],
   "source": [
    "for name in LineItem.field_names():\n",
    "    print(name)"
   ]
  },
  {
   "cell_type": "markdown",
   "metadata": {},
   "source": [
    "在现实世界中，框架和库会使用元类协助程序员执行很多任务，例如：\n",
    "- 验证属性\n",
    "- 一次把装饰器依附到多个方法上\n",
    "- 序列化对象或转换数据\n",
    "- 对象关系映射\n",
    "- 基于对象的持久存储\n",
    "- 动态转换使用其他语言编写的类结构\n",
    "\n",
    "Python 数据模型为每个类定义了很多属性\n",
    "- \\_\\_mro__\n",
    "- \\_\\_class__\n",
    "- \\_\\_name__\n",
    "- \\_\\_bases__\n",
    "    - 由类的基类组成的元组\n",
    "- \\_\\_qualname__\n",
    "    - 类或函数的限定名称，即从模块的全局作用域到类的淀粉路径\n",
    "- \\_\\_subclasses__()\n",
    "    - 返回包含类的直接子类的列表\n",
    "- mro()\n",
    "    - 获取存储在类属性 \\_\\_mro__ 中的超类元组"
   ]
  },
  {
   "cell_type": "markdown",
   "metadata": {},
   "source": [
    "类元编程是指动态创建或制定类。\n",
    "\n",
    "类装饰器使函数，其参数是被装饰的类，用于审查和修改刚创建的类，甚至替换成其他类。\n",
    "\n",
    "元类可以定制类的层次结构。类装饰器只能影响一个类，而且对后代可能没有影响。"
   ]
  },
  {
   "cell_type": "code",
   "execution_count": null,
   "metadata": {},
   "outputs": [],
   "source": []
  }
 ],
 "metadata": {
  "kernelspec": {
   "display_name": "Learn-Python",
   "language": "python",
   "name": "learn-python"
  },
  "language_info": {
   "codemirror_mode": {
    "name": "ipython",
    "version": 3
   },
   "file_extension": ".py",
   "mimetype": "text/x-python",
   "name": "python",
   "nbconvert_exporter": "python",
   "pygments_lexer": "ipython3",
   "version": "3.8.5"
  }
 },
 "nbformat": 4,
 "nbformat_minor": 4
}

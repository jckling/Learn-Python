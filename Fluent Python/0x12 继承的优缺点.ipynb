{
 "cells": [
  {
   "cell_type": "markdown",
   "metadata": {},
   "source": [
    "内置类型（使用 C 语言编写）不会调用用户定义的类覆盖的特殊方法\n",
    "- [Subclasses of built-in types](https://doc.pypy.org/en/latest/cpython_differences.html#subclasses-of-built-in-types)\n",
    "\n",
    "原生类型的行为违背了面向对象编程的一个基本原则：始终应该从实例（self）所属的类开始搜索方法，即使在超类实现的类中调用也是如此。"
   ]
  },
  {
   "cell_type": "code",
   "execution_count": 1,
   "metadata": {},
   "outputs": [
    {
     "data": {
      "text/plain": [
       "{'one': 1}"
      ]
     },
     "execution_count": 1,
     "metadata": {},
     "output_type": "execute_result"
    }
   ],
   "source": [
    "class DoppelDict(dict):\n",
    "    def __setitem__(self, key, value):\n",
    "        super().__setitem__(key, [value] * 2)\n",
    "\n",
    "# 超类 __init__ 方法覆盖子类 __setitem__ 方法\n",
    "dd = DoppelDict(one=1)\n",
    "dd"
   ]
  },
  {
   "cell_type": "code",
   "execution_count": 2,
   "metadata": {},
   "outputs": [
    {
     "data": {
      "text/plain": [
       "{'one': 1, 'two': [2, 2]}"
      ]
     },
     "execution_count": 2,
     "metadata": {},
     "output_type": "execute_result"
    }
   ],
   "source": [
    "# [] 调用子类 __setitem__  方法\n",
    "dd['two'] = 2\n",
    "dd"
   ]
  },
  {
   "cell_type": "code",
   "execution_count": 3,
   "metadata": {},
   "outputs": [
    {
     "data": {
      "text/plain": [
       "{'one': 1, 'two': [2, 2], 'three': 3}"
      ]
     },
     "execution_count": 3,
     "metadata": {},
     "output_type": "execute_result"
    }
   ],
   "source": [
    "# 超类方法\n",
    "dd.update(three=3)\n",
    "dd"
   ]
  },
  {
   "cell_type": "markdown",
   "metadata": {},
   "source": [
    "内置类型的方法调用其他类的方法，如果被覆盖了，也不会被调用\n",
    "\n",
    "不要子类化内置类型，用户自己定义的类应该继承 collections 模块\n",
    "\n",
    "上述问题只发生在 C 语言实现的内置类型内部的方法委托上，而且只影响直接继承内置类型的用户自定义类。"
   ]
  },
  {
   "cell_type": "code",
   "execution_count": 4,
   "metadata": {},
   "outputs": [
    {
     "data": {
      "text/plain": [
       "42"
      ]
     },
     "execution_count": 4,
     "metadata": {},
     "output_type": "execute_result"
    }
   ],
   "source": [
    "class AnswerDict(dict):\n",
    "    def __getitem__(self, key):  # 始终返回 42\n",
    "        return 42\n",
    "\n",
    "ad = AnswerDict(a='foo')\n",
    "ad['a']"
   ]
  },
  {
   "cell_type": "code",
   "execution_count": 5,
   "metadata": {},
   "outputs": [
    {
     "data": {
      "text/plain": [
       "'foo'"
      ]
     },
     "execution_count": 5,
     "metadata": {},
     "output_type": "execute_result"
    }
   ],
   "source": [
    "d = {}\n",
    "d.update(ad)  # 忽略了 AnswerDict 中的方法\n",
    "d['a']"
   ]
  },
  {
   "cell_type": "code",
   "execution_count": 6,
   "metadata": {},
   "outputs": [
    {
     "data": {
      "text/plain": [
       "{'a': 'foo'}"
      ]
     },
     "execution_count": 6,
     "metadata": {},
     "output_type": "execute_result"
    }
   ],
   "source": [
    "d"
   ]
  },
  {
   "cell_type": "code",
   "execution_count": 7,
   "metadata": {},
   "outputs": [
    {
     "data": {
      "text/plain": [
       "{'one': [1, 1]}"
      ]
     },
     "execution_count": 7,
     "metadata": {},
     "output_type": "execute_result"
    }
   ],
   "source": [
    "# 子类化 collections.UserDict\n",
    "import collections\n",
    "\n",
    "class DoppelDict2(collections.UserDict):\n",
    "    def __setitem__(self, key, value):\n",
    "        super().__setitem__(key, [value] * 2)\n",
    "\n",
    "dd = DoppelDict2(one=1)\n",
    "dd"
   ]
  },
  {
   "cell_type": "code",
   "execution_count": 8,
   "metadata": {},
   "outputs": [
    {
     "data": {
      "text/plain": [
       "{'one': [1, 1], 'two': [2, 2]}"
      ]
     },
     "execution_count": 8,
     "metadata": {},
     "output_type": "execute_result"
    }
   ],
   "source": [
    "dd['two'] = 2\n",
    "dd"
   ]
  },
  {
   "cell_type": "code",
   "execution_count": 9,
   "metadata": {},
   "outputs": [
    {
     "data": {
      "text/plain": [
       "{'one': [1, 1], 'two': [2, 2], 'three': [3, 3]}"
      ]
     },
     "execution_count": 9,
     "metadata": {},
     "output_type": "execute_result"
    }
   ],
   "source": [
    "dd.update(three=3)\n",
    "dd"
   ]
  },
  {
   "cell_type": "code",
   "execution_count": 10,
   "metadata": {},
   "outputs": [
    {
     "data": {
      "text/plain": [
       "{'a': 'foo'}"
      ]
     },
     "execution_count": 10,
     "metadata": {},
     "output_type": "execute_result"
    }
   ],
   "source": [
    "# 子类化 collections.UserDict\n",
    "class AnswerDict2(collections.UserDict):\n",
    "    def __getitem__(self, key):\n",
    "        return 42\n",
    "    \n",
    "ad = AnswerDict2(a='foo')\n",
    "ad"
   ]
  },
  {
   "cell_type": "code",
   "execution_count": 11,
   "metadata": {},
   "outputs": [
    {
     "data": {
      "text/plain": [
       "42"
      ]
     },
     "execution_count": 11,
     "metadata": {},
     "output_type": "execute_result"
    }
   ],
   "source": [
    "d = {}\n",
    "d.update(ad)\n",
    "d['a']"
   ]
  },
  {
   "cell_type": "code",
   "execution_count": 12,
   "metadata": {},
   "outputs": [
    {
     "data": {
      "text/plain": [
       "{'a': 42}"
      ]
     },
     "execution_count": 12,
     "metadata": {},
     "output_type": "execute_result"
    }
   ],
   "source": [
    "d"
   ]
  },
  {
   "cell_type": "markdown",
   "metadata": {},
   "source": [
    "菱形问题：由不相关的祖先类实现同名方法引起的命名冲突。\n",
    "\n",
    "Python 按照方法解析顺序（Method Resolution Order, MRO）遍历继承图。类都有一个名为 \\_\\_mro__ 的属性，它的值是一个元组，按照方法解析顺序列出各个超类，从当前类一直向上，直到 object 类。"
   ]
  },
  {
   "cell_type": "code",
   "execution_count": 13,
   "metadata": {},
   "outputs": [],
   "source": [
    "class A:\n",
    "    def ping(self):\n",
    "        print('ping:', self)\n",
    "\n",
    "\n",
    "class B(A):\n",
    "    def pong(self):\n",
    "        print('pong:', self)\n",
    "\n",
    "\n",
    "class C(A):\n",
    "    def pong(self):\n",
    "        print('PONG:', self)\n",
    "\n",
    "\n",
    "class D(B, C):\n",
    "\n",
    "    def ping(self):\n",
    "        super().ping()\n",
    "        print('post-ping:', self)\n",
    "\n",
    "    def pingpong(self):\n",
    "        self.ping()\n",
    "        super().ping()\n",
    "        self.pong()\n",
    "        super().pong()\n",
    "        C.pong(self)"
   ]
  },
  {
   "cell_type": "code",
   "execution_count": 14,
   "metadata": {},
   "outputs": [
    {
     "name": "stdout",
     "output_type": "stream",
     "text": [
      "pong: <__main__.D object at 0x000001DD7759AC10>\n"
     ]
    }
   ],
   "source": [
    "d = D()\n",
    "d.pong()  # B"
   ]
  },
  {
   "cell_type": "code",
   "execution_count": 15,
   "metadata": {},
   "outputs": [
    {
     "name": "stdout",
     "output_type": "stream",
     "text": [
      "PONG: <__main__.D object at 0x000001DD7759AC10>\n"
     ]
    }
   ],
   "source": [
    "# 超类中的方法可以直接调用，把实例作为显示参数传入\n",
    "C.pong(d)"
   ]
  },
  {
   "cell_type": "code",
   "execution_count": 16,
   "metadata": {},
   "outputs": [
    {
     "data": {
      "text/plain": [
       "(__main__.D, __main__.B, __main__.C, __main__.A, object)"
      ]
     },
     "execution_count": 16,
     "metadata": {},
     "output_type": "execute_result"
    }
   ],
   "source": [
    "D.__mro__"
   ]
  },
  {
   "cell_type": "markdown",
   "metadata": {},
   "source": [
    "若想把方法委托给超类，推荐的方式是使用内置的 super() 函数。使用 super() 最安全，也不易过时，使用 super() 调用方法时，会遵守方法解析顺序\n",
    "\n",
    "直接在类上调用实例方法时，必须显式传入 self 参数，因为这样访问的是未绑定方法（unbound method）\n",
    "\n",
    "方法解析顺序不仅考虑继承图，还考虑子类声明中列出超类的顺序。方法解析顺序使用 C3 算法计算。"
   ]
  },
  {
   "cell_type": "code",
   "execution_count": 17,
   "metadata": {},
   "outputs": [
    {
     "name": "stdout",
     "output_type": "stream",
     "text": [
      "ping: <__main__.D object at 0x000001DD7759AC10>\n",
      "post-ping: <__main__.D object at 0x000001DD7759AC10>\n"
     ]
    }
   ],
   "source": [
    "# 两次调用\n",
    "d.ping()"
   ]
  },
  {
   "cell_type": "code",
   "execution_count": 18,
   "metadata": {},
   "outputs": [
    {
     "name": "stdout",
     "output_type": "stream",
     "text": [
      "ping: <__main__.D object at 0x000001DD7759AC10>\n",
      "post-ping: <__main__.D object at 0x000001DD7759AC10>\n",
      "ping: <__main__.D object at 0x000001DD7759AC10>\n",
      "pong: <__main__.D object at 0x000001DD7759AC10>\n",
      "pong: <__main__.D object at 0x000001DD7759AC10>\n",
      "PONG: <__main__.D object at 0x000001DD7759AC10>\n"
     ]
    }
   ],
   "source": [
    "# self.ping()     D 类\n",
    "# \n",
    "# super.ping()    A 类\n",
    "# self.pong()     B 类\n",
    "# super().pong()  B 类\n",
    "# C.pong(self)    C 类\n",
    "\n",
    "d.pingpong()"
   ]
  },
  {
   "cell_type": "markdown",
   "metadata": {},
   "source": [
    "一些常用类的方法搜索顺序"
   ]
  },
  {
   "cell_type": "code",
   "execution_count": 19,
   "metadata": {},
   "outputs": [
    {
     "data": {
      "text/plain": [
       "(bool, int, object)"
      ]
     },
     "execution_count": 19,
     "metadata": {},
     "output_type": "execute_result"
    }
   ],
   "source": [
    "bool.__mro__"
   ]
  },
  {
   "cell_type": "code",
   "execution_count": 20,
   "metadata": {},
   "outputs": [
    {
     "data": {
      "text/plain": [
       "(numbers.Integral,\n",
       " numbers.Rational,\n",
       " numbers.Real,\n",
       " numbers.Complex,\n",
       " numbers.Number,\n",
       " object)"
      ]
     },
     "execution_count": 20,
     "metadata": {},
     "output_type": "execute_result"
    }
   ],
   "source": [
    "import numbers\n",
    "\n",
    "# numbers 模块提供的几个数字抽象基类\n",
    "numbers.Integral.__mro__"
   ]
  },
  {
   "cell_type": "code",
   "execution_count": 21,
   "metadata": {},
   "outputs": [
    {
     "data": {
      "text/plain": [
       "(_io.BytesIO, _io._BufferedIOBase, _io._IOBase, object)"
      ]
     },
     "execution_count": 21,
     "metadata": {},
     "output_type": "execute_result"
    }
   ],
   "source": [
    "# io 模块中有抽象基类（名称以 ...Base 后缀结尾）和具体类\n",
    "import io\n",
    "\n",
    "io.BytesIO.__mro__"
   ]
  },
  {
   "cell_type": "code",
   "execution_count": 22,
   "metadata": {},
   "outputs": [
    {
     "data": {
      "text/plain": [
       "(_io.TextIOWrapper, _io._TextIOBase, _io._IOBase, object)"
      ]
     },
     "execution_count": 22,
     "metadata": {},
     "output_type": "execute_result"
    }
   ],
   "source": [
    "io.TextIOWrapper.__mro__"
   ]
  },
  {
   "cell_type": "markdown",
   "metadata": {},
   "source": [
    "处理多重继承\n",
    "\n",
    "1. 把接口继承和实现继承区分开\n",
    "\n",
    "    使用多重继承时，一定要明确一开始为什么创建子类。\n",
    "    - 继承接口，创建子类型，实现“是什么”关系\n",
    "    - 继承实现，通过重用避免代码重复\n",
    "\n",
    "\n",
    "2. 使用抽象基类显式表示接口\n",
    "\n",
    "    如果类的作用是定义接口，应该明确把它定义为抽象基类。\n",
    "\n",
    "\n",
    "3. 通过混入重用代码\n",
    "\n",
    "    如果一个类的作用是为多个不相关的子类提供方法实现，从而实现重用，但不体现“是什么”关系，应该把那个类明确地定义为混入类（mixin class）\n",
    "    \n",
    "    从概念上讲，混入不定义新类型，只是打包方法，便于重用。混入类绝对不能实例化，而且具体类不能只继承混入类。\n",
    "\n",
    "\n",
    "4. 在名称中明确指明混入\n",
    "\n",
    "    在 Python 中没有把类声明为混入的正规方式，所以推荐在名称中加入 ...Mixin 后缀。\n",
    "\n",
    "\n",
    "5. 抽象基类可以作为混入，反过来不成立\n",
    "\n",
    "    抽象基类可以实现具体方法，因此也可以作为混入使用\n",
    "    - 抽象基类会定义类型，而混入做不到\n",
    "    - 抽象基类可以作为其他类的唯一基类，而混入决不能作为唯一的超类\n",
    "    \n",
    "    抽象基类中实现的具体方法只能与抽象基类及其超类中的方法协作。\n",
    "\n",
    "\n",
    "6. 不要子类化多个具体类\n",
    "\n",
    "    具体类可以没有。或最多只有一个具体超类。具体类的超类中出了这一个具体超类之外，其余的都是抽象基类或混入。\n",
    "\n",
    "\n",
    "7. 为用户提供聚合类\n",
    "\n",
    "    如果一个类的结构主要继承自混入，自身没有添加结构或行为，那么这样的类称为聚合类。\n",
    "\n",
    "\n",
    "8. “优先使用对象组合，而不是类继承”\n",
    "\n",
    "    优先使用组合能让设计更灵活。子类化是一种紧耦合，而且较高的继承树容易倒。\n",
    "    \n",
    "    组合和委托可以代替混入，把行为提供给不同的类，但是不能取代接口继承去定义类型层次结构。"
   ]
  },
  {
   "cell_type": "markdown",
   "metadata": {},
   "source": [
    "Django 的分派机制是动态版模板方法模式。\n",
    "\n",
    "基于类的视图能避免大量样板代码，便于重用，还能增进团队交流。"
   ]
  },
  {
   "cell_type": "markdown",
   "metadata": {},
   "source": [
    "如果作为应用程序开发者，你发现自己在构建多层类层次结构，可能是发生了下述事件中的一个或多个：\n",
    "- 你在重新发明轮子。去找框架或库，它们提供的组件可以在应用程序中重用。\n",
    "- 你使用的框架设计不良。去寻找替代品。\n",
    "- 你在过度设计。记住要遵守 KISS 原则。\n",
    "- 你厌烦了编写应用程序，决定新造一个框架。"
   ]
  },
  {
   "cell_type": "code",
   "execution_count": null,
   "metadata": {},
   "outputs": [],
   "source": []
  }
 ],
 "metadata": {
  "kernelspec": {
   "display_name": "Learn-Python",
   "language": "python",
   "name": "learn-python"
  },
  "language_info": {
   "codemirror_mode": {
    "name": "ipython",
    "version": 3
   },
   "file_extension": ".py",
   "mimetype": "text/x-python",
   "name": "python",
   "nbconvert_exporter": "python",
   "pygments_lexer": "ipython3",
   "version": "3.8.5"
  }
 },
 "nbformat": 4,
 "nbformat_minor": 4
}

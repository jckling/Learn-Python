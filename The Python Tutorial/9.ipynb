{
 "cells": [
  {
   "cell_type": "markdown",
   "metadata": {},
   "source": [
    "# 类\n",
    "\n",
    "类提供了一种组合数据和功能的方法\n",
    "\n",
    "创建一个新类\n",
    "- 创建一个新的对象类型\n",
    "    - 创建一个该类型的新实例\n",
    "\n",
    "每个类的实例可以拥有：\n",
    "- 保存自己状态的属性\n",
    "- 改变自己状态的方法\n",
    "\n",
    "面向对象编程的标准特性\n",
    "- 类继承机制允许多个基类\n",
    "- 派生类可以覆盖其基类的任何方法\n",
    "- 一个方法可以调用基类中相同名称的方法\n",
    "\n",
    "对象可以包含任意数量和类型的数据\n",
    "\n",
    "类具有动态特性\n",
    "- 运行时创建\n",
    "- 创建后修改\n",
    "\n",
    "以 C++ 术语表述\n",
    "- 通常类成员（包括数据成员）是 public (例外：私有变量)\n",
    "\n",
    "以 Modula-3 术语表述\n",
    "- 没有用于从方法引用对象成员的简写\n",
    "    - 方法函数使用表示对象的显式第一个参数声明，该参数由调用隐式提供。\n",
    "\n",
    "以 Smalltalk 术语表述\n",
    "- 类本身也是对象\n",
    "    - 为导入和重命名提供了语义\n",
    "\n",
    "其它特性\n",
    "- 内置类型可以用作用户扩展的基类\n",
    "- 大多数具有特殊语法（算术运算符、下标等）的内置运算符都可以为类实例重新定义"
   ]
  },
  {
   "cell_type": "markdown",
   "metadata": {},
   "source": [
    "## 名称和对象\n",
    "\n",
    "别名 alias\n",
    "- 多个名称（在多个作用域内）可以绑定到同一个对象\n",
    "\n",
    "在处理不可变的基本类型（数字，字符串，元组）时可以安全地忽略\n",
    "\n",
    "在处理可变对象（如列表，字典和大多数其他类型）时可能引发语义错误\n",
    "- 如果函数修改了作为参数传递的（可变）对象，调用者将看到更改\n",
    "\n",
    "传递对象的代价很小\n",
    "- 只传递一个指针"
   ]
  },
  {
   "cell_type": "markdown",
   "metadata": {},
   "source": [
    "## 命名空间 namespace\n",
    "\n",
    "名字到对象的映射\n",
    "- 大部分命名空间由 Python 字典实现\n",
    "\n",
    "例子\n",
    "- 存放内置函数的集合（内置的异常）\n",
    "- 模块中的全局名称\n",
    "- 函数调用中的局部名称\n",
    "- 从某种意义上来说，对象的属性集合\n",
    "\n",
    "不同命名空间中的名称之间没有关系\n",
    "- 使用模块名称区分\n",
    "\n",
    "任何跟在一个点号 `.` 之后的名称都被称为属性\n",
    "\n",
    "对模块中名称的引用属于属性引用\n",
    "- `modname.funcname`：`modname` 模块对象，`funcname` 属性\n",
    "    - 模块的属性和模块中定义的全局名称之间正好存在一个直观的映射：共享相同的命名空间\n",
    "        - 例外，模块对象有一个隐藏的只读属性 [\\_\\_dict\\_\\_](https://docs.python.org/zh-cn/3/library/stdtypes.html#object.__dict__)，返回用于实现模块命名空间的字典；`__dict__` 是属性但不是全局名称\n",
    "        - 显然，使用这个将违反命名空间实现的抽象，应当仅被用于事后调试之类的场合\n",
    "    \n",
    "属性可以是只读或可写的\n",
    "- 可写属性可以赋值，使用 `del` 删除\n",
    "\n",
    "不同时刻创建的命名空间拥有不同的生存期\n",
    "- 包含内置名称的命名空间在 Python 解释器启动时创建，永远不会被删除\n",
    "- 模块的全局命名空间在模块定义被读入时创建\n",
    "    - 通常，模块命名空间也会持续保留到解释器退出\n",
    "- 被解释器的顶层调用执行的语句\n",
    "    - 从一个脚本文件读取或交互式地读取，被认为是 [\\_\\_main\\_\\_](https://docs.python.org/zh-cn/3/library/__main__.html#module-__main__) 模块调用的一部分，因此它们拥有自己的全局命名空间\n",
    "    - 内置名称存在于 [builtins](https://docs.python.org/zh-cn/3/library/builtins.html#module-builtins) 模块中\n",
    "\n",
    "\n",
    "函数的本地命名空间\n",
    "- 在函数被调用时创建\n",
    "- 在函数返回或抛出一个不在函数内部处理的错误时被删除\n",
    "- 每次递归调用都会有它自己的本地命名空间"
   ]
  },
  {
   "cell_type": "markdown",
   "metadata": {},
   "source": [
    "## 作用域 scope\n",
    "\n",
    "命名空间可直接访问的 Python 程序的文本区域\n",
    "- 可直接访问：对名称的非限定引用会尝试在命名空间中查找名称\n",
    "\n",
    "在执行期间的任何时刻，会有 3 或 4 个命名空间可被直接访问的嵌套作用域：\n",
    "- 最先搜索的最内部作用域包含局部名称\n",
    "- 从最近的封闭作用域开始搜索的任何封闭函数的作用域包含非局部名称，也包括非全局名称\n",
    "- 倒数第二个作用域包含当前模块的全局名称\n",
    "- 最外面的作用域（最后搜索）是包含内置名称的命名空间\n",
    "\n",
    "如果一个名称被声明为全局变量，则所有引用和赋值将直接指向包含该模块的全局名称的中间作用域\n",
    "\n",
    "要重新绑定在最内层作用域以外找到的变量，可以使用 [nonlocal](https://docs.python.org/zh-cn/3/reference/simple_stmts.html#nonlocal) 语句声明为非本地变量\n",
    "\n",
    "如果没有被声明为非本地变量，这些变量将是只读的\n",
    "- 尝试写入这样的变量只会在最内层作用域中创建一个新的局部变量，而同名的外部变量保持不变\n",
    "\n",
    "当前局部作用域将（按字面文本）引用当前函数的局部名称。\n",
    "\n",
    "在函数以外，局部作用域将引用与全局作用域相一致的命名空间：模块的命名空间。\n",
    "\n",
    "类定义将在局部命名空间内再放置另一个命名空间。\n",
    "\n",
    "在一个模块内定义的函数的全局作用域就是该模块的命名空间，无论该函数从什么地方或以什么别名被调用。 \n",
    "\n",
    "实际的名称搜索是在运行时动态完成的\n",
    "- 事实上，局部变量已经被静态确定了\n",
    "\n",
    "如果不存在生效的 [global](https://docs.python.org/zh-cn/3/reference/simple_stmts.html#the-global-statement) 或 [nonlocal](https://docs.python.org/zh-cn/3/reference/simple_stmts.html#nonlocal) 语句 \n",
    "- 对名称的赋值总是会进入最内层作用域\n",
    "- 赋值不会复制数据\n",
    "    - 只是将名称绑定到对象\n",
    "- 删除同理\n",
    "    - 语句 `del x` 会从局部作用域所引用的命名空间中移除对 x 的绑定\n",
    "\n",
    "所有引入新名称的操作都是使用局部作用域\n",
    "- 特别地，import 语句和函数定义会在局部作用域中绑定模块或函数名称\n",
    "\n",
    "[global](https://docs.python.org/zh-cn/3/reference/simple_stmts.html#the-global-statement) 语句\n",
    "- 表明特定变量生存于全局作用域并且应当在其中被重新绑定\n",
    "\n",
    "[nonlocal](https://docs.python.org/zh-cn/3/reference/simple_stmts.html#nonlocal) 语句\n",
    "- 表明特定变量生存于外层作用域中并且应当在其中被重新绑定"
   ]
  },
  {
   "cell_type": "code",
   "execution_count": 1,
   "metadata": {},
   "outputs": [
    {
     "name": "stdout",
     "output_type": "stream",
     "text": [
      "After local assignment: test spam\n",
      "After nonlocal assignment: nonlocal spam\n",
      "After global assignment: nonlocal spam\n",
      "In global scope: global spam\n"
     ]
    }
   ],
   "source": [
    "# 引用不同作用域和名称空间\n",
    "def scope_test():\n",
    "    def do_local():\n",
    "        spam = \"local spam\"    # 局部赋值\n",
    "\n",
    "    def do_nonlocal():\n",
    "        nonlocal spam\n",
    "        spam = \"nonlocal spam\" # 改变 scope_test 对 spam 的绑定\n",
    "\n",
    "    def do_global():\n",
    "        global spam\n",
    "        spam = \"global spam\"   # 改变模块层级的绑定\n",
    "\n",
    "    spam = \"test spam\"\n",
    "    do_local()\n",
    "    print(\"After local assignment:\", spam)\n",
    "    do_nonlocal()\n",
    "    print(\"After nonlocal assignment:\", spam)\n",
    "    do_global()\n",
    "    print(\"After global assignment:\", spam)\n",
    "\n",
    "scope_test()\n",
    "print(\"In global scope:\", spam)"
   ]
  },
  {
   "cell_type": "markdown",
   "metadata": {},
   "source": [
    "类引入了一些新语法，三种新对象类型和一些新语义"
   ]
  },
  {
   "cell_type": "markdown",
   "metadata": {},
   "source": [
    "### 类定义语法\n",
    "\n",
    "被执行才会起作用\n",
    "\n",
    "类定义内的语句通常都是函数定义，允许有其他语句\n",
    "\n",
    "在类内部的函数定义通常具有一种特别形式的参数列表\n",
    "- 由方法调用的约定规范指明\n",
    "\n",
    "进入类定义时，将创建一个新的命名空间，并将其用作局部作用域\n",
    "- 所有对局部变量的赋值都在这个新命名空间之内\n",
    "- 函数定义会绑定到这里的新函数名称\n",
    "\n",
    "从（结尾处）正常离开类定义时，将创建一个类对象\n",
    "- 基本上是一个包围在类定义所创建命名空间内容周围的包装器\n",
    "- 原始的（在进入类定义之前起作用的）局部作用域将重新生效\n",
    "    - 类对象将在这里被绑定到类定义头所给出的类名称 (在这个示例中为 ClassName)\n",
    "\n",
    "```python\n",
    "class ClassName:\n",
    "    <statement-1>\n",
    "    .\n",
    "    .\n",
    "    .\n",
    "    <statement-N>\n",
    "```"
   ]
  },
  {
   "cell_type": "markdown",
   "metadata": {},
   "source": [
    "### 类对象\n",
    "\n",
    "支持两种操作\n",
    "- 属性引用\n",
    "- 实例化\n",
    "\n",
    "属性引用\n",
    "- 使用 Python 中所有属性引用所使用的标准语法：`obj.name`\n",
    "\n",
    "有效的属性名称\n",
    "- 类对象被创建时存在于类命名空间中的所有名称\n"
   ]
  },
  {
   "cell_type": "code",
   "execution_count": 2,
   "metadata": {},
   "outputs": [],
   "source": [
    "class MyClass:\n",
    "    \"\"\"A simple example class\"\"\"\n",
    "    i = 12345\n",
    "\n",
    "    def f(self):\n",
    "        return 'hello world'"
   ]
  },
  {
   "cell_type": "markdown",
   "metadata": {},
   "source": [
    "有效的属性引用\n",
    "- `MyClass.i`：整数\n",
    "- `MyClass.f`：函数对象\n",
    "- `MyClass.__doc__`：返回所属类的文档字符串\n",
    "\n",
    "类的实例化使用函数表示法\n",
    "- 把类对象视为是返回该类的一个新实例的不带参数的函数"
   ]
  },
  {
   "cell_type": "code",
   "execution_count": 3,
   "metadata": {},
   "outputs": [],
   "source": [
    "# 创建类的新实例，并将其分配给局部变量\n",
    "x = MyClass()"
   ]
  },
  {
   "cell_type": "markdown",
   "metadata": {},
   "source": [
    "实例化操作（调用类对象）会创建一个空对象\n",
    "\n",
    "许多类创建带有特定初始状态的自定义实例\n",
    "- 类定义可能包含一个名为 [\\_\\_init\\_\\_](https://docs.python.org/zh-cn/3/reference/datamodel.html#object.__init__) 的特殊方法\n",
    "    - 类的实例化操作会自动为新创建的类实例调用 `__init__()`\n",
    "    - 提供给实例化运算符的参数将被传递给 `__init__()`"
   ]
  },
  {
   "cell_type": "code",
   "execution_count": 4,
   "metadata": {},
   "outputs": [],
   "source": [
    "def __init__(self):\n",
    "    self.data = []"
   ]
  },
  {
   "cell_type": "code",
   "execution_count": 5,
   "metadata": {},
   "outputs": [
    {
     "data": {
      "text/plain": [
       "(3.0, -4.5)"
      ]
     },
     "execution_count": 5,
     "metadata": {},
     "output_type": "execute_result"
    }
   ],
   "source": [
    "class Complex:\n",
    "    def __init__(self, realpart, imagpart):    # 实例化参数\n",
    "        self.r = realpart\n",
    "        self.i = imagpart\n",
    "\n",
    "x = Complex(3.0, -4.5)\n",
    "x.r, x.i"
   ]
  },
  {
   "cell_type": "markdown",
   "metadata": {},
   "source": [
    "### 实例对象\n",
    "\n",
    "属性引用 --> 有效的属性名称\n",
    "- 数据属性\n",
    "    - 不需要声明，在第一次被赋值时产生\n",
    "- 方法\n",
    "    - “从属”于对象的函数\n",
    "\n",
    "实例对象的有效方法名称依赖于其所属的类\n",
    "- 一个类中所有是函数对象的属性都是定义课其实例的相应方法\n",
    "- `x.f` 是一个方法对象，`MyClass.f` 是一个函数对象"
   ]
  },
  {
   "cell_type": "code",
   "execution_count": 6,
   "metadata": {},
   "outputs": [
    {
     "name": "stdout",
     "output_type": "stream",
     "text": [
      "16\n"
     ]
    }
   ],
   "source": [
    "# MyClass 类实例\n",
    "x.counter = 1\n",
    "while x.counter < 10:\n",
    "    x.counter = x.counter * 2\n",
    "print(x.counter)\n",
    "del x.counter"
   ]
  },
  {
   "cell_type": "markdown",
   "metadata": {},
   "source": [
    "### 方法对象\n",
    "\n",
    "实例对象会作为函数的第一个参数被传入方法\n",
    "\n",
    "调用一个具有 n 个参数的方法就相当于调用 n+1 个参数的对应函数\n",
    "- 多出来的这一个参数为实例对象，且位置在其他参数之前\n",
    "\n",
    "当一个实例的非数据属性被引用时，将搜索实例所属的类\n",
    "- 如果被引用的属性名称表示一个有效的类属性中的函数对象，会通过打包（指向）查找到的实例对象和函数对象到一个抽象对象的方式来创建方法对象\n",
    "    - 这个抽象对象就是方法对象\n",
    "- 当附带参数列表调用方法对象时，将基于实例对象和参数列表构建一个新的参数列表，并使用这个新参数列表调用相应的函数对象"
   ]
  },
  {
   "cell_type": "code",
   "execution_count": 7,
   "metadata": {},
   "outputs": [
    {
     "data": {
      "text/plain": [
       "'hello world'"
      ]
     },
     "execution_count": 7,
     "metadata": {},
     "output_type": "execute_result"
    }
   ],
   "source": [
    "# 方法在绑定后立即被调用\n",
    "x = MyClass()\n",
    "x.f()        # 相当于 MyClass.f(x)"
   ]
  },
  {
   "cell_type": "code",
   "execution_count": 8,
   "metadata": {},
   "outputs": [
    {
     "name": "stdout",
     "output_type": "stream",
     "text": [
      "hello world\n",
      "hello world\n"
     ]
    }
   ],
   "source": [
    "# 保存起来以后再调用\n",
    "xf = x.f\n",
    "for i in range(2):\n",
    "    print(xf())"
   ]
  },
  {
   "cell_type": "markdown",
   "metadata": {},
   "source": [
    "### 类和实例变量\n",
    "\n",
    "一般来说\n",
    "- 实例变量用于每个实例的唯一数据\n",
    "- 类变量用于类的所有实例共享的属性和方法"
   ]
  },
  {
   "cell_type": "code",
   "execution_count": 9,
   "metadata": {},
   "outputs": [],
   "source": [
    "class Dog:\n",
    "    kind = 'canine'         # class variable shared by all instances\n",
    "    def __init__(self, name):\n",
    "        self.name = name    # instance variable unique to each instance\n",
    "\n",
    "d = Dog('Fido')\n",
    "e = Dog('Buddy')"
   ]
  },
  {
   "cell_type": "code",
   "execution_count": 10,
   "metadata": {},
   "outputs": [
    {
     "data": {
      "text/plain": [
       "'canine'"
      ]
     },
     "execution_count": 10,
     "metadata": {},
     "output_type": "execute_result"
    }
   ],
   "source": [
    "d.kind"
   ]
  },
  {
   "cell_type": "code",
   "execution_count": 11,
   "metadata": {},
   "outputs": [
    {
     "data": {
      "text/plain": [
       "'canine'"
      ]
     },
     "execution_count": 11,
     "metadata": {},
     "output_type": "execute_result"
    }
   ],
   "source": [
    "e.kind"
   ]
  },
  {
   "cell_type": "code",
   "execution_count": 12,
   "metadata": {},
   "outputs": [
    {
     "data": {
      "text/plain": [
       "'Fido'"
      ]
     },
     "execution_count": 12,
     "metadata": {},
     "output_type": "execute_result"
    }
   ],
   "source": [
    "d.name"
   ]
  },
  {
   "cell_type": "code",
   "execution_count": 13,
   "metadata": {},
   "outputs": [
    {
     "data": {
      "text/plain": [
       "'Buddy'"
      ]
     },
     "execution_count": 13,
     "metadata": {},
     "output_type": "execute_result"
    }
   ],
   "source": [
    "e.name"
   ]
  },
  {
   "cell_type": "markdown",
   "metadata": {},
   "source": [
    "共享数据在涉及可变（[mutable](https://docs.python.org/zh-cn/3/glossary.html#term-mutable)）对象时可能出错"
   ]
  },
  {
   "cell_type": "code",
   "execution_count": 14,
   "metadata": {},
   "outputs": [
    {
     "data": {
      "text/plain": [
       "['roll over', 'play dead']"
      ]
     },
     "execution_count": 14,
     "metadata": {},
     "output_type": "execute_result"
    }
   ],
   "source": [
    "# 类变量 tricks --> 所有 Dog 实例共享单独的列表\n",
    "class Dog:\n",
    "    tricks = []             # mistaken use of a class variable\n",
    "    def __init__(self, name):\n",
    "        self.name = name\n",
    "    def add_trick(self, trick):\n",
    "        self.tricks.append(trick)\n",
    "\n",
    "d = Dog('Fido')\n",
    "e = Dog('Buddy')\n",
    "d.add_trick('roll over')\n",
    "e.add_trick('play dead')\n",
    "d.tricks                # unexpectedly shared by all dogs"
   ]
  },
  {
   "cell_type": "code",
   "execution_count": 15,
   "metadata": {},
   "outputs": [
    {
     "data": {
      "text/plain": [
       "['roll over']"
      ]
     },
     "execution_count": 15,
     "metadata": {},
     "output_type": "execute_result"
    }
   ],
   "source": [
    "# 正确做法：使用实例变量\n",
    "class Dog:\n",
    "    def __init__(self, name):\n",
    "        self.name = name\n",
    "        self.tricks = []    # creates a new empty list for each dog\n",
    "    def add_trick(self, trick):\n",
    "        self.tricks.append(trick)\n",
    "\n",
    "d = Dog('Fido')\n",
    "e = Dog('Buddy')\n",
    "d.add_trick('roll over')\n",
    "e.add_trick('play dead')\n",
    "d.tricks"
   ]
  },
  {
   "cell_type": "code",
   "execution_count": 16,
   "metadata": {},
   "outputs": [
    {
     "data": {
      "text/plain": [
       "['play dead']"
      ]
     },
     "execution_count": 16,
     "metadata": {},
     "output_type": "execute_result"
    }
   ],
   "source": [
    "e.tricks"
   ]
  },
  {
   "cell_type": "markdown",
   "metadata": {},
   "source": [
    "如果同样的属性名称同时出现在实例和类中，属性查找会优先选择实例中的属性"
   ]
  },
  {
   "cell_type": "code",
   "execution_count": 17,
   "metadata": {},
   "outputs": [
    {
     "name": "stdout",
     "output_type": "stream",
     "text": [
      "storage west\n",
      "storage east\n"
     ]
    }
   ],
   "source": [
    "class Warehouse:\n",
    "    purpose = 'storage'\n",
    "    region = 'west'\n",
    "\n",
    "w1 = Warehouse()\n",
    "print(w1.purpose, w1.region)\n",
    "\n",
    "w2 = Warehouse()\n",
    "w2.region = 'east'\n",
    "print(w2.purpose, w2.region)    # 优先选择实例变量，而不是类变量"
   ]
  },
  {
   "cell_type": "markdown",
   "metadata": {},
   "source": [
    "数据属性可以被方法或对象所引用\n",
    "- 类不能用于实现纯抽象数据类型\n",
    "- 可能通过直接操作数据属性的方式破坏由方法所维护的固定变量\n",
    "- 可以向一个实例对象添加数据属性而不会影响方法的可用性\n",
    "    - 只要保证避免名称冲突 \n",
    "\n",
    "> 用 C 语言编写的 Python 实现则可以完全隐藏实现细节，并在必要时控制对象的访问；此特性可以通过用 C 编写 Python 扩展来使用。\n",
    "\n",
    "约定：方法的第一个参数常常被命名为 `self`\n",
    "\n",
    "任何一个作为类属性的函数都为该类的实例定义了一个相应方法\n",
    "\n",
    "函数定义的文本并非必须包含于类定义之内\n",
    "- 将一个函数对象赋值给一个局部变量也是可以的"
   ]
  },
  {
   "cell_type": "code",
   "execution_count": 18,
   "metadata": {},
   "outputs": [],
   "source": [
    "# Function defined outside the class\n",
    "def f1(self, x, y):\n",
    "    return min(x, x+y)\n",
    "\n",
    "class C:\n",
    "    f = f1\n",
    "    def g(self):\n",
    "        return 'hello world'\n",
    "    h = g"
   ]
  },
  {
   "cell_type": "markdown",
   "metadata": {},
   "source": [
    "`f`、`g`、`h` 都是 C 类的引用函数对象的属性\n",
    "- 都是 C 的实例的方法\n",
    "- `h` 完全等同于 `g`"
   ]
  },
  {
   "cell_type": "code",
   "execution_count": 19,
   "metadata": {},
   "outputs": [],
   "source": [
    "# 方法可以通过使用 self 参数的方法属性调用其他方法\n",
    "class Bag:\n",
    "    def __init__(self):\n",
    "        self.data = []\n",
    "\n",
    "    def add(self, x):\n",
    "        self.data.append(x)\n",
    "\n",
    "    def addtwice(self, x):\n",
    "        self.add(x)\n",
    "        self.add(x)"
   ]
  },
  {
   "cell_type": "markdown",
   "metadata": {},
   "source": [
    "方法可以通过与普通函数相同的方式引用全局名称\n",
    "\n",
    "与方法相关联的全局作用域就是包含其定义的模块\n",
    "- 类永远不会被作为全局作用域\n",
    "\n",
    "全局作用域存在许多合法的使用场景\n",
    "- 导入到全局作用域的函数和模块可以被方法所使用\n",
    "    - 在其中定义的函数和类也一样\n",
    "    - 通常，包含该方法的类本身是在全局作用域中定义的\n",
    "\n",
    "每个值都是一个对象，因此具有类（也称为类型），并存储为 `object.__class__` "
   ]
  },
  {
   "cell_type": "markdown",
   "metadata": {},
   "source": [
    "## 继承\n",
    "\n",
    "派生类定义的语法\n",
    "\n",
    "```python\n",
    "class DerivedClassName(BaseClassName):\n",
    "    <statement-1>\n",
    "    .\n",
    "    .\n",
    "    .\n",
    "    <statement-N>\n",
    "```\n",
    "\n",
    "- 名称 BaseClassName 必须定义在包含派生类定义的作用域中\n",
    "- 也允许用其他任意表达式代替基类名称所在的位置\n",
    "    - 当基类定义在另一个模块中的时候\n",
    "\n",
    "```python\n",
    "class DerivedClassName(modname.BaseClassName):\n",
    "```\n",
    "\n",
    "派生类定义的执行过程与基类相同\n",
    "- 当构造类对象时，基类会被记住\n",
    "    - 此信息将被用来解析属性引用\n",
    "        - 如果请求的属性在类中找不到，搜索将转往基类中进行查找\n",
    "        - 如果基类本身也派生自其他某个类，则按照此规则递归进行查找\n",
    "\n",
    "派生类的实例化就是类的实例化（相同方式）\n",
    "\n",
    "方法引用将按以下方式解析:\n",
    "- 搜索相应的类属性\n",
    "    - 如有必要将按基类继承链逐步向下查找\n",
    "    - 如果产生了一个函数对象则方法引用就生效\n",
    "\n",
    "派生类可以重载其基类的方法\n",
    "- 扩展同名的基类方法\n",
    "- 方法在调用同一对象的其他方法时没有特殊权限\n",
    "    - 调用同一基类中定义的另一方法的基类方法最终可能会调用覆盖派生类的方法\n",
    "- 对 C++ 程序员的提示：Python 中所有的方法实际上都是 virtual 方法\n",
    "\n",
    "直接调用基类方法\n",
    "- 调用 `BaseClassName.methodname(self, arguments)`\n",
    "- 仅当此基类可在全局作用域中以 BaseClassName 的名称被访问时可使用\n",
    "\n",
    "Python 有两个内置函数可被用于继承机制\n",
    "- [isinstance()](https://docs.python.org/zh-cn/3/library/functions.html#isinstance)：检查一个实例的类型\n",
    "    - `isinstance(obj, int)` 仅会在 `obj.__class__` 为 int 或某个派生自 int 的类时为 True\n",
    "- [issubclass()](https://docs.python.org/zh-cn/3/library/functions.html#issubclass)：检查类的继承关系\n",
    "    - `issubclass(bool, int)` 为 True，因为 bool 是 int 的子类\n",
    "    - `issubclass(float, int)` 为 False，因为 float 不是 int 的子类"
   ]
  },
  {
   "cell_type": "code",
   "execution_count": 20,
   "metadata": {},
   "outputs": [
    {
     "data": {
      "text/plain": [
       "True"
      ]
     },
     "execution_count": 20,
     "metadata": {},
     "output_type": "execute_result"
    }
   ],
   "source": [
    "issubclass(bool, int)"
   ]
  },
  {
   "cell_type": "code",
   "execution_count": 21,
   "metadata": {},
   "outputs": [
    {
     "data": {
      "text/plain": [
       "False"
      ]
     },
     "execution_count": 21,
     "metadata": {},
     "output_type": "execute_result"
    }
   ],
   "source": [
    "issubclass(float, int)"
   ]
  },
  {
   "cell_type": "markdown",
   "metadata": {},
   "source": [
    "### 多重继承\n",
    "\n",
    "带有多个基类的类定义语句如下\n",
    "\n",
    "```python\n",
    "class DerivedClassName(Base1, Base2, Base3):\n",
    "    <statement-1>\n",
    "    .\n",
    "    .\n",
    "    .\n",
    "    <statement-N>\n",
    "```\n",
    "\n",
    "搜索从父类所继承属性的操作是深度优先、从左至右的，当层次结构中存在重叠时不会在同一个类中搜索两次\n",
    "\n",
    "如果某一属性在 `DerivedClassName` 中未找到，则会到 `Base1` 中搜索它，然后（递归地）到 `Base1` 的基类中搜索，如果在那里未找到，再到 `Base2` 中搜索，以此类推。\n",
    "\n",
    "方法解析顺序会动态改变以支持对 [super()](https://docs.python.org/zh-cn/3/library/functions.html#super) 的协同调用\n",
    "- 这种方式在某些其他多重继承型语言中被称为后续方法调用\n",
    "- 比单继承型语言中的 super 调用更强大\n",
    "\n",
    "动态改变顺序是有必要的\n",
    "- 所有多重继承的情况都会显示出一个或更多的菱形关联（即至少有一个父类可通过多条路径被最底层类所访问）\n",
    "- 所有类都是继承自 Object，因此任何多重继承的情况都提供了一条以上的路径可以通向 Object\n",
    "- 为了确保基类不会被访问一次以上，动态算法会用一种特殊方式将搜索顺序线性化，保留每个类所指定的从左至右的顺序，只调用每个父类一次，并且保持单调\n",
    "    - 即一个类可以被子类化而不影响其父类的优先顺序"
   ]
  },
  {
   "cell_type": "markdown",
   "metadata": {},
   "source": [
    "## 私有变量\n",
    "\n",
    "带有一个下划线的名称应该被当作是 API 的非公有部分\n",
    "- 函数、方法、数据成员\n",
    "- 例如 `_spam`\n",
    "\n",
    "避免名称与子类所定义的名称冲突\n",
    "\n",
    "名称改写\n",
    "- 任何形式为 `__spam` 的标识符将被替换为 `_classname__spam`\n",
    "    - 至少带有两个前缀下划线，至多一个后缀下划线\n",
    "    - `classname` 为去除了前缀下划线的当前类名称\n",
    "- 不考虑标识符的句法位置\n",
    "    - 只要出现在类定义内部就会进行\n",
    "\n",
    "名称改写有助于让子类重载方法而不破坏类内方法调用\n",
    "- 为了避免意外冲突\n",
    "- 仍有可能访问或修改被视为私有的变量\n",
    "\n",
    "> 请注意传递给 exec() 或 eval() 的代码不会将发起调用类的类名视作当前类；这类似于 global 语句的效果，因此这种效果仅限于同时经过字节码编译的代码。 同样的限制也适用于 getattr(), setattr() 和 delattr()，以及对于 `__dict__` 的直接引用。"
   ]
  },
  {
   "cell_type": "code",
   "execution_count": 22,
   "metadata": {},
   "outputs": [],
   "source": [
    "class Mapping:\n",
    "    def __init__(self, iterable):\n",
    "        self.items_list = []\n",
    "        self.__update(iterable)\n",
    "\n",
    "    def update(self, iterable):        # _Mapping__update\n",
    "        for item in iterable:\n",
    "            self.items_list.append(item)\n",
    "\n",
    "    __update = update   # private copy of original update() method\n",
    "\n",
    "class MappingSubclass(Mapping):\n",
    "    def update(self, keys, values):    # _MappingSubclass__update\n",
    "        # provides new signature for update()\n",
    "        # but does not break __init__()\n",
    "        for item in zip(keys, values):\n",
    "            self.items_list.append(item)"
   ]
  },
  {
   "cell_type": "markdown",
   "metadata": {},
   "source": [
    "定义一个空类\n",
    "- 将一些命名数据项捆绑在一起\n",
    "\n",
    "一段需要特定抽象数据类型的 Python 代码往往可以被传入一个模拟了该数据类型的方法的类作为替代\n",
    "- 例如，如果使用一个基于文件对象来格式化某些数据的函数，可以定义一个带有 read() 和 readline() 方法从字符串缓存获取数据的类，并将其作为参数传入。\n",
    "\n",
    "实例方法对象也具有属性\n",
    "- `m.__self__`：带有 m() 方法的实例对象\n",
    "- `m.__func__`：该方法所对应的函数对象"
   ]
  },
  {
   "cell_type": "code",
   "execution_count": 23,
   "metadata": {},
   "outputs": [
    {
     "data": {
      "text/plain": [
       "'John Doe'"
      ]
     },
     "execution_count": 23,
     "metadata": {},
     "output_type": "execute_result"
    }
   ],
   "source": [
    "class Employee:\n",
    "    pass\n",
    "\n",
    "john = Employee()  # Create an empty employee record\n",
    "\n",
    "# Fill the fields of the record\n",
    "john.name = 'John Doe'\n",
    "john.dept = 'computer lab'\n",
    "john.salary = 1000\n",
    "\n",
    "john.name"
   ]
  },
  {
   "cell_type": "markdown",
   "metadata": {},
   "source": [
    "## 迭代器\n",
    "\n",
    "大多数容器对象都可以使用 for 语句\n",
    "\n",
    "for 语句在容器对象上调用 [iter()](https://docs.python.org/zh-cn/3/library/functions.html#iter)\n",
    "- 返回一个定义了 [\\_\\_next\\_\\_](https://docs.python.org/zh-cn/3/library/stdtypes.html#iterator.__next__) 方法的迭代器对象\n",
    "    - 逐一访问容器中的元素\n",
    "    - 元素耗尽时，引发 [StopIteraion](https://docs.python.org/zh-cn/3/library/exceptions.html#StopIteration) 异常来通知终止 for 循环"
   ]
  },
  {
   "cell_type": "code",
   "execution_count": 24,
   "metadata": {},
   "outputs": [
    {
     "name": "stdout",
     "output_type": "stream",
     "text": [
      "1\n",
      "2\n",
      "3\n",
      "1\n",
      "2\n",
      "3\n",
      "one\n",
      "two\n",
      "1\n",
      "2\n",
      "3\n",
      "test!\n"
     ]
    }
   ],
   "source": [
    "for element in [1, 2, 3]:\n",
    "    print(element)\n",
    "for element in (1, 2, 3):\n",
    "    print(element)\n",
    "for key in {'one':1, 'two':2}:\n",
    "    print(key)\n",
    "for char in \"123\":\n",
    "    print(char)\n",
    "for line in open(\"myfile.txt\"):\n",
    "    print(line, end='')"
   ]
  },
  {
   "cell_type": "code",
   "execution_count": 25,
   "metadata": {},
   "outputs": [
    {
     "data": {
      "text/plain": [
       "<str_iterator at 0x1d6229fa940>"
      ]
     },
     "execution_count": 25,
     "metadata": {},
     "output_type": "execute_result"
    }
   ],
   "source": [
    "# 使用内置函数 next() 来调用 __next__() 方法\n",
    "s = 'abc'\n",
    "it = iter(s)\n",
    "it"
   ]
  },
  {
   "cell_type": "code",
   "execution_count": 26,
   "metadata": {},
   "outputs": [
    {
     "data": {
      "text/plain": [
       "'a'"
      ]
     },
     "execution_count": 26,
     "metadata": {},
     "output_type": "execute_result"
    }
   ],
   "source": [
    "next(it)"
   ]
  },
  {
   "cell_type": "code",
   "execution_count": 27,
   "metadata": {},
   "outputs": [
    {
     "data": {
      "text/plain": [
       "'b'"
      ]
     },
     "execution_count": 27,
     "metadata": {},
     "output_type": "execute_result"
    }
   ],
   "source": [
    "next(it)"
   ]
  },
  {
   "cell_type": "code",
   "execution_count": 28,
   "metadata": {},
   "outputs": [
    {
     "data": {
      "text/plain": [
       "'c'"
      ]
     },
     "execution_count": 28,
     "metadata": {},
     "output_type": "execute_result"
    }
   ],
   "source": [
    "next(it)"
   ]
  },
  {
   "cell_type": "code",
   "execution_count": 29,
   "metadata": {},
   "outputs": [
    {
     "ename": "StopIteration",
     "evalue": "",
     "output_type": "error",
     "traceback": [
      "\u001b[1;31m---------------------------------------------------------------------------\u001b[0m",
      "\u001b[1;31mStopIteration\u001b[0m                             Traceback (most recent call last)",
      "\u001b[1;32m<ipython-input-29-bc1ab118995a>\u001b[0m in \u001b[0;36m<module>\u001b[1;34m\u001b[0m\n\u001b[1;32m----> 1\u001b[1;33m \u001b[0mnext\u001b[0m\u001b[1;33m(\u001b[0m\u001b[0mit\u001b[0m\u001b[1;33m)\u001b[0m\u001b[1;33m\u001b[0m\u001b[1;33m\u001b[0m\u001b[0m\n\u001b[0m",
      "\u001b[1;31mStopIteration\u001b[0m: "
     ]
    }
   ],
   "source": [
    "next(it)"
   ]
  },
  {
   "cell_type": "markdown",
   "metadata": {},
   "source": [
    "给类添加迭代器行为\n",
    "- 定义一个 `__iter__()` 方法来返回一个带有 `__next__()` 方法的对象\n",
    "- 如果类已经定义了 `__next__()` ，则 `__iter__()` 可以简单地返回 `self`"
   ]
  },
  {
   "cell_type": "code",
   "execution_count": 30,
   "metadata": {},
   "outputs": [
    {
     "data": {
      "text/plain": [
       "<__main__.Reverse at 0x1d622a32dc0>"
      ]
     },
     "execution_count": 30,
     "metadata": {},
     "output_type": "execute_result"
    }
   ],
   "source": [
    "class Reverse:\n",
    "    \"\"\"Iterator for looping over a sequence backwards.\"\"\"\n",
    "    def __init__(self, data):\n",
    "        self.data = data\n",
    "        self.index = len(data)\n",
    "\n",
    "    def __iter__(self):\n",
    "        return self\n",
    "\n",
    "    def __next__(self):\n",
    "        if self.index == 0:\n",
    "            raise StopIteration\n",
    "        self.index = self.index - 1\n",
    "        return self.data[self.index]\n",
    "\n",
    "rev = Reverse('spam')\n",
    "iter(rev)"
   ]
  },
  {
   "cell_type": "code",
   "execution_count": 31,
   "metadata": {},
   "outputs": [
    {
     "name": "stdout",
     "output_type": "stream",
     "text": [
      "m\n",
      "a\n",
      "p\n",
      "s\n"
     ]
    }
   ],
   "source": [
    "for char in rev:\n",
    "    print(char)"
   ]
  },
  {
   "cell_type": "markdown",
   "metadata": {},
   "source": [
    "## [生成器](https://docs.python.org/zh-cn/3/glossary.html#term-generator)\n",
    "\n",
    "用于创建迭代器的工具\n",
    "- 写法类似于标准的函数\n",
    "- 返回数据时时使用 [yield](https://docs.python.org/zh-cn/3/reference/simple_stmts.html#yield) 语句\n",
    "- 每次在生成器上调用 `next()` 时，会从上次离开的位置恢复执行\n",
    "    - 记住上次执行语句时的所有数据值\n",
    "\n",
    "特性\n",
    "- 生成器的写法更为紧凑\n",
    "    - 自动创建 `__iter()__` 和 `__next()__` 方法\n",
    "- 局部变量和执行状态会在每次调用之间自动保存\n",
    "    - 自动保存程序状态\n",
    "- 当生成器遍历完毕时自动引发 [StopIteration](https://docs.python.org/zh-cn/3/library/exceptions.html#StopIteration) 异常"
   ]
  },
  {
   "cell_type": "code",
   "execution_count": 32,
   "metadata": {},
   "outputs": [
    {
     "name": "stdout",
     "output_type": "stream",
     "text": [
      "f\n",
      "l\n",
      "o\n",
      "g\n"
     ]
    }
   ],
   "source": [
    "# 生成器示例\n",
    "def reverse(data):\n",
    "    for index in range(len(data)-1, -1, -1):\n",
    "        yield data[index]\n",
    "\n",
    "for char in reverse('golf'):\n",
    "    print(char)"
   ]
  },
  {
   "cell_type": "markdown",
   "metadata": {},
   "source": [
    "## 生成器表达式\n",
    "\n",
    "语法类似列表推导式\n",
    "- 外层为圆括号而非方括号\n",
    "\n",
    "作为函数调用的参数\n",
    "\n",
    "- 相比完整的生成器更紧凑但较不灵活\n",
    "- 相比等效的列表推导式则更为节省内存"
   ]
  },
  {
   "cell_type": "code",
   "execution_count": 33,
   "metadata": {},
   "outputs": [
    {
     "data": {
      "text/plain": [
       "285"
      ]
     },
     "execution_count": 33,
     "metadata": {},
     "output_type": "execute_result"
    }
   ],
   "source": [
    "sum(i*i for i in range(10))                 # sum of squares"
   ]
  },
  {
   "cell_type": "code",
   "execution_count": 34,
   "metadata": {},
   "outputs": [
    {
     "data": {
      "text/plain": [
       "260"
      ]
     },
     "execution_count": 34,
     "metadata": {},
     "output_type": "execute_result"
    }
   ],
   "source": [
    "xvec = [10, 20, 30]\n",
    "yvec = [7, 5, 3]\n",
    "sum(x*y for x,y in zip(xvec, yvec))         # dot product"
   ]
  },
  {
   "cell_type": "code",
   "execution_count": 35,
   "metadata": {},
   "outputs": [
    {
     "data": {
      "text/plain": [
       "{'test!'}"
      ]
     },
     "execution_count": 35,
     "metadata": {},
     "output_type": "execute_result"
    }
   ],
   "source": [
    "with open(\"myfile.txt\") as f:\n",
    "    page = f.readlines()\n",
    "\n",
    "unique_words = set(word for line in page for word in line.split())\n",
    "unique_words"
   ]
  },
  {
   "cell_type": "code",
   "execution_count": 36,
   "metadata": {},
   "outputs": [
    {
     "data": {
      "text/plain": [
       "(2, 'b')"
      ]
     },
     "execution_count": 36,
     "metadata": {},
     "output_type": "execute_result"
    }
   ],
   "source": [
    "class STU:\n",
    "    def __init__(self, gpa, name):\n",
    "        self.gpa = gpa\n",
    "        self.name = name\n",
    "\n",
    "graduates = [STU(1, \"a\"), STU(2, \"b\")]\n",
    "    \n",
    "valedictorian = max((student.gpa, student.name) for student in graduates)\n",
    "valedictorian"
   ]
  },
  {
   "cell_type": "code",
   "execution_count": 37,
   "metadata": {},
   "outputs": [
    {
     "data": {
      "text/plain": [
       "['f', 'l', 'o', 'g']"
      ]
     },
     "execution_count": 37,
     "metadata": {},
     "output_type": "execute_result"
    }
   ],
   "source": [
    "data = 'golf'\n",
    "list(data[i] for i in range(len(data)-1, -1, -1))"
   ]
  }
 ],
 "metadata": {
  "kernelspec": {
   "display_name": "Python 3",
   "language": "python",
   "name": "python3"
  },
  "language_info": {
   "codemirror_mode": {
    "name": "ipython",
    "version": 3
   },
   "file_extension": ".py",
   "mimetype": "text/x-python",
   "name": "python",
   "nbconvert_exporter": "python",
   "pygments_lexer": "ipython3",
   "version": "3.8.5"
  }
 },
 "nbformat": 4,
 "nbformat_minor": 4
}

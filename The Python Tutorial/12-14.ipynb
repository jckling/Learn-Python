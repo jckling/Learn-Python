{
 "cells": [
  {
   "cell_type": "markdown",
   "metadata": {},
   "source": [
    "## [virtual environment](https://docs.python.org/zh-cn/3/glossary.html#term-virtual-environment)\n",
    "\n",
    "虚拟环境\n",
    "- 一种采用协作式隔离的运行时环境\n",
    "- 允许 Python 用户和应用程序在安装和升级软件包时，不影响同一系统上的其他 Python 应用程序"
   ]
  },
  {
   "cell_type": "markdown",
   "metadata": {},
   "source": [
    "参阅\n",
    "- [安装 Python 模块](https://docs.python.org/zh-cn/3/installing/index.html#installing-index)\n",
    "- [分发 Python 模块](https://docs.python.org/zh-cn/3/distributing/index.html#distributing-index)\n",
    "- [PEP 405 -- Python Virtual Environments](https://www.python.org/dev/peps/pep-0405/)"
   ]
  },
  {
   "cell_type": "markdown",
   "metadata": {},
   "source": [
    "## [venv](https://docs.python.org/zh-cn/3/library/venv.html#module-venv) 模块\n",
    "\n",
    "Python\n",
    "- 支持使用自己的站点目录创建轻量级“虚拟环境”，可选择与系统站点目录隔离\n",
    "- 每个虚拟环境都有自己的 Python 二进制文件，并且可以在其站点目录中拥有自己独立的已安装 Python 软件包集\n",
    "\n",
    "创建虚拟环境\n",
    "- 创建 `tutorial-env` 目录\n",
    "- 创建 Python 解释器、标准库和各种支持文件的拷贝\n",
    "\n",
    "```bash\n",
    "python -m venv tutorial-env\n",
    "```\n",
    "\n",
    "虚拟环境操作\n",
    "- 进入虚拟环境后可以使用 `pip` 管理包\n",
    "\n",
    "```bash\n",
    "tutorial-env\\Script\\active    # 进入虚拟环境\n",
    "tutorial-env\\Script\\deactive  # 离开虚拟环境\n",
    "```\n",
    "\n",
    "虚拟环境常用目录位置 `.venv`"
   ]
  },
  {
   "cell_type": "markdown",
   "metadata": {},
   "source": [
    "## [pip](https://pip.pypa.io/en/stable/) - Python 包管理器\n",
    "\n",
    "安装软件包\n",
    "\n",
    "```bash\n",
    "pip install SomePackage              # latest version\n",
    "pip install SomePackage==1.0.4       # specific version\n",
    "pip install 'SomePackage>=1.0.4'     # minimum version\n",
    "```\n",
    "\n",
    "升级软件包\n",
    "\n",
    "```bash\n",
    "pip install --upgrade SomePackage\n",
    "```\n",
    "\n",
    "删除软件包\n",
    "\n",
    "```bash\n",
    "pip uninstall SomePackage\n",
    "```\n",
    "\n",
    "显示有关特定包的信息\n",
    "\n",
    "```bash\n",
    "pip show requests\n",
    "```\n",
    "\n",
    "显示安装的软件包\n",
    "\n",
    "```bash\n",
    "pip list            # 显示已安装的所有软件包\n",
    "pip list --outdated # 显示过时的软件包，并显示最新版本\n",
    "```\n",
    "\n",
    "搜索软件包\n",
    "\n",
    "```bash\n",
    "pip search \"query\"\n",
    "```\n",
    "\n",
    "生成已安装软件包的包列表\n",
    "\n",
    "```bash\n",
    "pip freeze    # Generate output suitable for a requirements file\n",
    "pip freeze > requirements.txt   # Generate a requirements file\n",
    "pip install -r requirements.txt # install from requirements file\n",
    "```\n",
    "\n",
    "设置 [清华 pypi 镜像](https://mirrors.tuna.tsinghua.edu.cn/help/pypi/)\n",
    "\n",
    "```bash\n",
    "pip config set global.index-url https://pypi.tuna.tsinghua.edu.cn/simple\n",
    "```"
   ]
  },
  {
   "cell_type": "code",
   "execution_count": 1,
   "metadata": {},
   "outputs": [
    {
     "name": "stdout",
     "output_type": "stream",
     "text": [
      "Name: requests\r\n",
      "Version: 2.24.0\r\n",
      "Summary: Python HTTP for Humans.\r\n",
      "Home-page: https://requests.readthedocs.io\r\n",
      "Author: Kenneth Reitz\r\n",
      "Author-email: me@kennethreitz.org\r\n",
      "License: Apache 2.0\r\n",
      "Location: d:\\study\\github\\study-notes\\myenv\\lib\\site-packages\r\n",
      "Requires: idna, chardet, urllib3, certifi\r\n",
      "Required-by: jupyterlab-server\r\n"
     ]
    }
   ],
   "source": [
    "%%bash\n",
    "pip show requests"
   ]
  },
  {
   "cell_type": "code",
   "execution_count": 2,
   "metadata": {
    "scrolled": true
   },
   "outputs": [
    {
     "name": "stdout",
     "output_type": "stream",
     "text": [
      "Package             Version\r\n",
      "------------------- ---------\r\n",
      "argon2-cffi         20.1.0\r\n",
      "async-generator     1.10\r\n",
      "attrs               20.2.0\r\n",
      "backcall            0.2.0\r\n",
      "bleach              3.2.1\r\n",
      "certifi             2020.6.20\r\n",
      "cffi                1.14.3\r\n",
      "chardet             3.0.4\r\n",
      "colorama            0.4.3\r\n",
      "decorator           4.4.2\r\n",
      "defusedxml          0.6.0\r\n",
      "entrypoints         0.3\r\n",
      "idna                2.10\r\n",
      "ipykernel           5.3.4\r\n",
      "ipython             7.18.1\r\n",
      "ipython-genutils    0.2.0\r\n",
      "jedi                0.17.2\r\n",
      "Jinja2              2.11.2\r\n",
      "json5               0.9.5\r\n",
      "jsonschema          3.2.0\r\n",
      "jupyter-client      6.1.7\r\n",
      "jupyter-core        4.6.3\r\n",
      "jupyterlab          2.2.8\r\n",
      "jupyterlab-pygments 0.1.1\r\n",
      "jupyterlab-server   1.2.0\r\n",
      "MarkupSafe          1.1.1\r\n",
      "mistune             0.8.4\r\n",
      "nbclient            0.5.0\r\n",
      "nbconvert           6.0.4\r\n",
      "nbformat            5.0.7\r\n",
      "nest-asyncio        1.4.0\r\n",
      "notebook            6.1.4\r\n",
      "packaging           20.4\r\n",
      "pandocfilters       1.4.2\r\n",
      "parso               0.7.1\r\n",
      "pickleshare         0.7.5\r\n",
      "pip                 20.2.2\r\n",
      "prometheus-client   0.8.0\r\n",
      "prompt-toolkit      3.0.7\r\n",
      "pycparser           2.20\r\n",
      "Pygments            2.7.1\r\n",
      "pyparsing           2.4.7\r\n",
      "pyrsistent          0.17.3\r\n",
      "python-dateutil     2.8.1\r\n",
      "pywin32             228\r\n",
      "pywinpty            0.5.7\r\n",
      "pyzmq               19.0.2\r\n",
      "requests            2.24.0\r\n",
      "Send2Trash          1.5.0\r\n",
      "setuptools          49.6.0\r\n",
      "six                 1.15.0\r\n",
      "terminado           0.9.1\r\n",
      "testpath            0.4.4\r\n",
      "tornado             6.0.4\r\n",
      "traitlets           5.0.4\r\n",
      "urllib3             1.25.10\r\n",
      "wcwidth             0.2.5\r\n",
      "webencodings        0.5.1\r\n",
      "wheel               0.35.1\r\n"
     ]
    },
    {
     "name": "stderr",
     "output_type": "stream",
     "text": [
      "WARNING: You are using pip version 20.2.2; however, version 20.2.3 is available.\r\n",
      "You should consider upgrading via the 'D:\\Study\\Github\\Study-Notes\\myenv\\Scripts\\python.exe -m pip install --upgrade pip' command.\r\n"
     ]
    }
   ],
   "source": [
    "%%bash\n",
    "pip list"
   ]
  },
  {
   "cell_type": "code",
   "execution_count": null,
   "metadata": {},
   "outputs": [],
   "source": [
    "%%bash\n",
    "pip list --outdated"
   ]
  },
  {
   "cell_type": "code",
   "execution_count": null,
   "metadata": {
    "scrolled": true
   },
   "outputs": [],
   "source": [
    "%%bash\n",
    "pip freeze"
   ]
  },
  {
   "cell_type": "markdown",
   "metadata": {},
   "source": [
    "## [virtualenv](https://virtualenv.pypa.io/en/latest/) 模块\n",
    "\n",
    "virtualenv 的一部分功能被集成到 venv 中，但是并不完全相同\n",
    "\n",
    "创建虚拟环境\n",
    "- 创建名为 `venv` 的目录\n",
    "- Python 版本与安装 virtualenv 的版本相同\n",
    "\n",
    "```bash\n",
    "virtualenv venv --no-site-packages\n",
    "```\n",
    "\n",
    "虚拟环境操作\n",
    "\n",
    "```bash\n",
    "venv/Script/active      # 进入虚拟环境\n",
    "venv/Script/deactive    # 退出虚拟环境\n",
    "```"
   ]
  },
  {
   "cell_type": "markdown",
   "metadata": {},
   "source": [
    "## [pipenv](https://pipenv.pypa.io/en/latest/)\n",
    "\n",
    "致力于将 `Pipfile`、`pip`、`virtualenv` 整合起来\n",
    "- 自动管理项目的虚拟环境\n",
    "- 自动添加和修改 `Pipfile`、`Pipfile.lock`\n",
    "    - 管理依赖\n",
    "- 不用分离地使用 `pip` 和 `virtualenv`\n",
    "    - `pipenv install SomePackage`\n",
    "    \n",
    "创建环境\n",
    "- 使用 Pipfile 管理依赖\n",
    "\n",
    "```bash\n",
    "cd myproject                # 进入项目目录\n",
    "pipenv --python 3.6         # 使用 Python3.6\n",
    "pipenv install              # 根据 Pipfile 安装依赖\n",
    "pipenv install <package>    # 安装包\n",
    "\n",
    "```\n",
    "\n",
    "进入 Pipenv shell\n",
    "\n",
    "```bash\n",
    "pipenv shell\n",
    "python --version    # 查看版本\n",
    "```"
   ]
  },
  {
   "cell_type": "markdown",
   "metadata": {},
   "source": [
    "## 总结\n",
    "\n",
    "个人倾向于使用 `virtualenv`，集成的 `pipenv` 看似把功能整合使其“易用”，但是 lock 的过程真的很久（虽然可以跳过）。此外，还有不少未解决的 bug ，甚至有人怀疑 `pipenv` 滥用自己的集成功能，总之是一个很强但也带有不少问题的工具。\n",
    "\n",
    "总而言之，`virtualenv` + `pip` 已经可以满足我目前的需求了，Python 代码都直接在 Jupyter Notebook 上写来着，不过部分指令的运行结果和直接在解释器运行的结果会有出入，例如 [10-11](10-11.ipynb) 中的 `gc.collect()`。\n",
    "\n",
    "该折腾一下 VSCODE 了【确信"
   ]
  },
  {
   "cell_type": "markdown",
   "metadata": {},
   "source": [
    "## 文档\n",
    "\n",
    "- [16. 附录](https://docs.python.org/zh-cn/3/tutorial/appendix.html)\n",
    "- [Python 语言参考](https://docs.python.org/zh-cn/3/reference/index.html#the-python-language-reference)\n",
    "- [Python 标准库](https://docs.python.org/zh-cn/3/library/index.html#library-index)"
   ]
  }
 ],
 "metadata": {
  "kernelspec": {
   "display_name": "Python 3",
   "language": "python",
   "name": "python3"
  },
  "language_info": {
   "codemirror_mode": {
    "name": "ipython",
    "version": 3
   },
   "file_extension": ".py",
   "mimetype": "text/x-python",
   "name": "python",
   "nbconvert_exporter": "python",
   "pygments_lexer": "ipython3",
   "version": "3.8.5"
  }
 },
 "nbformat": 4,
 "nbformat_minor": 4
}

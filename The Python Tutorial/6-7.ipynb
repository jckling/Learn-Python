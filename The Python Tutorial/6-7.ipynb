{
 "cells": [
  {
   "cell_type": "markdown",
   "metadata": {},
   "source": [
    "## 模块\n",
    "\n",
    "模块中的定义可以导入到其他模块或者主模块\n",
    "\n",
    "模块是一个包含 Python 定义和语句的文件\n",
    "- 文件名就是模块名后跟文件后缀 `.py`\n",
    "\n",
    "在一个模块内部，模块名可以通过全局变量 `__name__` 获得\n",
    "\n",
    "导入模块后，可以用模块名访问函数"
   ]
  },
  {
   "cell_type": "code",
   "execution_count": 1,
   "metadata": {},
   "outputs": [
    {
     "name": "stdout",
     "output_type": "stream",
     "text": [
      "0 1 1 2 3 5 8 13 21 34 55 89 144 233 377 610 987 \n"
     ]
    }
   ],
   "source": [
    "import fibo    # 导入模块\n",
    "\n",
    "fibo.fib(1000)"
   ]
  },
  {
   "cell_type": "code",
   "execution_count": 2,
   "metadata": {},
   "outputs": [
    {
     "data": {
      "text/plain": [
       "[0, 1, 1, 2, 3, 5, 8, 13, 21, 34, 55, 89, 144, 233, 377, 610, 987]"
      ]
     },
     "execution_count": 2,
     "metadata": {},
     "output_type": "execute_result"
    }
   ],
   "source": [
    "fibo.fib2(1000)"
   ]
  },
  {
   "cell_type": "code",
   "execution_count": 3,
   "metadata": {},
   "outputs": [
    {
     "data": {
      "text/plain": [
       "'fibo'"
      ]
     },
     "execution_count": 3,
     "metadata": {},
     "output_type": "execute_result"
    }
   ],
   "source": [
    "# 模块名\n",
    "fibo.__name__"
   ]
  },
  {
   "cell_type": "code",
   "execution_count": 4,
   "metadata": {},
   "outputs": [
    {
     "name": "stdout",
     "output_type": "stream",
     "text": [
      "0 1 1 2 3 5 8 13 21 34 55 89 144 233 377 \n"
     ]
    }
   ],
   "source": [
    "# 函数赋值给局部变量，别名（alias）\n",
    "fib = fibo.fib\n",
    "fib(500)"
   ]
  },
  {
   "cell_type": "markdown",
   "metadata": {},
   "source": [
    "模块可以包含可执行的语句及函数定义\n",
    "- 语句用于初始化模块\n",
    "    - 仅在模块 *第一次* 在 import 语句中被导入时执行\n",
    "        - 实际上，函数定义也是“被执行”的“语句”\n",
    "        - 模块级函数定义的执行在将函数名写入模块的全局符号表中\n",
    "    - 当文件被当做脚本执行时，也会执行\n",
    "    \n",
    "每个模块都有自己的私有符号表\n",
    "- 用作模块定义的所有函数的全局符号表\n",
    "- 访问模块的全局变量 `modname.itemname`\n",
    "\n",
    "模块可以导入其他模块\n",
    "- 被导入的模块名存放在导入模块的全局符号表中\n",
    "\n",
    "[import](https://docs.python.org/zh-cn/3/reference/simple_stmts.html#import) 语句变体\n",
    "- 把名字从被调模块中导入到当前模块的符号表\n",
    "    - 不会把被调模块名引入到局部变量表\n",
    "- 导入模块内定义的所有名称\n",
    "    - 导入所有非以下划线（`_`）开头的名称\n",
    "    - 在解释器中引入了一组未知的名称，可能会覆盖已定义的函数或变量等\n",
    "\n",
    "模块名之后带有 as\n",
    "- 跟在 as 之后的名称将直接绑定到所导入的模块\n",
    "- 使用 [from](https://docs.python.org/zh-cn/3/reference/simple_stmts.html#from) 时也可以使用\n",
    "- 别名（alias）\n",
    "\n",
    "每个模块在每个解释器会话中只被导入一次\n",
    "- 更改模块必须重新启动解释器\n",
    "- 如果要交互式地测试模块，使用 [importlib.reload()](https://docs.python.org/zh-cn/3/library/importlib.html#importlib.reload)\n",
    "    - 例如 `import importlib; importlib.reload(modulename)`"
   ]
  },
  {
   "cell_type": "code",
   "execution_count": 5,
   "metadata": {},
   "outputs": [
    {
     "name": "stdout",
     "output_type": "stream",
     "text": [
      "0 1 1 2 3 5 8 13 21 34 55 89 144 233 377 \n"
     ]
    }
   ],
   "source": [
    "# 导入函数名\n",
    "from fibo import fib, fib2\n",
    "fib(500)"
   ]
  },
  {
   "cell_type": "code",
   "execution_count": 6,
   "metadata": {},
   "outputs": [
    {
     "name": "stdout",
     "output_type": "stream",
     "text": [
      "0 1 1 2 3 5 8 13 21 34 55 89 144 233 377 \n"
     ]
    }
   ],
   "source": [
    "# 导入所有名称\n",
    "from fibo import *\n",
    "fib(500)"
   ]
  },
  {
   "cell_type": "code",
   "execution_count": 7,
   "metadata": {},
   "outputs": [
    {
     "name": "stdout",
     "output_type": "stream",
     "text": [
      "0 1 1 2 3 5 8 13 21 34 55 89 144 233 377 \n"
     ]
    }
   ],
   "source": [
    "# 绑定名称，别名\n",
    "import fibo as fib\n",
    "fib.fib(500)"
   ]
  },
  {
   "cell_type": "code",
   "execution_count": 8,
   "metadata": {},
   "outputs": [
    {
     "name": "stdout",
     "output_type": "stream",
     "text": [
      "0 1 1 2 3 5 8 13 21 34 55 89 144 233 377 \n"
     ]
    }
   ],
   "source": [
    "# 绑定名称，别名\n",
    "from fibo import fib as fibonacci\n",
    "fibonacci(500)"
   ]
  },
  {
   "cell_type": "markdown",
   "metadata": {},
   "source": [
    "### 以脚本方式执行模块\n",
    "\n",
    "模块的代码会被执行\n",
    "- `__name__` 被赋值为 `\"__main__\"`\n",
    "\n",
    "```bash\n",
    "python fibo.py <arguments>\n",
    "```\n",
    "\n",
    "在模块末尾添加以下代码\n",
    "- 既可以当做脚本，又可以当做模块\n",
    "- 只有在当模块以 main 文件的方式执行时才会运行\n",
    "    - 导入模块不执行\n",
    "- 为模块提供用户接口 / 用于测试\n",
    "    - 以脚本的方式运行模块从而执行一些测试套件\n",
    "\n",
    "```python\n",
    "if __name__ == \"__main__\":\n",
    "    import sys\n",
    "    fib(int(sys.argv[1]))\n",
    "```"
   ]
  },
  {
   "cell_type": "markdown",
   "metadata": {},
   "source": [
    "### 模块搜索路径\n",
    "\n",
    "1. 内置模块\n",
    "\n",
    "2. [sys.path](https://docs.python.org/zh-cn/3/library/sys.html#sys.path) 变量给出的目录列表\n",
    "\n",
    "初始包含以下目录地址：\n",
    "- 包含输入脚本的目录（或未指定文件时的当前目录）\n",
    "- [PYTHONPATH](https://docs.python.org/zh-cn/3/using/cmdline.html#envvar-PYTHONPATH) （一个包含目录名称的列表，和 shell 变量 PATH 有一样的语法）\n",
    "- 取决于安装的默认设置\n",
    "\n",
    "> 在支持符号链接的文件系统上，包含输入脚本的目录是在追加符号链接后才计算出来的。换句话说，包含符号链接的目录并没有被添加到模块的搜索路径上。\n",
    "\n",
    "初始化后，Python 程序可以更改 sys.path\n",
    "- 包含正在运行脚本的文件目录被放在搜索路径的开头处，在标准库路径之前\n",
    "- 将加载该目录中的脚本，而不是标准库中的同名模块\n",
    "- 除非有意更换，否则这是错误"
   ]
  },
  {
   "cell_type": "markdown",
   "metadata": {},
   "source": [
    "### “编译过的” Python 文件\n",
    "\n",
    "为了加速模块载入，Python 在 `__pycache__` 目录里缓存了每个模块的编译后版本\n",
    "- 名称为 `module.version.pyc`\n",
    "    - 其中名称中的版本字段对编译文件的格式进行编码\n",
    "        - 一般使用 Python 版本号\n",
    "    - 此命名约定允许来自不同发行版和不同版本的 Python 的已编译模块共存\n",
    "    \n",
    "例如，在 CPython 版本 3.3 中，spam.py 的编译版本将被缓存为  `__pycache__/spam.cpython-33.pyc`\n",
    "\n",
    "Python 根据编译版本检查源的修改日期\n",
    "- 查看是否已过期并需要重新编译\n",
    "- 完全自动化\n",
    "- 编译的模块与平台无关\n",
    "    - 可以在具有不同体系结构的系统之间共享相同的库\n",
    "    \n",
    "Python 在两种情况下不会检查缓存\n",
    "- 从命令行直接载入的模块\n",
    "    - 重新编译并且不存储编译结果\n",
    "- 没有源模块\n",
    "    - 为了支持无源文件（仅编译）发行版本，编译模块必须是在源目录下，并且绝对不能有源模块\n",
    "    \n",
    "给专业人士的一些小建议:\n",
    "- 可以在 Python 命令中使用 [-O](https://docs.python.org/zh-cn/3/using/cmdline.html#cmdoption-o) 或者 [-OO](https://docs.python.org/zh-cn/3/using/cmdline.html#cmdoption-oo) 开关，以减小编译后模块的大小\n",
    "    - `-O` 开关去除断言语句\n",
    "    - `-OO` 开关同时去除断言语句和 `__doc__` 字符串\n",
    "    - 由于有些程序可能依赖于这些，应当只在清楚自己在做什么时才使用这个选项\n",
    "    - “优化过的”模块有一个 `opt-` 标签并且通常小些\n",
    "- 一个从 .pyc 文件读出的程序并不会比它从 .py 读出时运行的更快，.pyc 文件唯一快的地方在于载入速度\n",
    "- [compileall](https://docs.python.org/zh-cn/3/library/compileall.html#module-compileall) 模块可以为一个目录下的所有模块创建 .pyc 文件\n",
    "- 关于这个过程，[PEP 3147](https://www.python.org/dev/peps/pep-3147/) 中有更多细节，包括一个决策流程图"
   ]
  },
  {
   "cell_type": "markdown",
   "metadata": {},
   "source": [
    "## 标准模块\n",
    "\n",
    "标准模块库\n",
    "- [Python 标准库](https://docs.python.org/zh-cn/3/library/index.html)\n",
    "\n",
    "一些模块内置于解释器\n",
    "- 提供对不属于语言核心但仍然内置的操作的访问\n",
    "    - 提高效率\n",
    "    - 提供对系统调用等操作系统原语的访问\n",
    "- 这些模块的集合是配置选项\n",
    "    - 取决于底层平台\n",
    "    - [winreg](https://docs.python.org/zh-cn/3/library/winreg.html#module-winreg) 模块只在 Windows 操作系统上提供\n",
    "\n",
    "[sys](https://docs.python.org/zh-cn/3/library/sys.html#module-sys) 模块\n",
    "- 内嵌于所有 Python 解释器\n",
    "- `sys.ps1`：首要提示符\n",
    "- `sys.ps2`：次要提示符\n",
    "- `sys.path`：解释器的模块搜索路径\n",
    "    - 初始化为环境变量 [PYTHONPATH](https://docs.python.org/zh-cn/3/using/cmdline.html#envvar-PYTHONPATH) 获取的默认路径\n",
    "    - PYTHONPATH 未设置，使用内置默认路径初始化"
   ]
  },
  {
   "cell_type": "code",
   "execution_count": 9,
   "metadata": {},
   "outputs": [
    {
     "data": {
      "text/plain": [
       "'In : '"
      ]
     },
     "execution_count": 9,
     "metadata": {},
     "output_type": "execute_result"
    }
   ],
   "source": [
    "import sys\n",
    "sys.ps1    # 解释器的首要提示符"
   ]
  },
  {
   "cell_type": "code",
   "execution_count": 10,
   "metadata": {},
   "outputs": [
    {
     "data": {
      "text/plain": [
       "'...: '"
      ]
     },
     "execution_count": 10,
     "metadata": {},
     "output_type": "execute_result"
    }
   ],
   "source": [
    "sys.ps2    # 解释器的次要提示符"
   ]
  },
  {
   "cell_type": "code",
   "execution_count": 11,
   "metadata": {},
   "outputs": [
    {
     "data": {
      "text/plain": [
       "'C> '"
      ]
     },
     "execution_count": 11,
     "metadata": {},
     "output_type": "execute_result"
    }
   ],
   "source": [
    "# 修改首要提示符\n",
    "sys.ps1 = 'C> '\n",
    "sys.ps1"
   ]
  },
  {
   "cell_type": "code",
   "execution_count": 12,
   "metadata": {},
   "outputs": [
    {
     "data": {
      "text/plain": [
       "['D:\\\\Study\\\\Github\\\\Study-Notes\\\\The Python Tutorial',\n",
       " 'd:\\\\study\\\\github\\\\study-notes\\\\myenv\\\\scripts\\\\python38.zip',\n",
       " 'c:\\\\python38\\\\DLLs',\n",
       " 'c:\\\\python38\\\\lib',\n",
       " 'c:\\\\python38',\n",
       " 'd:\\\\study\\\\github\\\\study-notes\\\\myenv',\n",
       " '',\n",
       " 'd:\\\\study\\\\github\\\\study-notes\\\\myenv\\\\lib\\\\site-packages',\n",
       " 'd:\\\\study\\\\github\\\\study-notes\\\\myenv\\\\lib\\\\site-packages\\\\win32',\n",
       " 'd:\\\\study\\\\github\\\\study-notes\\\\myenv\\\\lib\\\\site-packages\\\\win32\\\\lib',\n",
       " 'd:\\\\study\\\\github\\\\study-notes\\\\myenv\\\\lib\\\\site-packages\\\\Pythonwin',\n",
       " 'd:\\\\study\\\\github\\\\study-notes\\\\myenv\\\\lib\\\\site-packages\\\\IPython\\\\extensions',\n",
       " 'C:\\\\Users\\\\linki\\\\.ipython']"
      ]
     },
     "execution_count": 12,
     "metadata": {},
     "output_type": "execute_result"
    }
   ],
   "source": [
    "import sys\n",
    "sys.path    # 解释器的模块搜索路径"
   ]
  },
  {
   "cell_type": "code",
   "execution_count": 13,
   "metadata": {},
   "outputs": [
    {
     "data": {
      "text/plain": [
       "['D:\\\\Study\\\\Github\\\\Study-Notes\\\\The Python Tutorial',\n",
       " 'd:\\\\study\\\\github\\\\study-notes\\\\myenv\\\\scripts\\\\python38.zip',\n",
       " 'c:\\\\python38\\\\DLLs',\n",
       " 'c:\\\\python38\\\\lib',\n",
       " 'c:\\\\python38',\n",
       " 'd:\\\\study\\\\github\\\\study-notes\\\\myenv',\n",
       " '',\n",
       " 'd:\\\\study\\\\github\\\\study-notes\\\\myenv\\\\lib\\\\site-packages',\n",
       " 'd:\\\\study\\\\github\\\\study-notes\\\\myenv\\\\lib\\\\site-packages\\\\win32',\n",
       " 'd:\\\\study\\\\github\\\\study-notes\\\\myenv\\\\lib\\\\site-packages\\\\win32\\\\lib',\n",
       " 'd:\\\\study\\\\github\\\\study-notes\\\\myenv\\\\lib\\\\site-packages\\\\Pythonwin',\n",
       " 'd:\\\\study\\\\github\\\\study-notes\\\\myenv\\\\lib\\\\site-packages\\\\IPython\\\\extensions',\n",
       " 'C:\\\\Users\\\\linki\\\\.ipython',\n",
       " '/ufs/guido/lib/python']"
      ]
     },
     "execution_count": 13,
     "metadata": {},
     "output_type": "execute_result"
    }
   ],
   "source": [
    "# 添加模块搜索路径\n",
    "sys.path.append('/ufs/guido/lib/python')\n",
    "sys.path"
   ]
  },
  {
   "cell_type": "markdown",
   "metadata": {},
   "source": [
    "## [dir()](https://docs.python.org/zh-cn/3/library/functions.html#dir) 函数\n",
    "\n",
    "内置函数 `dir()`\n",
    "- 查找模块定义的名称\n",
    "- 返回排序过的字符串列表\n",
    "- 列出所有类型的名称：变量，模块，函数，等等\n",
    "\n",
    "内置函数和变量\n",
    "- 定义在标准模块 [builtins](https://docs.python.org/zh-cn/3/library/builtins.html#module-builtins) 中"
   ]
  },
  {
   "cell_type": "code",
   "execution_count": 14,
   "metadata": {},
   "outputs": [
    {
     "data": {
      "text/plain": [
       "['__builtins__',\n",
       " '__cached__',\n",
       " '__doc__',\n",
       " '__file__',\n",
       " '__loader__',\n",
       " '__name__',\n",
       " '__package__',\n",
       " '__spec__',\n",
       " 'fib',\n",
       " 'fib2']"
      ]
     },
     "execution_count": 14,
     "metadata": {},
     "output_type": "execute_result"
    }
   ],
   "source": [
    "import fibo, sys\n",
    "dir(fibo)"
   ]
  },
  {
   "cell_type": "code",
   "execution_count": 15,
   "metadata": {
    "scrolled": true
   },
   "outputs": [
    {
     "data": {
      "text/plain": [
       "['__breakpointhook__',\n",
       " '__displayhook__',\n",
       " '__doc__',\n",
       " '__excepthook__',\n",
       " '__interactivehook__',\n",
       " '__loader__',\n",
       " '__name__',\n",
       " '__package__',\n",
       " '__spec__',\n",
       " '__stderr__',\n",
       " '__stdin__',\n",
       " '__stdout__',\n",
       " '__unraisablehook__',\n",
       " '_base_executable',\n",
       " '_clear_type_cache',\n",
       " '_current_frames',\n",
       " '_debugmallocstats',\n",
       " '_enablelegacywindowsfsencoding',\n",
       " '_framework',\n",
       " '_getframe',\n",
       " '_git',\n",
       " '_home',\n",
       " '_xoptions',\n",
       " 'addaudithook',\n",
       " 'api_version',\n",
       " 'argv',\n",
       " 'audit',\n",
       " 'base_exec_prefix',\n",
       " 'base_prefix',\n",
       " 'breakpointhook',\n",
       " 'builtin_module_names',\n",
       " 'byteorder',\n",
       " 'call_tracing',\n",
       " 'callstats',\n",
       " 'copyright',\n",
       " 'displayhook',\n",
       " 'dllhandle',\n",
       " 'dont_write_bytecode',\n",
       " 'exc_info',\n",
       " 'excepthook',\n",
       " 'exec_prefix',\n",
       " 'executable',\n",
       " 'exit',\n",
       " 'flags',\n",
       " 'float_info',\n",
       " 'float_repr_style',\n",
       " 'get_asyncgen_hooks',\n",
       " 'get_coroutine_origin_tracking_depth',\n",
       " 'getallocatedblocks',\n",
       " 'getcheckinterval',\n",
       " 'getdefaultencoding',\n",
       " 'getfilesystemencodeerrors',\n",
       " 'getfilesystemencoding',\n",
       " 'getprofile',\n",
       " 'getrecursionlimit',\n",
       " 'getrefcount',\n",
       " 'getsizeof',\n",
       " 'getswitchinterval',\n",
       " 'gettrace',\n",
       " 'getwindowsversion',\n",
       " 'hash_info',\n",
       " 'hexversion',\n",
       " 'implementation',\n",
       " 'int_info',\n",
       " 'intern',\n",
       " 'is_finalizing',\n",
       " 'maxsize',\n",
       " 'maxunicode',\n",
       " 'meta_path',\n",
       " 'modules',\n",
       " 'path',\n",
       " 'path_hooks',\n",
       " 'path_importer_cache',\n",
       " 'platform',\n",
       " 'prefix',\n",
       " 'ps1',\n",
       " 'ps2',\n",
       " 'ps3',\n",
       " 'pycache_prefix',\n",
       " 'set_asyncgen_hooks',\n",
       " 'set_coroutine_origin_tracking_depth',\n",
       " 'setcheckinterval',\n",
       " 'setprofile',\n",
       " 'setrecursionlimit',\n",
       " 'setswitchinterval',\n",
       " 'settrace',\n",
       " 'stderr',\n",
       " 'stdin',\n",
       " 'stdout',\n",
       " 'thread_info',\n",
       " 'unraisablehook',\n",
       " 'version',\n",
       " 'version_info',\n",
       " 'warnoptions',\n",
       " 'winver']"
      ]
     },
     "execution_count": 15,
     "metadata": {},
     "output_type": "execute_result"
    }
   ],
   "source": [
    "dir(sys)  "
   ]
  },
  {
   "cell_type": "code",
   "execution_count": 16,
   "metadata": {
    "scrolled": true
   },
   "outputs": [
    {
     "data": {
      "text/plain": [
       "['In',\n",
       " 'Out',\n",
       " '_',\n",
       " '_10',\n",
       " '_11',\n",
       " '_12',\n",
       " '_13',\n",
       " '_14',\n",
       " '_15',\n",
       " '_2',\n",
       " '_3',\n",
       " '_9',\n",
       " '__',\n",
       " '___',\n",
       " '__builtin__',\n",
       " '__builtins__',\n",
       " '__doc__',\n",
       " '__loader__',\n",
       " '__name__',\n",
       " '__package__',\n",
       " '__spec__',\n",
       " '_dh',\n",
       " '_i',\n",
       " '_i1',\n",
       " '_i10',\n",
       " '_i11',\n",
       " '_i12',\n",
       " '_i13',\n",
       " '_i14',\n",
       " '_i15',\n",
       " '_i16',\n",
       " '_i2',\n",
       " '_i3',\n",
       " '_i4',\n",
       " '_i5',\n",
       " '_i6',\n",
       " '_i7',\n",
       " '_i8',\n",
       " '_i9',\n",
       " '_ih',\n",
       " '_ii',\n",
       " '_iii',\n",
       " '_oh',\n",
       " 'a',\n",
       " 'exit',\n",
       " 'fib',\n",
       " 'fib2',\n",
       " 'fibo',\n",
       " 'fibonacci',\n",
       " 'get_ipython',\n",
       " 'quit',\n",
       " 'sys']"
      ]
     },
     "execution_count": 16,
     "metadata": {},
     "output_type": "execute_result"
    }
   ],
   "source": [
    "# 不使用参数，列出当前定义的名称\n",
    "a = [1, 2, 3, 4, 5]\n",
    "import fibo\n",
    "fib = fibo.fib\n",
    "dir()"
   ]
  },
  {
   "cell_type": "code",
   "execution_count": 17,
   "metadata": {},
   "outputs": [
    {
     "data": {
      "text/plain": [
       "['ArithmeticError',\n",
       " 'AssertionError',\n",
       " 'AttributeError',\n",
       " 'BaseException',\n",
       " 'BlockingIOError',\n",
       " 'BrokenPipeError',\n",
       " 'BufferError',\n",
       " 'BytesWarning',\n",
       " 'ChildProcessError',\n",
       " 'ConnectionAbortedError',\n",
       " 'ConnectionError',\n",
       " 'ConnectionRefusedError',\n",
       " 'ConnectionResetError',\n",
       " 'DeprecationWarning',\n",
       " 'EOFError',\n",
       " 'Ellipsis',\n",
       " 'EnvironmentError',\n",
       " 'Exception',\n",
       " 'False',\n",
       " 'FileExistsError',\n",
       " 'FileNotFoundError',\n",
       " 'FloatingPointError',\n",
       " 'FutureWarning',\n",
       " 'GeneratorExit',\n",
       " 'IOError',\n",
       " 'ImportError',\n",
       " 'ImportWarning',\n",
       " 'IndentationError',\n",
       " 'IndexError',\n",
       " 'InterruptedError',\n",
       " 'IsADirectoryError',\n",
       " 'KeyError',\n",
       " 'KeyboardInterrupt',\n",
       " 'LookupError',\n",
       " 'MemoryError',\n",
       " 'ModuleNotFoundError',\n",
       " 'NameError',\n",
       " 'None',\n",
       " 'NotADirectoryError',\n",
       " 'NotImplemented',\n",
       " 'NotImplementedError',\n",
       " 'OSError',\n",
       " 'OverflowError',\n",
       " 'PendingDeprecationWarning',\n",
       " 'PermissionError',\n",
       " 'ProcessLookupError',\n",
       " 'RecursionError',\n",
       " 'ReferenceError',\n",
       " 'ResourceWarning',\n",
       " 'RuntimeError',\n",
       " 'RuntimeWarning',\n",
       " 'StopAsyncIteration',\n",
       " 'StopIteration',\n",
       " 'SyntaxError',\n",
       " 'SyntaxWarning',\n",
       " 'SystemError',\n",
       " 'SystemExit',\n",
       " 'TabError',\n",
       " 'TimeoutError',\n",
       " 'True',\n",
       " 'TypeError',\n",
       " 'UnboundLocalError',\n",
       " 'UnicodeDecodeError',\n",
       " 'UnicodeEncodeError',\n",
       " 'UnicodeError',\n",
       " 'UnicodeTranslateError',\n",
       " 'UnicodeWarning',\n",
       " 'UserWarning',\n",
       " 'ValueError',\n",
       " 'Warning',\n",
       " 'WindowsError',\n",
       " 'ZeroDivisionError',\n",
       " '__IPYTHON__',\n",
       " '__build_class__',\n",
       " '__debug__',\n",
       " '__doc__',\n",
       " '__import__',\n",
       " '__loader__',\n",
       " '__name__',\n",
       " '__package__',\n",
       " '__spec__',\n",
       " 'abs',\n",
       " 'all',\n",
       " 'any',\n",
       " 'ascii',\n",
       " 'bin',\n",
       " 'bool',\n",
       " 'breakpoint',\n",
       " 'bytearray',\n",
       " 'bytes',\n",
       " 'callable',\n",
       " 'chr',\n",
       " 'classmethod',\n",
       " 'compile',\n",
       " 'complex',\n",
       " 'copyright',\n",
       " 'credits',\n",
       " 'delattr',\n",
       " 'dict',\n",
       " 'dir',\n",
       " 'display',\n",
       " 'divmod',\n",
       " 'enumerate',\n",
       " 'eval',\n",
       " 'exec',\n",
       " 'filter',\n",
       " 'float',\n",
       " 'format',\n",
       " 'frozenset',\n",
       " 'get_ipython',\n",
       " 'getattr',\n",
       " 'globals',\n",
       " 'hasattr',\n",
       " 'hash',\n",
       " 'help',\n",
       " 'hex',\n",
       " 'id',\n",
       " 'input',\n",
       " 'int',\n",
       " 'isinstance',\n",
       " 'issubclass',\n",
       " 'iter',\n",
       " 'len',\n",
       " 'license',\n",
       " 'list',\n",
       " 'locals',\n",
       " 'map',\n",
       " 'max',\n",
       " 'memoryview',\n",
       " 'min',\n",
       " 'next',\n",
       " 'object',\n",
       " 'oct',\n",
       " 'open',\n",
       " 'ord',\n",
       " 'pow',\n",
       " 'print',\n",
       " 'property',\n",
       " 'range',\n",
       " 'repr',\n",
       " 'reversed',\n",
       " 'round',\n",
       " 'set',\n",
       " 'setattr',\n",
       " 'slice',\n",
       " 'sorted',\n",
       " 'staticmethod',\n",
       " 'str',\n",
       " 'sum',\n",
       " 'super',\n",
       " 'tuple',\n",
       " 'type',\n",
       " 'vars',\n",
       " 'zip']"
      ]
     },
     "execution_count": 17,
     "metadata": {},
     "output_type": "execute_result"
    }
   ],
   "source": [
    "# 内置函数和变量的名称\n",
    "import builtins\n",
    "dir(builtins)"
   ]
  },
  {
   "cell_type": "markdown",
   "metadata": {},
   "source": [
    "## 包\n",
    "\n",
    "通过“带点号的模块名”来构造 Python 模块命名空间的方法\n",
    "- `A.B` 表示 `A` 包中名为 `B` 的子模块\n",
    "\n",
    "可能的包结构\n",
    "\n",
    "```\n",
    "# 统一处理声音文件和声音数据\n",
    "\n",
    "sound/                          Top-level package\n",
    "      __init__.py               Initialize the sound package\n",
    "      formats/                  Subpackage for file format conversions\n",
    "              __init__.py\n",
    "              wavread.py\n",
    "              wavwrite.py\n",
    "              aiffread.py\n",
    "              aiffwrite.py\n",
    "              auread.py\n",
    "              auwrite.py\n",
    "              ...\n",
    "      effects/                  Subpackage for sound effects\n",
    "              __init__.py\n",
    "              echo.py\n",
    "              surround.py\n",
    "              reverse.py\n",
    "              ...\n",
    "      filters/                  Subpackage for filters\n",
    "              __init__.py\n",
    "              equalizer.py\n",
    "              vocoder.py\n",
    "              karaoke.py\n",
    "              ...\n",
    "```\n",
    "\n",
    "导入包时，Python 搜索 `sys.path` 里的目录，查找包的子目录\n",
    "\n",
    "必须有 `__init__.py` 文件才能让 Python 将包含该文件的目录当作包\n",
    "- 防止具有通常名称（例如 `string`）的目录隐藏之后在模块搜索路径上出现的有效模块\n",
    "- 在最简单的情况下，`__init__.py` 可以只是一个空文件\n",
    "- 也可以执行包的初始化代码或设置 `__all__` 变量\n",
    "\n",
    "```python\n",
    "# 从包中导入单个模块\n",
    "import sound.effects.echo    # 加载子模块\n",
    "# 引用时必须使用全名\n",
    "sound.effects.echo.echofilter(input, output, delay=0.7, atten=4)\n",
    "\n",
    "# 导入子模块\n",
    "from sound.effects import echo\n",
    "# 无需包前缀\n",
    "echo.echofilter(input, output, delay=0.7, atten=4)\n",
    "\n",
    "# 直接导入所需的函数或变量\n",
    "from sound.effects.echo import echofilter    # 加载子模块 echo\n",
    "echofilter(input, output, delay=0.7, atten=4)\n",
    "```\n",
    "\n",
    "`from package import item`\n",
    "- 报的子模块（子包）\n",
    "- 包中定义的其他名称\n",
    "    - 函数、类、变量\n",
    "- `import` 语句首先测试是否在包中定义了 item\n",
    "- 如果没有，则假定它是一个模块并尝试加载它\n",
    "- 如果找不到它，则引发 [ImportError](https://docs.python.org/zh-cn/3/library/exceptions.html#ImportError) 异常\n",
    "\n",
    "`import item.subitem.subsubitem`\n",
    "- 除了最后一项之外的每一项都必须是一个包\n",
    "- 最后一项可以是模块或包\n",
    "    - 不能是前一项中定义的类、函数、变量"
   ]
  },
  {
   "cell_type": "markdown",
   "metadata": {},
   "source": [
    "### 包的显式索引\n",
    "\n",
    "`import` 语句规范\n",
    "- 如果一个包的 `__init__.py` 代码定义了一个名为 `__all__` 的列表，它会被视为在遇到 `from package import *` 时应该导入的模块名列表\n",
    "- 在发布该包的新版本时，包作者可以决定是否让此列表保持更新\n",
    "- 包作者如果认为从他们的包中导入 * 的操作没有必要被使用，也可以决定不支持此列表\n",
    "\n",
    "文件 `sound/effects/__init__.py` 可以包含以下代码\n",
    "- `from sound.effects import *` 将导入 sound 包的三个命名子模块\n",
    "\n",
    "```python\n",
    "__all__ = [\"echo\", \"surround\", \"reverse\"]\n",
    "```\n",
    "\n",
    "如果没有定义 `__all__`\n",
    "- `from sound.effects import *` 语句不会从包 sound.effects 中导入所有子模块到当前命名空间\n",
    "- 只确保导入了包 sound.effects （可能运行任何在 `__init__.py` 中的初始化代码）\n",
    "- 然后导入包中定义的任何名称\n",
    "    - `__init__.py` 定义的任何名称（以及显式加载的子模块）\n",
    "    - 由之前的 import 语句显式加载的包的任何子模块\n",
    "\n",
    "```python\n",
    "import sound.effects.echo\n",
    "import sound.effects.surround\n",
    "# 将 echo 和 surround 模块导入到当前命名空间\n",
    "# 因为它们定义在 sound.effects 包中\n",
    "from sound.effects import *\n",
    "```\n",
    "\n",
    "`from package import specific_submodule`\n",
    "- 推荐的表示方式\n",
    "- 除非导入的模块需要使用来自不同包的同名子模块"
   ]
  },
  {
   "cell_type": "markdown",
   "metadata": {},
   "source": [
    "### 构造子包\n",
    "\n",
    "使用绝对导入引用兄弟包的子模块\n",
    "- Python 应用程序主模块的模块必须始终使用绝对导入\n",
    "    - 主模块的名称总是 `\"__main__\"`\n",
    "\n",
    "使用 import 语句的 `from module import name` 形式编写相对导入\n",
    "- 使用前导点表示相对导入中涉及的当前包和父包\n",
    "- 相对导入基于当前模块的名称进行导入\n",
    "\n",
    "```python\n",
    "from . import echo\n",
    "from .. import formats\n",
    "from ..filters import equalizer\n",
    "```"
   ]
  },
  {
   "cell_type": "markdown",
   "metadata": {},
   "source": [
    "### 多个目录中的包\n",
    "\n",
    "包的特殊属性 [\\_\\_path\\_\\_](https://docs.python.org/zh-cn/3/reference/import.html#__path__)\n",
    "- 初始化为一个列表\n",
    "    - 包含在执行该文件中的代码之前保存包的文件 `__init__.py` 的目录的名称\n",
    "- 可以修改\n",
    "    - 影响将来对包中包含的模块和子包的搜索\n",
    "- 可用于扩展程序包中的模块集\n",
    "\n",
    "---"
   ]
  },
  {
   "cell_type": "markdown",
   "metadata": {},
   "source": [
    "## 格式化输出\n",
    "\n",
    "1. [格式化字符串字面值](https://docs.python.org/zh-cn/3/tutorial/inputoutput.html#tut-f-strings)\n",
    "- 在字符串的开始引号或三引号前加上一个 `f` 或 `F`\n",
    "- 可以在 `{` 和 `}` 字符之间写可引用的变量或字面值的 Python 表达式"
   ]
  },
  {
   "cell_type": "code",
   "execution_count": 18,
   "metadata": {},
   "outputs": [
    {
     "data": {
      "text/plain": [
       "'Results of the 2016 Referendum'"
      ]
     },
     "execution_count": 18,
     "metadata": {},
     "output_type": "execute_result"
    }
   ],
   "source": [
    "year = 2016\n",
    "event = 'Referendum'\n",
    "f'Results of the {year} {event}'    # 引用变量"
   ]
  },
  {
   "cell_type": "markdown",
   "metadata": {},
   "source": [
    "2. 字符串的 [str.format()](https://docs.python.org/zh-cn/3/library/stdtypes.html#str.format) 方法\n",
    "- 使用 `{` 和 `}` 标记变量将被替换的位置\n",
    "- 可以提供详细的格式化指令\n",
    "- 需要提供格式化的信息"
   ]
  },
  {
   "cell_type": "code",
   "execution_count": 19,
   "metadata": {},
   "outputs": [
    {
     "data": {
      "text/plain": [
       "' 42572654 YES votes  49.67%'"
      ]
     },
     "execution_count": 19,
     "metadata": {},
     "output_type": "execute_result"
    }
   ],
   "source": [
    "yes_votes = 42_572_654\n",
    "no_votes = 43_132_495\n",
    "percentage = yes_votes / (yes_votes + no_votes)\n",
    "'{:-9} YES votes  {:2.2%}'.format(yes_votes, percentage)"
   ]
  },
  {
   "cell_type": "markdown",
   "metadata": {},
   "source": [
    "3. 字符串切片和连接操作\n",
    "- 字符串类型有一些方法可以执行将字符串填充到给定列宽的操作"
   ]
  },
  {
   "cell_type": "code",
   "execution_count": 20,
   "metadata": {},
   "outputs": [
    {
     "data": {
      "text/plain": [
       "'Hello, Python'"
      ]
     },
     "execution_count": 20,
     "metadata": {},
     "output_type": "execute_result"
    }
   ],
   "source": [
    "s = \"Hello, World\"\n",
    "s[:7] + \"Python\""
   ]
  },
  {
   "cell_type": "markdown",
   "metadata": {},
   "source": [
    "4. 快速显示（将任何值转化为字符串）\n",
    "- [repr()](https://docs.python.org/zh-cn/3/library/functions.html#repr)\n",
    "    - 用于生成解释器可读的表示\n",
    "    - 如果没有等效的语法，引发 [SynatxError](https://docs.python.org/zh-cn/3/library/exceptions.html#SyntaxError) 异常\n",
    "- [str()](https://docs.python.org/zh-cn/3/library/stdtypes.html#str)\n",
    "    - 返回人类可读的值的表示\n",
    "    - 对于没有人类可读性的表示的对象，将返回和 `repr()` 一样的值\n",
    "- 很多值使用任一函数都具有相同的表示\n",
    "    - 比如数字或类似列表和字典的结构\n",
    "- 特殊的是字符串有两个不同的表示"
   ]
  },
  {
   "cell_type": "code",
   "execution_count": 21,
   "metadata": {},
   "outputs": [
    {
     "data": {
      "text/plain": [
       "'Hello, world.'"
      ]
     },
     "execution_count": 21,
     "metadata": {},
     "output_type": "execute_result"
    }
   ],
   "source": [
    "s = 'Hello, world.'\n",
    "str(s)"
   ]
  },
  {
   "cell_type": "code",
   "execution_count": 22,
   "metadata": {},
   "outputs": [
    {
     "data": {
      "text/plain": [
       "\"'Hello, world.'\""
      ]
     },
     "execution_count": 22,
     "metadata": {},
     "output_type": "execute_result"
    }
   ],
   "source": [
    "repr(s)"
   ]
  },
  {
   "cell_type": "code",
   "execution_count": 23,
   "metadata": {},
   "outputs": [
    {
     "data": {
      "text/plain": [
       "'0.14285714285714285'"
      ]
     },
     "execution_count": 23,
     "metadata": {},
     "output_type": "execute_result"
    }
   ],
   "source": [
    "str(1/7)"
   ]
  },
  {
   "cell_type": "code",
   "execution_count": 24,
   "metadata": {},
   "outputs": [
    {
     "name": "stdout",
     "output_type": "stream",
     "text": [
      "The value of x is 32.5, and y is 40000...\n"
     ]
    }
   ],
   "source": [
    "# 数字\n",
    "x = 10 * 3.25\n",
    "y = 200 * 200\n",
    "s = 'The value of x is ' + repr(x) + ', and y is ' + repr(y) + '...'\n",
    "print(s)"
   ]
  },
  {
   "cell_type": "code",
   "execution_count": 25,
   "metadata": {},
   "outputs": [
    {
     "name": "stdout",
     "output_type": "stream",
     "text": [
      "'hello, world\\n'\n"
     ]
    }
   ],
   "source": [
    "# The repr() of a string adds string quotes and backslashes:\n",
    "hello = 'hello, world\\n'\n",
    "hellos = repr(hello)    # 字符串引号和反斜杠\n",
    "print(hellos)"
   ]
  },
  {
   "cell_type": "code",
   "execution_count": 26,
   "metadata": {},
   "outputs": [
    {
     "data": {
      "text/plain": [
       "\"(32.5, 40000, ('spam', 'eggs'))\""
      ]
     },
     "execution_count": 26,
     "metadata": {},
     "output_type": "execute_result"
    }
   ],
   "source": [
    "# The argument to repr() may be any Python object:\n",
    "repr((x, y, ('spam', 'eggs')))    # 任意对象"
   ]
  },
  {
   "cell_type": "markdown",
   "metadata": {},
   "source": [
    "5. [strings](https://docs.python.org/zh-cn/3/library/string.html#module-string) 模块包含一个 [Template](https://docs.python.org/zh-cn/3/library/string.html#string.Template) 类\n",
    "- 使用类似 `$x` 的占位符，并用字典中的值替换\n",
    "- 对格式的控制较少"
   ]
  },
  {
   "cell_type": "code",
   "execution_count": 27,
   "metadata": {},
   "outputs": [
    {
     "data": {
      "text/plain": [
       "'jck likes cakes'"
      ]
     },
     "execution_count": 27,
     "metadata": {},
     "output_type": "execute_result"
    }
   ],
   "source": [
    "from string import Template\n",
    "s = Template('$who likes $what')\n",
    "s.substitute(who='jck', what='cakes')    # 执行模板替换"
   ]
  },
  {
   "cell_type": "markdown",
   "metadata": {},
   "source": [
    "### 格式化字符串文字\n",
    "\n",
    "简称 f-字符串\n",
    "- 在字符串前加上 `f` 或 `F` 并将表达式写成 `{expression}` 来在字符串中包含 Python 表达式的值\n",
    "- 可选的格式说明符可以跟在表达式后面\n",
    "    - 在 `:` 后传递一个整数可以指定最小字符宽度\n",
    "- 其他的修饰符可用于在格式化之前转换值\n",
    "    - `!a`：[ascii()](https://docs.python.org/zh-cn/3/library/functions.html#ascii)\n",
    "    - `!s`：[str()](https://docs.python.org/zh-cn/3/library/stdtypes.html#str)\n",
    "    - `!r`：[repr()](https://docs.python.org/zh-cn/3/library/functions.html#repr)\n",
    "- 格式规范参考：[格式规格迷你语言](https://docs.python.org/zh-cn/3/library/string.html#formatspec)"
   ]
  },
  {
   "cell_type": "code",
   "execution_count": 28,
   "metadata": {},
   "outputs": [
    {
     "name": "stdout",
     "output_type": "stream",
     "text": [
      "The value of pi is approximately 3.142.\n"
     ]
    }
   ],
   "source": [
    "# 保留小数点后三位\n",
    "import math\n",
    "print(f'The value of pi is approximately {math.pi:.3f}.')"
   ]
  },
  {
   "cell_type": "code",
   "execution_count": 29,
   "metadata": {},
   "outputs": [
    {
     "name": "stdout",
     "output_type": "stream",
     "text": [
      "Sjoerd     ==>       4127\n",
      "Jack       ==>       4098\n",
      "Dcab       ==>       7678\n"
     ]
    }
   ],
   "source": [
    "table = {'Sjoerd': 4127, 'Jack': 4098, 'Dcab': 7678}\n",
    "for name, phone in table.items():\n",
    "    print(f'{name:10} ==> {phone:10d}')    # 最小字符宽度"
   ]
  },
  {
   "cell_type": "code",
   "execution_count": 30,
   "metadata": {},
   "outputs": [
    {
     "name": "stdout",
     "output_type": "stream",
     "text": [
      "My hovercraft is full of eels.\n",
      "My hovercraft is full of 'eels'.\n"
     ]
    }
   ],
   "source": [
    "animals = 'eels'\n",
    "print(f'My hovercraft is full of {animals}.')\n",
    "# 格式化之前转换值\n",
    "print(f'My hovercraft is full of {animals!r}.')"
   ]
  },
  {
   "cell_type": "markdown",
   "metadata": {},
   "source": [
    "### 字符串的 [format()](https://docs.python.org/zh-cn/3/library/stdtypes.html#str.format) 方法\n",
    "\n",
    "对象\n",
    "- 花括号和其中的字符（称为格式字段）\n",
    "\n",
    "位置\n",
    "- 花括号中的数字\n",
    "\n",
    "使用关键字参数\n",
    "- 使用参数的名称引用它们的值\n",
    "\n",
    "非常长的格式字符串\n",
    "- 按名称引用变量\n",
    "    - 通过传递字典并使用方括号访问键 `[]`\n",
    "    - 通过使用 `**` 符号将字典作为关键字参数传递\n",
    "    - 使用内置函数 [vars()](https://docs.python.org/zh-cn/3/library/functions.html#vars) ，返回包含所有局部变量的字典\n",
    "    \n",
    "[格式字符串语法](https://docs.python.org/zh-cn/3/library/string.html#formatstrings)"
   ]
  },
  {
   "cell_type": "code",
   "execution_count": 31,
   "metadata": {},
   "outputs": [
    {
     "name": "stdout",
     "output_type": "stream",
     "text": [
      "We are the knights who say \"Ni!\"\n"
     ]
    }
   ],
   "source": [
    "print('We are the {} who say \"{}!\"'.format('knights', 'Ni'))"
   ]
  },
  {
   "cell_type": "code",
   "execution_count": 32,
   "metadata": {},
   "outputs": [
    {
     "name": "stdout",
     "output_type": "stream",
     "text": [
      "spam and eggs\n",
      "eggs and spam\n"
     ]
    }
   ],
   "source": [
    "print('{0} and {1}'.format('spam', 'eggs'))\n",
    "print('{1} and {0}'.format('spam', 'eggs'))"
   ]
  },
  {
   "cell_type": "code",
   "execution_count": 33,
   "metadata": {},
   "outputs": [
    {
     "name": "stdout",
     "output_type": "stream",
     "text": [
      "This spam is absolutely horrible.\n"
     ]
    }
   ],
   "source": [
    "# 关键字参数\n",
    "print('This {food} is {adjective}.'.format(\n",
    "      food='spam', adjective='absolutely horrible'))"
   ]
  },
  {
   "cell_type": "code",
   "execution_count": 34,
   "metadata": {},
   "outputs": [
    {
     "name": "stdout",
     "output_type": "stream",
     "text": [
      "The story of Bill, Manfred, and Georg.\n"
     ]
    }
   ],
   "source": [
    "# 位置和关键字参数可以任意组合\n",
    "print('The story of {0}, {1}, and {other}.'.format('Bill', 'Manfred',\n",
    "                                                    other='Georg'))"
   ]
  },
  {
   "cell_type": "code",
   "execution_count": 35,
   "metadata": {},
   "outputs": [
    {
     "name": "stdout",
     "output_type": "stream",
     "text": [
      "Jack: 4098; Sjoerd: 4127; Dcab: 8637678\n"
     ]
    }
   ],
   "source": [
    "# 方括号访问\n",
    "table = {'Sjoerd': 4127, 'Jack': 4098, 'Dcab': 8637678}\n",
    "print('Jack: {0[Jack]:d}; Sjoerd: {0[Sjoerd]:d}; '\n",
    "      'Dcab: {0[Dcab]:d}'.format(table))"
   ]
  },
  {
   "cell_type": "code",
   "execution_count": 36,
   "metadata": {},
   "outputs": [
    {
     "name": "stdout",
     "output_type": "stream",
     "text": [
      "Jack: 4098; Sjoerd: 4127; Dcab: 8637678\n"
     ]
    }
   ],
   "source": [
    "# 解包访问\n",
    "table = {'Sjoerd': 4127, 'Jack': 4098, 'Dcab': 8637678}\n",
    "print('Jack: {Jack:d}; Sjoerd: {Sjoerd:d}; Dcab: {Dcab:d}'.format(**table))"
   ]
  },
  {
   "cell_type": "code",
   "execution_count": 37,
   "metadata": {},
   "outputs": [
    {
     "name": "stdout",
     "output_type": "stream",
     "text": [
      " 1   1    1\n",
      " 2   4    8\n",
      " 3   9   27\n",
      " 4  16   64\n",
      " 5  25  125\n",
      " 6  36  216\n",
      " 7  49  343\n",
      " 8  64  512\n",
      " 9  81  729\n",
      "10 100 1000\n"
     ]
    }
   ],
   "source": [
    "# 使用内置函数 vars()\n",
    "for x in range(1, 11):\n",
    "    print('{0:2d} {1:3d} {2:4d}'.format(x, x*x, x*x*x))"
   ]
  },
  {
   "cell_type": "markdown",
   "metadata": {},
   "source": [
    "### 手动格式化字符串\n",
    "\n",
    "[str.rjust()](https://docs.python.org/zh-cn/3/library/stdtypes.html#str.rjust)、[str,ljust()](https://docs.python.org/zh-cn/3/library/stdtypes.html#str.ljust)、[str.center()](https://docs.python.org/zh-cn/3/library/stdtypes.html#str.center)\n",
    "- 通过填充空格来对给定宽度的字段中的字符串进行对齐\n",
    "- 返回新的字符串\n",
    "\n",
    "[str.zfill()](https://docs.python.org/zh-cn/3/library/stdtypes.html#str.zfill)\n",
    "- 在数字字符串的左边填充零\n",
    "- 能够识别正负号\n",
    "\n",
    "字符串插值\n",
    "- 给定 `'string' % values` ，则 `string` 中的 `%` 实例会以零个或多个 `values` 元素替换\n",
    "- [printf 风格的字符串格式化](https://docs.python.org/zh-cn/3/library/stdtypes.html#old-string-formatting)"
   ]
  },
  {
   "cell_type": "code",
   "execution_count": 38,
   "metadata": {},
   "outputs": [
    {
     "name": "stdout",
     "output_type": "stream",
     "text": [
      " 1   1    1\n",
      " 2   4    8\n",
      " 3   9   27\n",
      " 4  16   64\n",
      " 5  25  125\n",
      " 6  36  216\n",
      " 7  49  343\n",
      " 8  64  512\n",
      " 9  81  729\n",
      "10 100 1000\n"
     ]
    }
   ],
   "source": [
    "for x in range(1, 11):\n",
    "    # 通过空格添加列之间的空格\n",
    "    print(repr(x).rjust(2), repr(x*x).rjust(3), end=' ')\n",
    "    # str.rjust() 在左侧填充空格来对给定宽度的字段中的字符串进行右对齐\n",
    "    print(repr(x*x*x).rjust(4))"
   ]
  },
  {
   "cell_type": "code",
   "execution_count": 39,
   "metadata": {},
   "outputs": [
    {
     "data": {
      "text/plain": [
       "'00012'"
      ]
     },
     "execution_count": 39,
     "metadata": {},
     "output_type": "execute_result"
    }
   ],
   "source": [
    "# 填充 0\n",
    "'12'.zfill(5)"
   ]
  },
  {
   "cell_type": "code",
   "execution_count": 40,
   "metadata": {},
   "outputs": [
    {
     "data": {
      "text/plain": [
       "'-003.14'"
      ]
     },
     "execution_count": 40,
     "metadata": {},
     "output_type": "execute_result"
    }
   ],
   "source": [
    "# 识别负号\n",
    "'-3.14'.zfill(7)"
   ]
  },
  {
   "cell_type": "code",
   "execution_count": 41,
   "metadata": {},
   "outputs": [
    {
     "data": {
      "text/plain": [
       "'3.14159265359'"
      ]
     },
     "execution_count": 41,
     "metadata": {},
     "output_type": "execute_result"
    }
   ],
   "source": [
    "# 宽度小于字符串长度，返回原字符串的副本\n",
    "'3.14159265359'.zfill(5)"
   ]
  },
  {
   "cell_type": "code",
   "execution_count": 42,
   "metadata": {},
   "outputs": [
    {
     "name": "stdout",
     "output_type": "stream",
     "text": [
      "The value of pi is approximately 3.142.\n"
     ]
    }
   ],
   "source": [
    "# 字符串插值\n",
    "import math\n",
    "print('The value of pi is approximately %5.3f.' % math.pi)"
   ]
  },
  {
   "cell_type": "markdown",
   "metadata": {},
   "source": [
    "## 读写文件\n",
    "\n",
    "[open()](https://docs.python.org/zh-cn/3/library/functions.html#open) 返回一个 [file object](https://docs.python.org/zh-cn/3/glossary.html#term-file-object)\n",
    "\n",
    "常用参数：`open(filename, mode)`\n",
    "- filename：包含文件名的字符串\n",
    "- mode：包含一些描述文件使用方式的字符，默认为 `r`\n",
    "    - `r`：只能读取\n",
    "    - `w`：只能写入\n",
    "    - `a`：追加内容\n",
    "        - 任何写入的数据会自动添加到文件的末尾\n",
    "    - `r+`：读写\n",
    "    - `b`：二进制模式打开文件\n",
    "\n",
    "文本模式（text mode）\n",
    "- 从文件中读取或写入字符串时，都会以指定的编码方式进行编码\n",
    "    - 如果未指定编码格式，默认值与平台相关\n",
    "- 读取时默认把平台特定的行结束符转换为 `\\n`\n",
    "    - Unix 上的 `\\n` ， Windows 上的 `\\r\\n`\n",
    "- 写入时把 `\\n` 转换回平台特定的结束符\n",
    "\n",
    "二进制模式（binary mode）\n",
    "- 数据是以字节对象的形式进行读写的\n",
    "- 用于所有不包含文本的文件\n",
    "\n",
    "[with](https://docs.python.org/zh-cn/3/reference/compound_stmts.html#with) 关键字\n",
    "- 子句体结束后文件会正确关闭，即使在某个时刻引发了异常\n",
    "- 相比等效的 [try](https://docs.python.org/zh-cn/3/reference/compound_stmts.html#tryffi)-[finally](https://docs.python.org/zh-cn/3/reference/compound_stmts.html#finally) 代码块更简洁\n",
    "\n",
    "不使用 with 关键字\n",
    "- 必须使用 `f.close()` 关闭文件并立即释放它所使用的所有系统资源\n",
    "- 如果没有显式地关闭文件\n",
    "    - Python 的垃圾回收器最终将销毁该对象并关闭打开的文件，但这个文件可能会保持打开状态一段时间\n",
    "    - 不同的 Python 实现会在不同的时间进行清理"
   ]
  },
  {
   "cell_type": "code",
   "execution_count": 43,
   "metadata": {},
   "outputs": [
    {
     "data": {
      "text/plain": [
       "True"
      ]
     },
     "execution_count": 43,
     "metadata": {},
     "output_type": "execute_result"
    }
   ],
   "source": [
    "# 打开文件，子句体结束后自动关闭\n",
    "with open('workfile') as f:\n",
    "    read_data = f.read()\n",
    "\n",
    "# We can check that the file has been automatically closed.\n",
    "f.closed"
   ]
  },
  {
   "cell_type": "code",
   "execution_count": 44,
   "metadata": {},
   "outputs": [
    {
     "ename": "ValueError",
     "evalue": "I/O operation on closed file.",
     "output_type": "error",
     "traceback": [
      "\u001b[1;31m---------------------------------------------------------------------------\u001b[0m",
      "\u001b[1;31mValueError\u001b[0m                                Traceback (most recent call last)",
      "\u001b[1;32m<ipython-input-44-ee8545988b66>\u001b[0m in \u001b[0;36m<module>\u001b[1;34m\u001b[0m\n\u001b[0;32m      1\u001b[0m \u001b[1;31m# 通过 with 语句或者调用 f.close() 关闭文件对象后，尝试使用该文件对象将自动失败\u001b[0m\u001b[1;33m\u001b[0m\u001b[1;33m\u001b[0m\u001b[1;33m\u001b[0m\u001b[0m\n\u001b[0;32m      2\u001b[0m \u001b[0mf\u001b[0m\u001b[1;33m.\u001b[0m\u001b[0mclose\u001b[0m\u001b[1;33m(\u001b[0m\u001b[1;33m)\u001b[0m\u001b[1;33m\u001b[0m\u001b[1;33m\u001b[0m\u001b[0m\n\u001b[1;32m----> 3\u001b[1;33m \u001b[0mf\u001b[0m\u001b[1;33m.\u001b[0m\u001b[0mread\u001b[0m\u001b[1;33m(\u001b[0m\u001b[1;33m)\u001b[0m\u001b[1;33m\u001b[0m\u001b[1;33m\u001b[0m\u001b[0m\n\u001b[0m",
      "\u001b[1;31mValueError\u001b[0m: I/O operation on closed file."
     ]
    }
   ],
   "source": [
    "# 通过 with 语句或调用 f.close() 关闭文件对象后，尝试使用该文件对象将自动失败\n",
    "f.close()\n",
    "f.read()"
   ]
  },
  {
   "cell_type": "markdown",
   "metadata": {},
   "source": [
    "### 文件对象的方法\n",
    "\n",
    "假定已创建名为 `f` 的文件对象\n",
    "\n",
    "读取文件\n",
    "- `f.read(size)`\n",
    "    - 读取一些数据并将其作为字符串（文本模式）或字节串对象（二进制模式）返回\n",
    "    - size 可选\n",
    "        - 省略或为负数时返回整个文件的内容\n",
    "        - 返回至多 size 个字符或字节\n",
    "    - 到达文件末尾，返回空字符串 `''`\n",
    "- `f,readline()`\n",
    "    - 从文件中读取一行\n",
    "    - 保留字符串末尾的 `\\n`\n",
    "        - 如果文件不以换行符结尾，则在文件的最后一行省略\n",
    "    - 空行使用 `\\n` 表示\n",
    "    - 到达文件末尾，返回空字符串 `''`\n",
    "- `f.readlines()`\n",
    "    - 以列表的形式读取文件中的所有行\n",
    "    - 等价于 `list(f)`\n",
    "\n",
    "写入文件\n",
    "- `f.write(string)`\n",
    "    - 把 string 的内容写到文件中，返回写入的字符数\n",
    "- 在写入其他类型的对象之前，需要先把它们转化为字符串（文本模式）或者字节对象（二进制模式）"
   ]
  },
  {
   "cell_type": "code",
   "execution_count": 45,
   "metadata": {},
   "outputs": [
    {
     "data": {
      "text/plain": [
       "'This is the first line of the file.\\nSecond line of the file.'"
      ]
     },
     "execution_count": 45,
     "metadata": {},
     "output_type": "execute_result"
    }
   ],
   "source": [
    "# 读取整个文件的内容\n",
    "f = open(\"workfile\", \"r\")\n",
    "f.read()"
   ]
  },
  {
   "cell_type": "code",
   "execution_count": 46,
   "metadata": {},
   "outputs": [
    {
     "data": {
      "text/plain": [
       "''"
      ]
     },
     "execution_count": 46,
     "metadata": {},
     "output_type": "execute_result"
    }
   ],
   "source": [
    "# 到达文件末尾\n",
    "f.read()"
   ]
  },
  {
   "cell_type": "code",
   "execution_count": 47,
   "metadata": {},
   "outputs": [
    {
     "data": {
      "text/plain": [
       "'This is the first line of the file.\\n'"
      ]
     },
     "execution_count": 47,
     "metadata": {},
     "output_type": "execute_result"
    }
   ],
   "source": [
    "# 按行读取\n",
    "f.close()\n",
    "f = open(\"workfile\", \"r\")\n",
    "f.readline()    # 第一行"
   ]
  },
  {
   "cell_type": "code",
   "execution_count": 48,
   "metadata": {},
   "outputs": [
    {
     "data": {
      "text/plain": [
       "'Second line of the file.'"
      ]
     },
     "execution_count": 48,
     "metadata": {},
     "output_type": "execute_result"
    }
   ],
   "source": [
    "f.readline()    # 第二行"
   ]
  },
  {
   "cell_type": "code",
   "execution_count": 49,
   "metadata": {},
   "outputs": [
    {
     "data": {
      "text/plain": [
       "''"
      ]
     },
     "execution_count": 49,
     "metadata": {},
     "output_type": "execute_result"
    }
   ],
   "source": [
    "f.readline()    # 到达文件末尾"
   ]
  },
  {
   "cell_type": "code",
   "execution_count": 50,
   "metadata": {},
   "outputs": [
    {
     "name": "stdout",
     "output_type": "stream",
     "text": [
      "This is the first line of the file.\n",
      "Second line of the file."
     ]
    }
   ],
   "source": [
    "# 按行循环遍历\n",
    "f.close()\n",
    "f = open(\"workfile\", \"r\")\n",
    "for line in f:\n",
    "    print(line, end='')"
   ]
  },
  {
   "cell_type": "code",
   "execution_count": 51,
   "metadata": {},
   "outputs": [
    {
     "data": {
      "text/plain": [
       "23"
      ]
     },
     "execution_count": 51,
     "metadata": {},
     "output_type": "execute_result"
    }
   ],
   "source": [
    "# 写入文件\n",
    "f.close()\n",
    "f = open(\"workfile\", \"a\")\n",
    "f.write('This is the test line.\\n')"
   ]
  },
  {
   "cell_type": "code",
   "execution_count": 52,
   "metadata": {},
   "outputs": [
    {
     "data": {
      "text/plain": [
       "18"
      ]
     },
     "execution_count": 52,
     "metadata": {},
     "output_type": "execute_result"
    }
   ],
   "source": [
    "# 写入元组\n",
    "f.close()\n",
    "f = open(\"workfile\", \"a\")\n",
    "value = ('the answer', 42)\n",
    "s = str(value)  # convert the tuple to string\n",
    "f.write(s)"
   ]
  },
  {
   "cell_type": "markdown",
   "metadata": {},
   "source": [
    "`f.tell()` 返回文件对象在文件中的当前位置\n",
    "- 二进制模式下，从文件开始的字节数\n",
    "- 文本模式下的意义不明的数字\n",
    "\n",
    "`f.seek(offset, whence)` 改变文件对象的位置\n",
    "- 通过向一个参考点添加 offset 来计算位置\n",
    "- 参考点由 whence 参数指定，默认值为 0\n",
    "    - 0 表示从文件开头开始\n",
    "    - 1 表示使用当前文件位置\n",
    "    - 2 表示从文件末尾开始\n",
    "- 文本模式只允许相对文件开头搜索\n",
    "    - 唯一有效的 offset 值是那些能从 `f.tell()` 中返回的值或零\n",
    "    - 其他 offset 值都会产生未定义的行为"
   ]
  },
  {
   "cell_type": "code",
   "execution_count": 53,
   "metadata": {},
   "outputs": [
    {
     "data": {
      "text/plain": [
       "16"
      ]
     },
     "execution_count": 53,
     "metadata": {},
     "output_type": "execute_result"
    }
   ],
   "source": [
    "f.close()\n",
    "f = open('workfile2', 'rb+')    # 二进制模式打开文件\n",
    "f.write(b'0123456789abcdef')   # 从头开始，覆盖写入"
   ]
  },
  {
   "cell_type": "code",
   "execution_count": 54,
   "metadata": {},
   "outputs": [
    {
     "data": {
      "text/plain": [
       "5"
      ]
     },
     "execution_count": 54,
     "metadata": {},
     "output_type": "execute_result"
    }
   ],
   "source": [
    "# 第 6 个字节\n",
    "f.seek(5)      # Go to the 6th byte in the file"
   ]
  },
  {
   "cell_type": "code",
   "execution_count": 55,
   "metadata": {},
   "outputs": [
    {
     "data": {
      "text/plain": [
       "b'5'"
      ]
     },
     "execution_count": 55,
     "metadata": {},
     "output_type": "execute_result"
    }
   ],
   "source": [
    "# 读取 1 字节\n",
    "f.read(1)"
   ]
  },
  {
   "cell_type": "code",
   "execution_count": 56,
   "metadata": {},
   "outputs": [
    {
     "data": {
      "text/plain": [
       "13"
      ]
     },
     "execution_count": 56,
     "metadata": {},
     "output_type": "execute_result"
    }
   ],
   "source": [
    "# 倒数第三个字节\n",
    "f.seek(-3, 2)  # Go to the 3rd byte before the end"
   ]
  },
  {
   "cell_type": "code",
   "execution_count": 57,
   "metadata": {},
   "outputs": [
    {
     "data": {
      "text/plain": [
       "b'd'"
      ]
     },
     "execution_count": 57,
     "metadata": {},
     "output_type": "execute_result"
    }
   ],
   "source": [
    "f.read(1)"
   ]
  },
  {
   "cell_type": "code",
   "execution_count": 58,
   "metadata": {},
   "outputs": [],
   "source": [
    "# 关闭文件\n",
    "f.close()"
   ]
  },
  {
   "cell_type": "markdown",
   "metadata": {},
   "source": [
    "### 使用 [json](https://docs.python.org/zh-cn/3/library/json.html#module-json) 保存结构化数据\n",
    "\n",
    "[JSON (JavaScript Object Notation)](https://www.json.org/json-en.html)\n",
    "\n",
    "json 标准模块\n",
    "- 序列化（serializing）：采用 Python 数据层次结构，转化为字符串表示形式\n",
    "- 反序列化（deserializing）：从字符串表示中重建数据\n",
    "\n",
    ">  JSON 格式通常被现代应用程序用于数据交换。\n",
    "\n",
    "[pickle](https://docs.python.org/zh-cn/3/library/pickle.html#module-pickle) 封存模块\n",
    "\n",
    "> 与 JSON 不同，pickle 是一种允许对任意复杂 Python 对象进行序列化的协议。因此是 Python 特有的，不能用于与其他语言编写的应用程序通信。默认情况下它是不安全的：如果数据是由熟练的攻击者精心设计的，则反序列化来自不受信任来源的 pickle 数据可能可以执行任意代码。"
   ]
  },
  {
   "cell_type": "code",
   "execution_count": 59,
   "metadata": {},
   "outputs": [
    {
     "data": {
      "text/plain": [
       "'[1, \"simple\", \"list\"]'"
      ]
     },
     "execution_count": 59,
     "metadata": {},
     "output_type": "execute_result"
    }
   ],
   "source": [
    "# 查看 JSON 字符串表示\n",
    "import json\n",
    "json.dumps([1, 'simple', 'list'])"
   ]
  },
  {
   "cell_type": "markdown",
   "metadata": {},
   "source": [
    "[json.dumps()](https://docs.python.org/zh-cn/3/library/json.html#json.dumps)：将对象序列化为 JSON 格式的字符串\n",
    "\n",
    "[json.dump()](https://docs.python.org/zh-cn/3/library/json.html#json.dump)：将对象序列化为 [text file](https://docs.python.org/zh-cn/3/glossary.html#term-text-file)\n",
    "\n",
    "可以处理列表和字典\n",
    "- 在 JSON 中序列化任意类的实例需要格外的努力\n",
    "\n",
    "```python\n",
    "# 对象 x\n",
    "# 文本文件 f\n",
    "\n",
    "json.dump(x, f)\n",
    "\n",
    "x = json.load(f)    # 解码\n",
    "```"
   ]
  }
 ],
 "metadata": {
  "kernelspec": {
   "display_name": "Python 3",
   "language": "python",
   "name": "python3"
  },
  "language_info": {
   "codemirror_mode": {
    "name": "ipython",
    "version": 3
   },
   "file_extension": ".py",
   "mimetype": "text/x-python",
   "name": "python",
   "nbconvert_exporter": "python",
   "pygments_lexer": "ipython3",
   "version": "3.8.5"
  }
 },
 "nbformat": 4,
 "nbformat_minor": 4
}
